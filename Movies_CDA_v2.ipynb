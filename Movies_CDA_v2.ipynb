{
 "cells": [
  {
   "cell_type": "markdown",
   "id": "b3563b59",
   "metadata": {},
   "source": [
    "# Projeto ADC"
   ]
  },
  {
   "cell_type": "markdown",
   "id": "97f95fec",
   "metadata": {},
   "source": [
    "## Import libraries"
   ]
  },
  {
   "cell_type": "code",
   "execution_count": 1,
   "id": "56828cf4",
   "metadata": {},
   "outputs": [],
   "source": [
    "from datetime import datetime\n",
    "import pandas as pd\n",
    "import networkx as nx\n",
    "import matplotlib.pyplot as plt\n",
    "import pyarrow.parquet as pq"
   ]
  },
  {
   "cell_type": "markdown",
   "id": "acade2f2",
   "metadata": {},
   "source": [
    "## Converter txt para parquet"
   ]
  },
  {
   "cell_type": "code",
   "execution_count": null,
   "id": "9374bbde",
   "metadata": {},
   "outputs": [],
   "source": [
    "product_id = []\n",
    "user_id = []\n",
    "rev_helpful = [] # the helpfulness field will be a tuple where the first value is the number of users who found the review helpful and the last value represents the total number of users who read the review\n",
    "rev_score = []\n",
    "rev_time = []\n",
    "\n",
    "with open(\"movies.txt\", encoding=\"utf-8\", errors=\"ignore\") as file:\n",
    "    \n",
    "    block = []\n",
    "    for line in file:\n",
    "        if line.strip() == \"\":\n",
    "            if block:\n",
    "                for item in block:\n",
    "                    if item.startswith(\"product/productId:\"):\n",
    "                        product_id.append(item.split(\": \")[1].strip())\n",
    "                    elif item.startswith(\"review/userId:\"):\n",
    "                        user_id.append(item.split(\": \")[1].strip())\n",
    "                    elif item.startswith(\"review/helpfulness:\"):\n",
    "                        help_val = item.split(\": \")[1].strip()\n",
    "                        good, total = map(int, help_val.split(\"/\"))  # Parse as ints\n",
    "                        rev_helpful.append((good, total)) # store helpfulness score as a tuple\n",
    "                    elif item.startswith(\"review/score:\"):\n",
    "                        rev_score.append(float(item.split(\": \")[1].strip()))\n",
    "                    elif item.startswith(\"review/time:\"):\n",
    "                        rev_time.append(int(item.split(\": \")[1].strip()))\n",
    "                block = []\n",
    "        else:\n",
    "            block.append(line.strip())\n",
    "\n",
    "    # Process the last block if the file does not end with a blank line\n",
    "    if block:\n",
    "        for item in block:\n",
    "            if item.startswith(\"product/productId:\"):\n",
    "                product_id.append(item.split(\": \")[1].strip())\n",
    "            elif item.startswith(\"review/userId:\"):\n",
    "                user_id.append(item.split(\": \")[1].strip())\n",
    "            elif item.startswith(\"review/helpfulness:\"):\n",
    "                help_val = item.split(\": \")[1].strip()\n",
    "                good, total = map(int, help_val.split(\"/\"))  # Parse as ints\n",
    "                rev_helpful.append((good, total)) # store helpfulness score as a tuple\n",
    "            elif item.startswith(\"review/score:\"):\n",
    "                rev_score.append(float(item.split(\": \")[1].strip()))\n",
    "            elif item.startswith(\"review/time:\"):\n",
    "                rev_time.append(int(item.split(\": \")[1].strip()))\n",
    "    \n",
    "# make dataframe\n",
    "df = pd.DataFrame(\n",
    "    {\n",
    "        \"prod_id\": product_id,\n",
    "        \"user_id\": user_id,\n",
    "        \"rev_help\": rev_helpful,\n",
    "        \"rev_score\": rev_score,\n",
    "        \"rev_time\": rev_time,\n",
    "    }\n",
    ")\n",
    "\n",
    "# Add a new column for the sum of helpfulness good and total values\n",
    "df[\"helpfulness_sum\"] = df[\"rev_help\"].apply(lambda x: x[0] + x[1])\n",
    "\n",
    "# Filter DataFrame to retain rows with the maximum helpfulness sum for each unique review\n",
    "df_max_help = df.loc[\n",
    "    df.groupby([\"prod_id\", \"user_id\", \"rev_score\", \"rev_time\"])[\"helpfulness_sum\"].idxmax()\n",
    "]\n",
    "\n",
    "# Drop sum column\n",
    "df_max_help = df_max_help.drop(columns=[\"helpfulness_sum\"])\n",
    "\n",
    "# make parquet file\n",
    "df_max_help.to_parquet(\"movies_max_help.parquet\", index=False)"
   ]
  },
  {
   "cell_type": "markdown",
   "id": "9f6c755f",
   "metadata": {},
   "source": [
    "## Pandas dataframe"
   ]
  },
  {
   "cell_type": "code",
   "execution_count": 3,
   "id": "90abd8fe",
   "metadata": {},
   "outputs": [
    {
     "name": "stdout",
     "output_type": "stream",
     "text": [
      "Number of rows:  7882689\n"
     ]
    }
   ],
   "source": [
    "movies_pq = pd.read_parquet(\"movies_max_help.parquet\")\n",
    "\n",
    "#print do n de rows (esperado 7911684)\n",
    "print(\"Number of rows: \", movies_pq.shape[0])"
   ]
  },
  {
   "cell_type": "markdown",
   "id": "9b01a604",
   "metadata": {},
   "source": [
    "Dataset exploration"
   ]
  },
  {
   "cell_type": "code",
   "execution_count": null,
   "id": "958ef14e",
   "metadata": {},
   "outputs": [
    {
     "name": "stdout",
     "output_type": "stream",
     "text": [
      "Building...\n"
     ]
    },
    {
     "ename": "NameError",
     "evalue": "name 'product_id' is not defined",
     "output_type": "error",
     "traceback": [
      "\u001b[1;31m---------------------------------------------------------------------------\u001b[0m",
      "\u001b[1;31mNameError\u001b[0m                                 Traceback (most recent call last)",
      "Cell \u001b[1;32mIn[4], line 25\u001b[0m\n\u001b[0;32m     23\u001b[0m     \u001b[38;5;66;03m# Add graph elements\u001b[39;00m\n\u001b[0;32m     24\u001b[0m     G\u001b[38;5;241m.\u001b[39madd_node(user_id, \u001b[38;5;28mtype\u001b[39m\u001b[38;5;241m=\u001b[39m\u001b[38;5;124m'\u001b[39m\u001b[38;5;124muser\u001b[39m\u001b[38;5;124m'\u001b[39m)\n\u001b[1;32m---> 25\u001b[0m     G\u001b[38;5;241m.\u001b[39madd_node(product_id, \u001b[38;5;28mtype\u001b[39m\u001b[38;5;241m=\u001b[39m\u001b[38;5;124m'\u001b[39m\u001b[38;5;124mproduct\u001b[39m\u001b[38;5;124m'\u001b[39m)\n\u001b[0;32m     26\u001b[0m     G\u001b[38;5;241m.\u001b[39madd_edge(user_id, product_id, time\u001b[38;5;241m=\u001b[39mreview_time, month\u001b[38;5;241m=\u001b[39mreview_month)\n\u001b[0;32m     28\u001b[0m \u001b[38;5;66;03m# Count total users and products\u001b[39;00m\n",
      "\u001b[1;31mNameError\u001b[0m: name 'product_id' is not defined"
     ]
    }
   ],
   "source": [
    "# Define the time frame for the entire dataset\n",
    "print(\"Building...\")\n",
    "start_month = datetime(1997, 8, 1) # August 1997\n",
    "end_month = datetime(2012, 10, 31) # October 2012\n",
    "\n",
    "# Convert the datetime objects to UNIX timestamps\n",
    "start_timestamp = int(start_month.timestamp())\n",
    "end_timestamp = int(end_month.timestamp())\n",
    "\n",
    "# Create a new graph for the filtered data\n",
    "G = nx.Graph()\n",
    "\n",
    "# Open and process the file\n",
    "for _, review in movies_pq.iterrows():\n",
    "    user_id = review['user_id']\n",
    "    product_id = review['prod_id']\n",
    "    review_help = review['rev_help']\n",
    "    review_score = review['rev_score']\n",
    "    # Convert review time to a month-year string (e.g., \"1997-08\")\n",
    "    review_month = datetime.fromtimestamp(review['rev_time']).strftime(\"%Y-%m\")\n",
    "    \n",
    "    # Add graph elements\n",
    "    G.add_node(user_id, type='user')\n",
    "    G.add_node(product_id, type='product')\n",
    "    G.add_edge(user_id, product_id, time=review['rev_time'], month=review_month)\n",
    "\n",
    "# Count total users and products\n",
    "users = 0\n",
    "products = 0\n",
    "for _, attr in G.nodes(data=True):\n",
    "    node_type = attr.get('type')\n",
    "    if node_type == 'user':\n",
    "        users += 1\n",
    "    elif node_type == 'product':\n",
    "        products += 1\n",
    "\n",
    "print(f\"Total number of users: {users}\") # 889176 users (correct)\n",
    "print(f\"Total number of products: {products}\") # 253059 products (correct)\n",
    "print(f\"Total number of edges (reviews): {G.number_of_edges()}\") # 7831442 edges (reviews) (wrong: real value is 7911684)"
   ]
  },
  {
   "cell_type": "code",
   "execution_count": 7,
   "id": "4b2d7fcb",
   "metadata": {},
   "outputs": [
    {
     "name": "stdout",
     "output_type": "stream",
     "text": [
      "Building...\n",
      "Counting...\n",
      "Total number of users: 889176\n",
      "Total number of products: 253059\n",
      "Total number of edges (reviews): 7831442\n"
     ]
    }
   ],
   "source": [
    "print(\"Building...\")\n",
    "G = nx.Graph()\n",
    "\n",
    "# Add user and product nodes\n",
    "G.add_nodes_from(movies_pq['user_id'].unique(), type='user')  # Add all unique users as nodes with attribute type='user'\n",
    "G.add_nodes_from(movies_pq['prod_id'].unique(), type='product')  # Add all unique products as nodes with attribute type='product'\n",
    "\n",
    "# Add edges with attributes\n",
    "edges = movies_pq[['user_id', 'prod_id', 'rev_time']].to_records(index=False)  # Convert to tuple records\n",
    "G.add_edges_from([(row.user_id, row.prod_id, {'time': row.rev_time}) for row in edges])  # Add edges with time\n",
    "\n",
    "# Count total users and products\n",
    "print(\"Counting...\")\n",
    "users = 0\n",
    "products = 0\n",
    "for _, attr in G.nodes(data=True):\n",
    "    node_type = attr.get('type')\n",
    "    if node_type == 'user':\n",
    "        users += 1\n",
    "    elif node_type == 'product':\n",
    "        products += 1\n",
    "\n",
    "print(f\"Total number of users: {users}\") # 889176 users (correct)\n",
    "print(f\"Total number of products: {products}\") # 253059 products (correct)\n",
    "print(f\"Total number of edges (reviews): {G.number_of_edges()}\") # 7831442 edges (reviews) (wrong: real value is 7911684)"
   ]
  },
  {
   "cell_type": "code",
   "execution_count": 17,
   "id": "593649da",
   "metadata": {},
   "outputs": [
    {
     "data": {
      "text/plain": [
       "28995"
      ]
     },
     "execution_count": 17,
     "metadata": {},
     "output_type": "execute_result"
    }
   ],
   "source": [
    "7911684-7882689"
   ]
  },
  {
   "cell_type": "code",
   "execution_count": 19,
   "id": "d56974e0",
   "metadata": {},
   "outputs": [
    {
     "name": "stdout",
     "output_type": "stream",
     "text": [
      "            prod_id         user_id  rev_score    rev_time\n",
      "276      B000063W1R   ADX5JX5LKLC22        5.0  1011312000\n",
      "412      B008FPU7AA  A1GGOC9PVDXW7Z        4.0  1284076800\n",
      "1119     B0001G6PZC   AJGRS32N1UPNG        5.0  1086566400\n",
      "1470     B002OHDRF2   AER15RIMV8E6D        5.0  1256601600\n",
      "1548     B002OHDRF2   AER15RIMV8E6D        5.0  1256601600\n",
      "...             ...             ...        ...         ...\n",
      "7909291  B00007KFPM  A192KEPM0HW6AC        5.0  1196467200\n",
      "7909295  B00007KFPM  A192KEPM0HW6AC        5.0  1196467200\n",
      "7909303  B00007KFPM  A1GGOC9PVDXW7Z        2.0  1253145600\n",
      "7909703  6304117345  A1X1CEGHTHMBL1        5.0  1345766400\n",
      "7911284  6302327776  A3784AEMB01IB4        4.0   948067200\n",
      "\n",
      "[28995 rows x 4 columns]\n"
     ]
    }
   ],
   "source": [
    "duplicates = movies_pq.duplicated()\n",
    "if duplicates.any():\n",
    "    print(movies_pq[duplicates])"
   ]
  },
  {
   "cell_type": "code",
   "execution_count": 16,
   "id": "e025826d",
   "metadata": {},
   "outputs": [
    {
     "data": {
      "text/html": [
       "<div>\n",
       "<style scoped>\n",
       "    .dataframe tbody tr th:only-of-type {\n",
       "        vertical-align: middle;\n",
       "    }\n",
       "\n",
       "    .dataframe tbody tr th {\n",
       "        vertical-align: top;\n",
       "    }\n",
       "\n",
       "    .dataframe thead th {\n",
       "        text-align: right;\n",
       "    }\n",
       "</style>\n",
       "<table border=\"1\" class=\"dataframe\">\n",
       "  <thead>\n",
       "    <tr style=\"text-align: right;\">\n",
       "      <th></th>\n",
       "      <th>prod_id</th>\n",
       "      <th>user_id</th>\n",
       "      <th>rev_score</th>\n",
       "      <th>rev_time</th>\n",
       "    </tr>\n",
       "  </thead>\n",
       "  <tbody>\n",
       "    <tr>\n",
       "      <th>0</th>\n",
       "      <td>B003AI2VGA</td>\n",
       "      <td>A141HP4LYPWMSR</td>\n",
       "      <td>3.0</td>\n",
       "      <td>1182729600</td>\n",
       "    </tr>\n",
       "    <tr>\n",
       "      <th>1</th>\n",
       "      <td>B003AI2VGA</td>\n",
       "      <td>A328S9RN3U5M68</td>\n",
       "      <td>3.0</td>\n",
       "      <td>1181952000</td>\n",
       "    </tr>\n",
       "    <tr>\n",
       "      <th>2</th>\n",
       "      <td>B003AI2VGA</td>\n",
       "      <td>A1I7QGUDP043DG</td>\n",
       "      <td>5.0</td>\n",
       "      <td>1164844800</td>\n",
       "    </tr>\n",
       "    <tr>\n",
       "      <th>3</th>\n",
       "      <td>B003AI2VGA</td>\n",
       "      <td>A1M5405JH9THP9</td>\n",
       "      <td>3.0</td>\n",
       "      <td>1197158400</td>\n",
       "    </tr>\n",
       "    <tr>\n",
       "      <th>4</th>\n",
       "      <td>B003AI2VGA</td>\n",
       "      <td>ATXL536YX71TR</td>\n",
       "      <td>3.0</td>\n",
       "      <td>1188345600</td>\n",
       "    </tr>\n",
       "    <tr>\n",
       "      <th>...</th>\n",
       "      <td>...</td>\n",
       "      <td>...</td>\n",
       "      <td>...</td>\n",
       "      <td>...</td>\n",
       "    </tr>\n",
       "    <tr>\n",
       "      <th>7911679</th>\n",
       "      <td>B003A3PGF8</td>\n",
       "      <td>A11H5P3Z6WGN8G</td>\n",
       "      <td>3.0</td>\n",
       "      <td>1262995200</td>\n",
       "    </tr>\n",
       "    <tr>\n",
       "      <th>7911680</th>\n",
       "      <td>B003A3PGF8</td>\n",
       "      <td>A7QMQBGJ2TCQG</td>\n",
       "      <td>5.0</td>\n",
       "      <td>1241308800</td>\n",
       "    </tr>\n",
       "    <tr>\n",
       "      <th>7911681</th>\n",
       "      <td>6304952198</td>\n",
       "      <td>AT0A56QQS6PKO</td>\n",
       "      <td>2.0</td>\n",
       "      <td>1180828800</td>\n",
       "    </tr>\n",
       "    <tr>\n",
       "      <th>7911682</th>\n",
       "      <td>6304952198</td>\n",
       "      <td>A23KKLV2CD39U8</td>\n",
       "      <td>4.0</td>\n",
       "      <td>1268265600</td>\n",
       "    </tr>\n",
       "    <tr>\n",
       "      <th>7911683</th>\n",
       "      <td>6304952198</td>\n",
       "      <td>AIW7RUV8P2FK1</td>\n",
       "      <td>5.0</td>\n",
       "      <td>1141776000</td>\n",
       "    </tr>\n",
       "  </tbody>\n",
       "</table>\n",
       "<p>7882689 rows × 4 columns</p>\n",
       "</div>"
      ],
      "text/plain": [
       "            prod_id         user_id  rev_score    rev_time\n",
       "0        B003AI2VGA  A141HP4LYPWMSR        3.0  1182729600\n",
       "1        B003AI2VGA  A328S9RN3U5M68        3.0  1181952000\n",
       "2        B003AI2VGA  A1I7QGUDP043DG        5.0  1164844800\n",
       "3        B003AI2VGA  A1M5405JH9THP9        3.0  1197158400\n",
       "4        B003AI2VGA   ATXL536YX71TR        3.0  1188345600\n",
       "...             ...             ...        ...         ...\n",
       "7911679  B003A3PGF8  A11H5P3Z6WGN8G        3.0  1262995200\n",
       "7911680  B003A3PGF8   A7QMQBGJ2TCQG        5.0  1241308800\n",
       "7911681  6304952198   AT0A56QQS6PKO        2.0  1180828800\n",
       "7911682  6304952198  A23KKLV2CD39U8        4.0  1268265600\n",
       "7911683  6304952198   AIW7RUV8P2FK1        5.0  1141776000\n",
       "\n",
       "[7882689 rows x 4 columns]"
      ]
     },
     "execution_count": 16,
     "metadata": {},
     "output_type": "execute_result"
    }
   ],
   "source": [
    "movies_pq.drop_duplicates()"
   ]
  },
  {
   "cell_type": "code",
   "execution_count": null,
   "id": "76a55161",
   "metadata": {},
   "outputs": [
    {
     "data": {
      "text/plain": [
       "'A12FLZREV32JOP'"
      ]
     },
     "execution_count": 20,
     "metadata": {},
     "output_type": "execute_result"
    }
   ],
   "source": [
    "review['user_id']"
   ]
  },
  {
   "cell_type": "code",
   "execution_count": 8,
   "id": "370a84e5",
   "metadata": {},
   "outputs": [
    {
     "data": {
      "text/plain": [
       "prod_id       object\n",
       "user_id       object\n",
       "rev_score    float64\n",
       "rev_time       int64\n",
       "dtype: object"
      ]
     },
     "execution_count": 8,
     "metadata": {},
     "output_type": "execute_result"
    }
   ],
   "source": [
    "movies_pq.dtypes"
   ]
  },
  {
   "cell_type": "code",
   "execution_count": 9,
   "id": "548dcb9c",
   "metadata": {},
   "outputs": [],
   "source": [
    "for _, review in movies_pq.iterrows():\n",
    "    if len(str(review['user_id'])) < 1 or len(str(review['prod_id'])) < 1:\n",
    "        print(\"error\")"
   ]
  },
  {
   "cell_type": "code",
   "execution_count": 15,
   "id": "68f8e158",
   "metadata": {},
   "outputs": [
    {
     "name": "stdout",
     "output_type": "stream",
     "text": [
      "The DataFrame does not contain null values.\n"
     ]
    }
   ],
   "source": [
    "if movies_pq.isnull().values.any():\n",
    "    print(\"The DataFrame contains null values.\")\n",
    "else:\n",
    "    print(\"The DataFrame does not contain null values.\")"
   ]
  },
  {
   "cell_type": "markdown",
   "id": "ac70982e",
   "metadata": {},
   "source": [
    "perceber se há dados null"
   ]
  },
  {
   "cell_type": "code",
   "execution_count": null,
   "id": "82ad37fa",
   "metadata": {},
   "outputs": [],
   "source": [
    "target_year = \"1999\" # 1997: 126 nodes; 1998: 5029 nodes; 1999: \n",
    "\n",
    "# Create a subgraph for the year\n",
    "print(f\"Making edges...\")\n",
    "year_edges = [(u, v, d) for u, v, d in G.edges(data=True) if d.get('month').startswith(target_year)]\n",
    "G_year = nx.Graph()\n",
    "\n",
    "print(f\"Adding edges...\")\n",
    "G_year.add_edges_from(year_edges)\n",
    "\n",
    "print(\"Copying node attributes...\")\n",
    "for node in G_year.nodes:\n",
    "    if node in G:\n",
    "        G_year.nodes[node].update(G.nodes[node])\n",
    "\n",
    "print(\"Calculating numbers...\")\n",
    "node_types = nx.get_node_attributes(G, \"type\")\n",
    "filtered_users = set()\n",
    "filtered_products = set()\n",
    "for n in G_year.nodes:\n",
    "    if node_types.get(n) == \"user\":\n",
    "        filtered_users.add(n)\n",
    "    elif node_types.get(n) == \"product\":\n",
    "        filtered_products.add(n)\n",
    "        \n",
    "print(f\"For {target_year}, there are {len(filtered_users)} users, {len(filtered_products)} products and {G_year.number_of_edges()} edges (reviews).\")"
   ]
  },
  {
   "cell_type": "code",
   "execution_count": null,
   "id": "62bc5218",
   "metadata": {},
   "outputs": [],
   "source": [
    "# Plot the graph\n",
    "print(\"Plotting graph...\")\n",
    "plt.figure(figsize=(12, 8))\n",
    "pos = nx.spring_layout(G_year)\n",
    "\n",
    "# Draw user nodes\n",
    "print(\"Drawing user nodes...\")\n",
    "nx.draw_networkx_nodes(G_year, pos, nodelist=filtered_users, node_size=50, node_color=\"blue\", label=\"Users\")\n",
    "\n",
    "# Draw product nodes\n",
    "print(\"Drawing product nodes...\")\n",
    "nx.draw_networkx_nodes(G_year, pos, nodelist=filtered_products, node_size=50, node_color=\"red\", label=\"Products\")\n",
    "\n",
    "# Draw edges\n",
    "print(\"Drawing edges...\")\n",
    "nx.draw_networkx_edges(G_year, pos, alpha=0.5, edge_color=\"gray\")\n",
    "\n",
    "# Add a legend and title\n",
    "plt.title(f\"Users vs. Products for {target_year} ({G_year.number_of_nodes()} nodes)\")\n",
    "plt.legend()\n",
    "plt.axis(\"off\")  # Turn off the axis\n",
    "\n",
    "# save plot\n",
    "print(\"Saving plot...\")\n",
    "output_filename = f\"network_{target_year}.png\"  # Change this as needed\n",
    "plt.savefig(output_filename, format=\"png\", dpi=300, bbox_inches=\"tight\")\n",
    "print(f\"Plot saved as {output_filename}\")\n",
    "\n",
    "print(\"Showing plot\")\n",
    "plt.show()"
   ]
  },
  {
   "cell_type": "code",
   "execution_count": null,
   "id": "dee83364",
   "metadata": {
    "scrolled": true
   },
   "outputs": [],
   "source": [
    "# Debugging: Look-up odd the user/product names and see if they're really that\n",
    "print(\"Node types summary:\")\n",
    "for node, attr in G_year.nodes(data=True):\n",
    "    print(f\"Node: {node}, Type: {attr.get('type')}\")\n",
    "    product_edges = [(u, v) for u, v, attr in G_year.edges(data=True)\n",
    "                 if G_year.nodes[u].get('type') == 'product' and G_year.nodes[v].get('type') == 'product']\n",
    "print(f\"Product-Product Edges: {product_edges}\")\n",
    "for u, v in product_edges:\n",
    "    print(f\"Edge between products: {u} (type: {G_year.nodes[u]['type']}), {v} (type: {G_year.nodes[v]['type']})\")"
   ]
  },
  {
   "cell_type": "code",
   "execution_count": null,
   "id": "aa0df9a5",
   "metadata": {
    "scrolled": true
   },
   "outputs": [],
   "source": [
    "search_id = \"A12TMPWWVE0HRX\"  # Replace with your target ID\n",
    "\n",
    "with open(\"movies.txt\", \"r\", encoding=\"utf-8\", errors=\"ignore\") as f:\n",
    "    for line in f:\n",
    "        if search_id in line:\n",
    "            print(line.strip())  # Print the matching line"
   ]
  },
  {
   "cell_type": "code",
   "execution_count": null,
   "id": "44ed1701",
   "metadata": {},
   "outputs": [],
   "source": [
    "# Step 1: Replace user_ids with integers\n",
    "user_mapping = {}  # Maps user_id to integer\n",
    "user_counter = 1  # Start numbering from 1\n",
    "\n",
    "# Step 2: Create a new graph with updated node labels\n",
    "G_transformed = nx.Graph()\n",
    "\n",
    "for u, v, data in G.edges(data=True):\n",
    "    # Check if the node is a user or product\n",
    "    if not u.startswith(\"B\"):  # Assume product_id nodes start with \"B\"\n",
    "        if u not in user_mapping:\n",
    "            user_mapping[u] = user_counter\n",
    "            user_counter += 1\n",
    "        u_transformed = user_mapping[u]\n",
    "    else:\n",
    "        u_transformed = u\n",
    "\n",
    "    if not v.startswith(\"B\"):\n",
    "        if v not in user_mapping:\n",
    "            user_mapping[v] = user_counter\n",
    "            user_counter += 1\n",
    "        v_transformed = user_mapping[v]\n",
    "    else:\n",
    "        v_transformed = v\n",
    "\n",
    "    # Add the edge with transformed node labels\n",
    "    G_transformed.add_edge(u_transformed, v_transformed, **data)\n",
    "\n",
    "# Step 3: Filter edges for the target year\n",
    "year_edges = [(u, v, d) for u, v, d in G_transformed.edges(data=True) if d.get(\"month\").startswith(target_year)]\n",
    "G_year = nx.Graph()\n",
    "G_year.add_edges_from(year_edges)\n",
    "\n",
    "# Step 4: Separate nodes by type for coloring\n",
    "user_nodes = [n for n in G_year.nodes if isinstance(n, int)]  # User nodes are integers\n",
    "product_nodes = [n for n in G_year.nodes if not isinstance(n, int)]  # Product nodes are strings\n",
    "\n",
    "# Plot the graph\n",
    "plt.figure(figsize=(12, 8))\n",
    "pos = nx.spring_layout(G_year)\n",
    "\n",
    "# Draw user nodes (blue)\n",
    "nx.draw_networkx_nodes(G_year, pos, nodelist=user_nodes, node_size=50, node_color=\"blue\", label=\"Users\")\n",
    "# Draw product nodes (red)\n",
    "nx.draw_networkx_nodes(G_year, pos, nodelist=product_nodes, node_size=50, node_color=\"red\", label=\"Products\")\n",
    "\n",
    "# Draw edges\n",
    "nx.draw_networkx_edges(G_year, pos, alpha=0.5, edge_color=\"gray\")\n",
    "\n",
    "# Add optional labels for product nodes\n",
    "nx.draw_networkx_labels(G_year, pos, labels={n: n for n in product_nodes}, font_size=8, font_color=\"black\")\n",
    "\n",
    "# Add title and legend\n",
    "plt.title(f\"Network Visualization for {target_year}\")\n",
    "plt.legend()\n",
    "plt.axis(\"off\")\n",
    "plt.show()"
   ]
  },
  {
   "cell_type": "code",
   "execution_count": null,
   "id": "d08dcc63",
   "metadata": {},
   "outputs": [],
   "source": []
  }
 ],
 "metadata": {
  "kernelspec": {
   "display_name": "base",
   "language": "python",
   "name": "python3"
  },
  "language_info": {
   "codemirror_mode": {
    "name": "ipython",
    "version": 3
   },
   "file_extension": ".py",
   "mimetype": "text/x-python",
   "name": "python",
   "nbconvert_exporter": "python",
   "pygments_lexer": "ipython3",
   "version": "3.11.4"
  }
 },
 "nbformat": 4,
 "nbformat_minor": 5
}
