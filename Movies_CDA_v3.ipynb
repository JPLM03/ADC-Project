{
 "cells": [
  {
   "cell_type": "markdown",
   "metadata": {},
   "source": [
    "# Project CDA - Web data: Amazon movie reviews\n",
    "\n",
    "We started by creating the subset using the dataset available (https://snap.stanford.edu/data/web-Movies.html). We converted the .txt file in a .parquet file to have a better performance treating the data making the analysis faster."
   ]
  },
  {
   "cell_type": "code",
   "execution_count": 1,
   "metadata": {},
   "outputs": [],
   "source": [
    "# Dependecies\n",
    "\n",
    "import pandas as pd\n",
    "from datetime import datetime\n",
    "import networkx as nx\n",
    "import matplotlib.pyplot as plt\n",
    "import pyarrow.parquet as pq"
   ]
  },
  {
   "cell_type": "code",
   "execution_count": null,
   "metadata": {},
   "outputs": [],
   "source": [
    "product_id = []\n",
    "user_id = []\n",
    "rev_helpful = [] # the helpfulness field will be a tuple where the first value is the number of users who found the review helpful and the last value represents the total number of users who read the review\n",
    "rev_score = []\n",
    "rev_time = []\n",
    "\n",
    "with open(\"movies.txt\", encoding=\"utf-8\", errors=\"ignore\") as file:\n",
    "    \n",
    "    block = []\n",
    "    for line in file:\n",
    "        if line.strip() == \"\":\n",
    "            if block:\n",
    "                for item in block:\n",
    "                    if item.startswith(\"product/productId:\"):\n",
    "                        product_id.append(item.split(\": \")[1].strip())\n",
    "                    elif item.startswith(\"review/userId:\"):\n",
    "                        user_id.append(item.split(\": \")[1].strip())\n",
    "                    elif item.startswith(\"review/helpfulness:\"):\n",
    "                        help_val = item.split(\": \")[1].strip()\n",
    "                        good, total = map(int, help_val.split(\"/\"))  # Parse as ints\n",
    "                        rev_helpful.append((good, total)) # store helpfulness score as a tuple\n",
    "                    elif item.startswith(\"review/score:\"):\n",
    "                        rev_score.append(float(item.split(\": \")[1].strip()))\n",
    "                    elif item.startswith(\"review/time:\"):\n",
    "                        rev_time.append(int(item.split(\": \")[1].strip()))\n",
    "                block = []\n",
    "        else:\n",
    "            block.append(line.strip())\n",
    "\n",
    "    # Process the last block if the file does not end with a blank line\n",
    "    if block:\n",
    "        for item in block:\n",
    "            if item.startswith(\"product/productId:\"):\n",
    "                product_id.append(item.split(\": \")[1].strip())\n",
    "            elif item.startswith(\"review/userId:\"):\n",
    "                user_id.append(item.split(\": \")[1].strip())\n",
    "            elif item.startswith(\"review/helpfulness:\"):\n",
    "                help_val = item.split(\": \")[1].strip()\n",
    "                good, total = map(int, help_val.split(\"/\"))  # Parse as ints\n",
    "                rev_helpful.append((good, total)) # store helpfulness score as a tuple\n",
    "            elif item.startswith(\"review/score:\"):\n",
    "                rev_score.append(float(item.split(\": \")[1].strip()))\n",
    "            elif item.startswith(\"review/time:\"):\n",
    "                rev_time.append(int(item.split(\": \")[1].strip()))\n",
    "    \n",
    "# make dataframe\n",
    "df = pd.DataFrame(\n",
    "    {\n",
    "        \"prod_id\": product_id,\n",
    "        \"user_id\": user_id,\n",
    "        \"rev_help\": rev_helpful,\n",
    "        \"rev_score\": rev_score,\n",
    "        \"rev_time\": rev_time,\n",
    "    }\n",
    ")\n",
    "\n",
    "# Add a new column for the sum of helpfulness good and total values\n",
    "df[\"helpfulness_sum\"] = df[\"rev_help\"].apply(lambda x: x[0] + x[1])\n",
    "\n",
    "# Filter DataFrame to retain rows with the maximum helpfulness sum for each unique review\n",
    "df_max_help = df.loc[\n",
    "    df.groupby([\"prod_id\", \"user_id\", \"rev_score\", \"rev_time\"])[\"helpfulness_sum\"].idxmax()\n",
    "]\n",
    "\n",
    "# Drop sum column\n",
    "df_max_help = df_max_help.drop(columns=[\"helpfulness_sum\"])\n",
    "\n",
    "# make parquet file\n",
    "df_max_help.to_parquet(\"movies_max_help.parquet\", index=False)"
   ]
  },
  {
   "cell_type": "code",
   "execution_count": 2,
   "metadata": {},
   "outputs": [],
   "source": [
    "movies_pq = pd.read_parquet(\"movies_max_help.parquet\")"
   ]
  },
  {
   "cell_type": "code",
   "execution_count": 3,
   "metadata": {},
   "outputs": [
    {
     "name": "stdout",
     "output_type": "stream",
     "text": [
      "Number of rows:  7882689\n"
     ]
    }
   ],
   "source": [
    "#print do n de rows (esperado 7911684)\n",
    "print(\"Number of rows: \", movies_pq.shape[0])"
   ]
  },
  {
   "cell_type": "code",
   "execution_count": 4,
   "metadata": {},
   "outputs": [
    {
     "data": {
      "text/html": [
       "<div>\n",
       "<style scoped>\n",
       "    .dataframe tbody tr th:only-of-type {\n",
       "        vertical-align: middle;\n",
       "    }\n",
       "\n",
       "    .dataframe tbody tr th {\n",
       "        vertical-align: top;\n",
       "    }\n",
       "\n",
       "    .dataframe thead th {\n",
       "        text-align: right;\n",
       "    }\n",
       "</style>\n",
       "<table border=\"1\" class=\"dataframe\">\n",
       "  <thead>\n",
       "    <tr style=\"text-align: right;\">\n",
       "      <th></th>\n",
       "      <th>prod_id</th>\n",
       "      <th>user_id</th>\n",
       "      <th>rev_help</th>\n",
       "      <th>rev_score</th>\n",
       "      <th>rev_time</th>\n",
       "    </tr>\n",
       "  </thead>\n",
       "  <tbody>\n",
       "    <tr>\n",
       "      <th>0</th>\n",
       "      <td>0001489305</td>\n",
       "      <td>A3KF4IP2MUS8QQ</td>\n",
       "      <td>[0, 0]</td>\n",
       "      <td>4.0</td>\n",
       "      <td>1246233600</td>\n",
       "    </tr>\n",
       "    <tr>\n",
       "      <th>1</th>\n",
       "      <td>0001501348</td>\n",
       "      <td>A1GR2UCKC2NPOT</td>\n",
       "      <td>[0, 0]</td>\n",
       "      <td>5.0</td>\n",
       "      <td>1289692800</td>\n",
       "    </tr>\n",
       "    <tr>\n",
       "      <th>2</th>\n",
       "      <td>0001501348</td>\n",
       "      <td>A3CFBMPKT79R89</td>\n",
       "      <td>[0, 0]</td>\n",
       "      <td>5.0</td>\n",
       "      <td>1252627200</td>\n",
       "    </tr>\n",
       "    <tr>\n",
       "      <th>3</th>\n",
       "      <td>0001516035</td>\n",
       "      <td>A2X0GJ1KR9B8U0</td>\n",
       "      <td>[0, 0]</td>\n",
       "      <td>5.0</td>\n",
       "      <td>1335830400</td>\n",
       "    </tr>\n",
       "    <tr>\n",
       "      <th>4</th>\n",
       "      <td>0001517791</td>\n",
       "      <td>A2GWNIH0RTOM67</td>\n",
       "      <td>[0, 0]</td>\n",
       "      <td>5.0</td>\n",
       "      <td>1294790400</td>\n",
       "    </tr>\n",
       "  </tbody>\n",
       "</table>\n",
       "</div>"
      ],
      "text/plain": [
       "      prod_id         user_id rev_help  rev_score    rev_time\n",
       "0  0001489305  A3KF4IP2MUS8QQ   [0, 0]        4.0  1246233600\n",
       "1  0001501348  A1GR2UCKC2NPOT   [0, 0]        5.0  1289692800\n",
       "2  0001501348  A3CFBMPKT79R89   [0, 0]        5.0  1252627200\n",
       "3  0001516035  A2X0GJ1KR9B8U0   [0, 0]        5.0  1335830400\n",
       "4  0001517791  A2GWNIH0RTOM67   [0, 0]        5.0  1294790400"
      ]
     },
     "execution_count": 4,
     "metadata": {},
     "output_type": "execute_result"
    }
   ],
   "source": [
    "movies_pq.head()"
   ]
  },
  {
   "cell_type": "code",
   "execution_count": 5,
   "metadata": {},
   "outputs": [
    {
     "data": {
      "text/plain": [
       "prod_id       object\n",
       "user_id       object\n",
       "rev_help      object\n",
       "rev_score    float64\n",
       "rev_time       int64\n",
       "dtype: object"
      ]
     },
     "execution_count": 5,
     "metadata": {},
     "output_type": "execute_result"
    }
   ],
   "source": [
    "movies_pq.dtypes"
   ]
  },
  {
   "cell_type": "code",
   "execution_count": 6,
   "metadata": {},
   "outputs": [
    {
     "name": "stdout",
     "output_type": "stream",
     "text": [
      "      prod_id         user_id rev_help  rev_score   rev_time\n",
      "0  0001489305  A3KF4IP2MUS8QQ   [0, 0]        4.0 2009-06-29\n",
      "1  0001501348  A1GR2UCKC2NPOT   [0, 0]        5.0 2010-11-14\n",
      "2  0001501348  A3CFBMPKT79R89   [0, 0]        5.0 2009-09-11\n",
      "3  0001516035  A2X0GJ1KR9B8U0   [0, 0]        5.0 2012-05-01\n",
      "4  0001517791  A2GWNIH0RTOM67   [0, 0]        5.0 2011-01-12\n"
     ]
    }
   ],
   "source": [
    "\n",
    "movies_pq['rev_time'] = pd.to_datetime(movies_pq['rev_time'], unit='s')\n",
    "\n",
    "print(movies_pq.head())\n"
   ]
  },
  {
   "cell_type": "code",
   "execution_count": 7,
   "metadata": {},
   "outputs": [
    {
     "name": "stdout",
     "output_type": "stream",
     "text": [
      "      prod_id         user_id rev_help  rev_score   rev_time  helpful_votes  \\\n",
      "0  0001489305  A3KF4IP2MUS8QQ   [0, 0]        4.0 2009-06-29              0   \n",
      "1  0001501348  A1GR2UCKC2NPOT   [0, 0]        5.0 2010-11-14              0   \n",
      "2  0001501348  A3CFBMPKT79R89   [0, 0]        5.0 2009-09-11              0   \n",
      "3  0001516035  A2X0GJ1KR9B8U0   [0, 0]        5.0 2012-05-01              0   \n",
      "4  0001517791  A2GWNIH0RTOM67   [0, 0]        5.0 2011-01-12              0   \n",
      "\n",
      "   total_votes  helpfulness_ratio  \n",
      "0            0                0.0  \n",
      "1            0                0.0  \n",
      "2            0                0.0  \n",
      "3            0                0.0  \n",
      "4            0                0.0  \n"
     ]
    },
    {
     "name": "stderr",
     "output_type": "stream",
     "text": [
      "/var/folders/qj/ms5g84zs0x15wxhbc3kjq8940000gp/T/ipykernel_51395/280402821.py:6: FutureWarning: A value is trying to be set on a copy of a DataFrame or Series through chained assignment using an inplace method.\n",
      "The behavior will change in pandas 3.0. This inplace method will never work because the intermediate object on which we are setting values always behaves as a copy.\n",
      "\n",
      "For example, when doing 'df[col].method(value, inplace=True)', try using 'df.method({col: value}, inplace=True)' or df[col] = df[col].method(value) instead, to perform the operation inplace on the original object.\n",
      "\n",
      "\n",
      "  movies_pq['helpfulness_ratio'].fillna(0, inplace=True)  # Replace NaN with 0 for cases where total_votes is 0\n"
     ]
    }
   ],
   "source": [
    "# Split the helpfulness column into two separate columns\n",
    "movies_pq[['helpful_votes', 'total_votes']] = pd.DataFrame(movies_pq['rev_help'].tolist(), index=movies_pq.index)\n",
    "\n",
    "# Calculate the helpfulness ratio (if total_votes > 0)\n",
    "movies_pq['helpfulness_ratio'] = movies_pq['helpful_votes'] / movies_pq['total_votes']\n",
    "movies_pq['helpfulness_ratio'].fillna(0, inplace=True)  # Replace NaN with 0 for cases where total_votes is 0\n",
    "\n",
    "# Display the first few rows\n",
    "print(movies_pq.head())"
   ]
  },
  {
   "cell_type": "code",
   "execution_count": 8,
   "metadata": {},
   "outputs": [
    {
     "name": "stdout",
     "output_type": "stream",
     "text": [
      "count    7.882689e+06\n",
      "mean     4.099471e+00\n",
      "std      1.261131e+00\n",
      "min      1.000000e+00\n",
      "25%      4.000000e+00\n",
      "50%      5.000000e+00\n",
      "75%      5.000000e+00\n",
      "max      5.000000e+00\n",
      "Name: rev_score, dtype: float64\n"
     ]
    }
   ],
   "source": [
    "print(movies_pq['rev_score'].describe())\n"
   ]
  },
  {
   "cell_type": "code",
   "execution_count": 9,
   "metadata": {},
   "outputs": [
    {
     "name": "stdout",
     "output_type": "stream",
     "text": [
      "            prod_id         user_id   rev_help  rev_score   rev_time  \\\n",
      "92       0005019486  A1K0R6W6CPL5RG     [0, 5]        1.0 2007-03-08   \n",
      "93       0005019486  A1O2RTYPGZLMJY     [0, 0]        1.0 2012-09-02   \n",
      "102      000504846X  A18XPG61ZLIBM7   [63, 95]        1.0 2008-03-14   \n",
      "104      000504846X  A1JH02MQ0LC27C  [44, 101]        1.0 2007-01-01   \n",
      "107      000504846X  A1OF8C6PDH28BG   [24, 36]        1.0 2011-10-17   \n",
      "...             ...             ...        ...        ...        ...   \n",
      "7882604  B009VNEPAI   AADM5VTLZOTXT     [3, 4]        2.0 2010-04-17   \n",
      "7882612  B009VNEPAI   ARY408FHTY9LS    [5, 13]        2.0 2008-01-02   \n",
      "7882615  B009VNEPAI   AV6QDP8Q0ONK4     [1, 1]        2.0 2010-06-04   \n",
      "7882625  B009VOLSA2  A1GSR7RGCG1QYZ    [1, 40]        1.0 2006-01-22   \n",
      "7882673  B009VOLSA2   AHFAUGKV8ICDW    [1, 19]        1.0 2007-02-23   \n",
      "\n",
      "         helpful_votes  total_votes  helpfulness_ratio  \n",
      "92                   0            5           0.000000  \n",
      "93                   0            0           0.000000  \n",
      "102                 63           95           0.663158  \n",
      "104                 44          101           0.435644  \n",
      "107                 24           36           0.666667  \n",
      "...                ...          ...                ...  \n",
      "7882604              3            4           0.750000  \n",
      "7882612              5           13           0.384615  \n",
      "7882615              1            1           1.000000  \n",
      "7882625              1           40           0.025000  \n",
      "7882673              1           19           0.052632  \n",
      "\n",
      "[1081424 rows x 8 columns]\n"
     ]
    }
   ],
   "source": [
    "#reviews with scores less than 3\n",
    "low_score_reviews = movies_pq[movies_pq['rev_score'] < 3]\n",
    "print(low_score_reviews)\n"
   ]
  },
  {
   "cell_type": "code",
   "execution_count": null,
   "metadata": {},
   "outputs": [
    {
     "data": {
      "image/png": "[encoded data removed]",
      "text/plain": [
       "<Figure size 640x480 with 1 Axes>"
      ]
     },
     "metadata": {},
     "output_type": "display_data"
    }
   ],
   "source": [
    "\n",
    "#just a dummy score distribution\n",
    "movies_pq['rev_score'].plot(kind='hist', bins=5, edgecolor='black')\n",
    "plt.title('Distribution of Review Scores')\n",
    "plt.xlabel('Review Score')\n",
    "plt.ylabel('Frequency')\n",
    "plt.show()\n"
   ]
  },
  {
   "cell_type": "code",
   "execution_count": 11,
   "metadata": {},
   "outputs": [],
   "source": [
    "movies_pq = movies_pq.drop_duplicates(subset=['user_id', 'prod_id'])\n"
   ]
  },
  {
   "cell_type": "code",
   "execution_count": 12,
   "metadata": {},
   "outputs": [
    {
     "name": "stdout",
     "output_type": "stream",
     "text": [
      "prod_id              0\n",
      "user_id              0\n",
      "rev_help             0\n",
      "rev_score            0\n",
      "rev_time             0\n",
      "helpful_votes        0\n",
      "total_votes          0\n",
      "helpfulness_ratio    0\n",
      "dtype: int64\n"
     ]
    }
   ],
   "source": [
    "print(movies_pq.isna().sum())\n"
   ]
  },
  {
   "cell_type": "code",
   "execution_count": 13,
   "metadata": {},
   "outputs": [
    {
     "name": "stdout",
     "output_type": "stream",
     "text": [
      "Building...\n",
      "Counting...\n",
      "Total number of users: 889176\n",
      "Total number of products: 253059\n",
      "Total number of edges (reviews): 7831442\n"
     ]
    }
   ],
   "source": [
    "print(\"Building...\")\n",
    "G = nx.Graph()\n",
    "\n",
    "# Add user and product nodes\n",
    "G.add_nodes_from(movies_pq['user_id'].unique(), type='user')  # Add all unique users as nodes with attribute type='user'\n",
    "G.add_nodes_from(movies_pq['prod_id'].unique(), type='product')  # Add all unique products as nodes with attribute type='product'\n",
    "\n",
    "# Add edges with attributes\n",
    "edges = movies_pq[['user_id', 'prod_id', 'rev_time']].to_records(index=False)  # Convert to tuple records\n",
    "G.add_edges_from([(row.user_id, row.prod_id, {'time': row.rev_time}) for row in edges])  # Add edges with time\n",
    "\n",
    "# Count total users and products\n",
    "print(\"Counting...\")\n",
    "users = 0\n",
    "products = 0\n",
    "for _, attr in G.nodes(data=True):\n",
    "    node_type = attr.get('type')\n",
    "    if node_type == 'user':\n",
    "        users += 1\n",
    "    elif node_type == 'product':\n",
    "        products += 1\n",
    "\n",
    "print(f\"Total number of users: {users}\") # 889176 users (correct)\n",
    "print(f\"Total number of products: {products}\") # 253059 products (correct)\n",
    "print(f\"Total number of edges (reviews): {G.number_of_edges()}\") # 7831442 edges (reviews) (wrong: real value is 7911684)"
   ]
  },
  {
   "cell_type": "code",
   "execution_count": 17,
   "metadata": {},
   "outputs": [
    {
     "name": "stdout",
     "output_type": "stream",
     "text": [
      "Unique user-product pairs in dataset: 7831442\n",
      "Edges in the graph: 7831442\n"
     ]
    }
   ],
   "source": [
    "#how many unique user-product pairs in the dataset\n",
    "unique_pairs_count = movies_pq[['user_id', 'prod_id']].drop_duplicates().shape[0]\n",
    "print(f\"Unique user-product pairs in dataset: {unique_pairs_count}\")\n",
    "\n",
    "#edges in the graph\n",
    "graph_edges_count = G.number_of_edges()\n",
    "print(f\"Edges in the graph: {graph_edges_count}\")\n"
   ]
  },
  {
   "cell_type": "code",
   "execution_count": 18,
   "metadata": {},
   "outputs": [
    {
     "name": "stdout",
     "output_type": "stream",
     "text": [
      "Number of duplicate reviews (same user-product pairs): 0\n"
     ]
    }
   ],
   "source": [
    "#find duplicate rows in the dataset :))))\n",
    "duplicates = movies_pq.duplicated(subset=['user_id', 'prod_id'], keep=False)\n",
    "duplicates_count = duplicates.sum()\n",
    "print(f\"Number of duplicate reviews (same user-product pairs): {duplicates_count}\")\n"
   ]
  },
  {
   "cell_type": "code",
   "execution_count": 19,
   "metadata": {},
   "outputs": [
    {
     "name": "stdout",
     "output_type": "stream",
     "text": [
      "Number of problematic rows: 0\n"
     ]
    }
   ],
   "source": [
    "#rows with problems\n",
    "problematic_rows = movies_pq[\n",
    "    movies_pq['user_id'].str.contains(r'\\s', na=False) | \n",
    "    movies_pq['prod_id'].str.contains(r'\\s', na=False)\n",
    "]\n",
    "print(f\"Number of problematic rows: {problematic_rows.shape[0]}\")\n"
   ]
  },
  {
   "cell_type": "markdown",
   "metadata": {},
   "source": [
    "I AM GETTING NERVOUS NOW"
   ]
  },
  {
   "cell_type": "code",
   "execution_count": 21,
   "metadata": {},
   "outputs": [
    {
     "name": "stdout",
     "output_type": "stream",
     "text": [
      "Missing user-product pairs in graph: 0\n"
     ]
    }
   ],
   "source": [
    "dataset_pairs = set(zip(movies_pq['user_id'], movies_pq['prod_id']))\n",
    "graph_pairs = set(G.edges())\n",
    "missing_pairs = dataset_pairs - graph_pairs\n",
    "print(f\"Missing user-product pairs in graph: {len(missing_pairs)}\")\n"
   ]
  },
  {
   "cell_type": "markdown",
   "metadata": {},
   "source": [
    "no really what the actual fuck is going on i am reviewing this later"
   ]
  },
  {
   "cell_type": "markdown",
   "metadata": {},
   "source": [
    "## Network Analysis"
   ]
  },
  {
   "cell_type": "markdown",
   "metadata": {},
   "source": [
    "Network structure"
   ]
  },
  {
   "cell_type": "code",
   "execution_count": 14,
   "metadata": {},
   "outputs": [
    {
     "name": "stdout",
     "output_type": "stream",
     "text": [
      "Nodes: 1142235\n",
      "Edges: 7831442\n",
      "Average degree: 13.71\n"
     ]
    }
   ],
   "source": [
    "#Number nodes and edges\n",
    "print(f\"Nodes: {G.number_of_nodes()}\")\n",
    "print(f\"Edges: {G.number_of_edges()}\")\n",
    "\n",
    "#Degree distribution\n",
    "degrees = [deg for _, deg in G.degree()]\n",
    "print(f\"Average degree: {sum(degrees) / len(degrees):.2f}\")\n"
   ]
  },
  {
   "cell_type": "markdown",
   "metadata": {},
   "source": [
    "Degree Centrality"
   ]
  },
  {
   "cell_type": "code",
   "execution_count": 15,
   "metadata": {},
   "outputs": [
    {
     "name": "stdout",
     "output_type": "stream",
     "text": [
      "Top 10 users by degree: [('A16CZRQL23NOIW', 10777), ('A3LZGLA88K0LA0', 10262), ('ANCOMAI0I7LVG', 9611), ('A2NJO6YE954DBH', 8636), ('ABO2ZI2Y5DQ9T', 7991), ('A39CX0EE4BZCZC', 7657), ('A35ZK3M8L9JUPX', 7590), ('A10ODC971MDHV8', 7440), ('A328S9RN3U5M68', 7185), ('A1X054KUYG5V', 6711)]\n",
      "Top 10 products by degree: [('B002QZ1RS6', 956), ('B007FQDPL8', 952), ('B00005JPS8', 918), ('B001C08RHA', 918), ('B001FD5KJM', 918), ('B001GAPC1K', 918), ('B001I1NGHY', 918), ('B001KZG99A', 918), ('B001FZ9AAU', 917), ('B001HUHBE0', 917)]\n"
     ]
    }
   ],
   "source": [
    "#users and products\n",
    "user_centrality = {n: d for n, d in G.degree if G.nodes[n]['type'] == 'user'}\n",
    "product_centrality = {n: d for n, d in G.degree if G.nodes[n]['type'] == 'product'}\n",
    "\n",
    "\n",
    "top_users = sorted(user_centrality.items(), key=lambda x: x[1], reverse=True)[:10]\n",
    "top_products = sorted(product_centrality.items(), key=lambda x: x[1], reverse=True)[:10]\n",
    "\n",
    "print(\"Top 10 users by degree:\", top_users)\n",
    "print(\"Top 10 products by degree:\", top_products)\n"
   ]
  },
  {
   "cell_type": "markdown",
   "metadata": {},
   "source": [
    "Bipartite graph"
   ]
  },
  {
   "cell_type": "code",
   "execution_count": 16,
   "metadata": {},
   "outputs": [
    {
     "ename": "KeyboardInterrupt",
     "evalue": "",
     "output_type": "error",
     "traceback": [
      "\u001b[0;31m---------------------------------------------------------------------------\u001b[0m",
      "\u001b[0;31mKeyboardInterrupt\u001b[0m                         Traceback (most recent call last)",
      "Cell \u001b[0;32mIn[16], line 4\u001b[0m\n\u001b[1;32m      1\u001b[0m \u001b[38;5;28;01mfrom\u001b[39;00m \u001b[38;5;21;01mnetworkx\u001b[39;00m\u001b[38;5;21;01m.\u001b[39;00m\u001b[38;5;21;01malgorithms\u001b[39;00m \u001b[38;5;28;01mimport\u001b[39;00m bipartite\n\u001b[1;32m      3\u001b[0m product_nodes \u001b[38;5;241m=\u001b[39m [n \u001b[38;5;28;01mfor\u001b[39;00m n, d \u001b[38;5;129;01min\u001b[39;00m G\u001b[38;5;241m.\u001b[39mnodes(data\u001b[38;5;241m=\u001b[39m\u001b[38;5;28;01mTrue\u001b[39;00m) \u001b[38;5;28;01mif\u001b[39;00m d[\u001b[38;5;124m'\u001b[39m\u001b[38;5;124mtype\u001b[39m\u001b[38;5;124m'\u001b[39m] \u001b[38;5;241m==\u001b[39m \u001b[38;5;124m'\u001b[39m\u001b[38;5;124mproduct\u001b[39m\u001b[38;5;124m'\u001b[39m]\n\u001b[0;32m----> 4\u001b[0m product_graph \u001b[38;5;241m=\u001b[39m \u001b[43mbipartite\u001b[49m\u001b[38;5;241;43m.\u001b[39;49m\u001b[43mweighted_projected_graph\u001b[49m\u001b[43m(\u001b[49m\u001b[43mG\u001b[49m\u001b[43m,\u001b[49m\u001b[43m \u001b[49m\u001b[43mproduct_nodes\u001b[49m\u001b[43m)\u001b[49m\n\u001b[1;32m      6\u001b[0m \u001b[38;5;28mprint\u001b[39m(\u001b[38;5;124mf\u001b[39m\u001b[38;5;124m\"\u001b[39m\u001b[38;5;124mProduct Product Graph: \u001b[39m\u001b[38;5;132;01m{\u001b[39;00mnx\u001b[38;5;241m.\u001b[39minfo(product_graph)\u001b[38;5;132;01m}\u001b[39;00m\u001b[38;5;124m\"\u001b[39m)\n\u001b[1;32m      8\u001b[0m \u001b[38;5;66;03m#top pairs of related products\u001b[39;00m\n",
      "File \u001b[0;32m~/Documents/ADC-Project/env/lib/python3.12/site-packages/networkx/utils/decorators.py:788\u001b[0m, in \u001b[0;36margmap.__call__.<locals>.func\u001b[0;34m(_argmap__wrapper, *args, **kwargs)\u001b[0m\n\u001b[1;32m    787\u001b[0m \u001b[38;5;28;01mdef\u001b[39;00m \u001b[38;5;21mfunc\u001b[39m(\u001b[38;5;241m*\u001b[39margs, __wrapper\u001b[38;5;241m=\u001b[39m\u001b[38;5;28;01mNone\u001b[39;00m, \u001b[38;5;241m*\u001b[39m\u001b[38;5;241m*\u001b[39mkwargs):\n\u001b[0;32m--> 788\u001b[0m     \u001b[38;5;28;01mreturn\u001b[39;00m \u001b[43margmap\u001b[49m\u001b[38;5;241;43m.\u001b[39;49m\u001b[43m_lazy_compile\u001b[49m\u001b[43m(\u001b[49m\u001b[43m__wrapper\u001b[49m\u001b[43m)\u001b[49m\u001b[43m(\u001b[49m\u001b[38;5;241;43m*\u001b[39;49m\u001b[43margs\u001b[49m\u001b[43m,\u001b[49m\u001b[43m \u001b[49m\u001b[38;5;241;43m*\u001b[39;49m\u001b[38;5;241;43m*\u001b[39;49m\u001b[43mkwargs\u001b[49m\u001b[43m)\u001b[49m\n",
      "File \u001b[0;32m<class 'networkx.utils.decorators.argmap'> compilation 5:4\u001b[0m, in \u001b[0;36margmap_weighted_projected_graph_1\u001b[0;34m(B, nodes, ratio, backend, **backend_kwargs)\u001b[0m\n\u001b[1;32m      2\u001b[0m \u001b[38;5;28;01mimport\u001b[39;00m \u001b[38;5;21;01mcollections\u001b[39;00m\n\u001b[1;32m      3\u001b[0m \u001b[38;5;28;01mimport\u001b[39;00m \u001b[38;5;21;01mgzip\u001b[39;00m\n\u001b[0;32m----> 4\u001b[0m \u001b[38;5;28;01mimport\u001b[39;00m \u001b[38;5;21;01minspect\u001b[39;00m\n\u001b[1;32m      5\u001b[0m \u001b[38;5;28;01mimport\u001b[39;00m \u001b[38;5;21;01mitertools\u001b[39;00m\n\u001b[1;32m      6\u001b[0m \u001b[38;5;28;01mimport\u001b[39;00m \u001b[38;5;21;01mre\u001b[39;00m\n",
      "File \u001b[0;32m~/Documents/ADC-Project/env/lib/python3.12/site-packages/networkx/utils/backends.py:967\u001b[0m, in \u001b[0;36m_dispatchable.__call__\u001b[0;34m(self, backend, *args, **kwargs)\u001b[0m\n\u001b[1;32m    965\u001b[0m     \u001b[38;5;28;01mif\u001b[39;00m backend \u001b[38;5;129;01mis\u001b[39;00m \u001b[38;5;129;01mnot\u001b[39;00m \u001b[38;5;28;01mNone\u001b[39;00m \u001b[38;5;129;01mand\u001b[39;00m backend \u001b[38;5;241m!=\u001b[39m \u001b[38;5;124m\"\u001b[39m\u001b[38;5;124mnetworkx\u001b[39m\u001b[38;5;124m\"\u001b[39m:\n\u001b[1;32m    966\u001b[0m         \u001b[38;5;28;01mraise\u001b[39;00m \u001b[38;5;167;01mImportError\u001b[39;00m(\u001b[38;5;124mf\u001b[39m\u001b[38;5;124m\"\u001b[39m\u001b[38;5;124m'\u001b[39m\u001b[38;5;132;01m{\u001b[39;00mbackend\u001b[38;5;132;01m}\u001b[39;00m\u001b[38;5;124m'\u001b[39m\u001b[38;5;124m backend is not installed\u001b[39m\u001b[38;5;124m\"\u001b[39m)\n\u001b[0;32m--> 967\u001b[0m     \u001b[38;5;28;01mreturn\u001b[39;00m \u001b[38;5;28;43mself\u001b[39;49m\u001b[38;5;241;43m.\u001b[39;49m\u001b[43morig_func\u001b[49m\u001b[43m(\u001b[49m\u001b[38;5;241;43m*\u001b[39;49m\u001b[43margs\u001b[49m\u001b[43m,\u001b[49m\u001b[43m \u001b[49m\u001b[38;5;241;43m*\u001b[39;49m\u001b[38;5;241;43m*\u001b[39;49m\u001b[43mkwargs\u001b[49m\u001b[43m)\u001b[49m\n\u001b[1;32m    969\u001b[0m \u001b[38;5;66;03m# Use `backend_name` in this function instead of `backend`.\u001b[39;00m\n\u001b[1;32m    970\u001b[0m \u001b[38;5;66;03m# This is purely for aesthetics and to make it easier to search for this\u001b[39;00m\n\u001b[1;32m    971\u001b[0m \u001b[38;5;66;03m# variable since \"backend\" is used in many comments and log/error messages.\u001b[39;00m\n\u001b[1;32m    972\u001b[0m backend_name \u001b[38;5;241m=\u001b[39m backend\n",
      "File \u001b[0;32m~/Documents/ADC-Project/env/lib/python3.12/site-packages/networkx/algorithms/bipartite/projection.py:219\u001b[0m, in \u001b[0;36mweighted_projected_graph\u001b[0;34m(B, nodes, ratio)\u001b[0m\n\u001b[1;32m    217\u001b[0m         \u001b[38;5;28;01melse\u001b[39;00m:\n\u001b[1;32m    218\u001b[0m             weight \u001b[38;5;241m=\u001b[39m \u001b[38;5;28mlen\u001b[39m(common) \u001b[38;5;241m/\u001b[39m n_top\n\u001b[0;32m--> 219\u001b[0m         \u001b[43mG\u001b[49m\u001b[38;5;241;43m.\u001b[39;49m\u001b[43madd_edge\u001b[49m\u001b[43m(\u001b[49m\u001b[43mu\u001b[49m\u001b[43m,\u001b[49m\u001b[43m \u001b[49m\u001b[43mv\u001b[49m\u001b[43m,\u001b[49m\u001b[43m \u001b[49m\u001b[43mweight\u001b[49m\u001b[38;5;241;43m=\u001b[39;49m\u001b[43mweight\u001b[49m\u001b[43m)\u001b[49m\n\u001b[1;32m    220\u001b[0m \u001b[38;5;28;01mreturn\u001b[39;00m G\n",
      "File \u001b[0;32m~/Documents/ADC-Project/env/lib/python3.12/site-packages/networkx/classes/graph.py:906\u001b[0m, in \u001b[0;36mGraph.add_edge\u001b[0;34m(self, u_of_edge, v_of_edge, **attr)\u001b[0m\n\u001b[1;32m    903\u001b[0m     \u001b[38;5;28;01mexcept\u001b[39;00m \u001b[38;5;167;01mTypeError\u001b[39;00m:\n\u001b[1;32m    904\u001b[0m         \u001b[38;5;28;01mreturn\u001b[39;00m \u001b[38;5;28;01mFalse\u001b[39;00m\n\u001b[0;32m--> 906\u001b[0m \u001b[38;5;28;01mdef\u001b[39;00m \u001b[38;5;21madd_edge\u001b[39m(\u001b[38;5;28mself\u001b[39m, u_of_edge, v_of_edge, \u001b[38;5;241m*\u001b[39m\u001b[38;5;241m*\u001b[39mattr):\n\u001b[1;32m    907\u001b[0m \u001b[38;5;250m    \u001b[39m\u001b[38;5;124;03m\"\"\"Add an edge between u and v.\u001b[39;00m\n\u001b[1;32m    908\u001b[0m \n\u001b[1;32m    909\u001b[0m \u001b[38;5;124;03m    The nodes u and v will be automatically added if they are\u001b[39;00m\n\u001b[0;32m   (...)\u001b[0m\n\u001b[1;32m    954\u001b[0m \u001b[38;5;124;03m    >>> G.edges[1, 2].update({0: 5})\u001b[39;00m\n\u001b[1;32m    955\u001b[0m \u001b[38;5;124;03m    \"\"\"\u001b[39;00m\n\u001b[1;32m    956\u001b[0m     u, v \u001b[38;5;241m=\u001b[39m u_of_edge, v_of_edge\n",
      "\u001b[0;31mKeyboardInterrupt\u001b[0m: "
     ]
    }
   ],
   "source": [
    "from networkx.algorithms import bipartite\n",
    "\n",
    "product_nodes = [n for n, d in G.nodes(data=True) if d['type'] == 'product']\n",
    "product_graph = bipartite.weighted_projected_graph(G, product_nodes)\n",
    "\n",
    "print(f\"Product Product Graph: {nx.info(product_graph)}\")\n",
    "\n",
    "#top pairs of related products\n",
    "top_product_pairs = sorted(product_graph.edges(data=True), key=lambda x: x[2]['weight'], reverse=True)[:10] #weighted by shared users\n",
    "print(\"Top related products:\", top_product_pairs)\n"
   ]
  },
  {
   "cell_type": "code",
   "execution_count": null,
   "metadata": {},
   "outputs": [],
   "source": [
    "from networkx.algorithms.community import greedy_modularity_communities\n",
    "\n",
    "#Communities in the product graph\n",
    "communities = list(greedy_modularity_communities(product_graph))\n",
    "print(f\"Number of communities: {len(communities)}\")\n",
    "\n",
    "for i, community in enumerate(communities[:5]):\n",
    "    print(f\"Community {i+1}: {list(community)[:10]}\")  #first 10 nodes in the community\n"
   ]
  },
  {
   "cell_type": "code",
   "execution_count": null,
   "metadata": {},
   "outputs": [],
   "source": [
    "import datetime\n",
    "\n",
    "for u, v, attr in G.edges(data=True):\n",
    "    attr['time'] = datetime.datetime.fromtimestamp(attr['time']) #readable dates\n",
    "\n",
    "#time range: 2009 to 2012\n",
    "start_date = datetime.datetime(2009, 1, 1)\n",
    "end_date = datetime.datetime(2012, 1, 1)\n",
    "\n",
    "edges_in_range = [(u, v) for u, v, attr in G.edges(data=True) if start_date <= attr['time'] <= end_date]\n",
    "print(f\"Reviews between {start_date} and {end_date}: {len(edges_in_range)}\")\n"
   ]
  },
  {
   "cell_type": "code",
   "execution_count": null,
   "metadata": {},
   "outputs": [],
   "source": [
    "\n",
    "#dummy bipartite network\n",
    "pos = nx.spring_layout(G, seed=42)\n",
    "plt.figure(figsize=(12, 12))\n",
    "nx.draw(G, pos, node_size=10, alpha=0.6, edge_color='gray')\n",
    "plt.title(\"User-Product Bipartite Graph\")\n",
    "plt.show()\n"
   ]
  },
  {
   "cell_type": "code",
   "execution_count": null,
   "metadata": {},
   "outputs": [],
   "source": [
    "#dummy subgraph \n",
    "sub_nodes = list(G.nodes)[:1000]  #subset of nodes\n",
    "subgraph = G.subgraph(sub_nodes)\n",
    "\n",
    "pos = nx.spring_layout(subgraph, seed=42)\n",
    "plt.figure(figsize=(10, 10))\n",
    "nx.draw(subgraph, pos, node_size=10, alpha=0.7, edge_color='blue')\n",
    "plt.title(\"Subgraph Visualization\")\n",
    "plt.show()\n"
   ]
  }
 ],
 "metadata": {
  "kernelspec": {
   "display_name": "env",
   "language": "python",
   "name": "python3"
  },
  "language_info": {
   "codemirror_mode": {
    "name": "ipython",
    "version": 3
   },
   "file_extension": ".py",
   "mimetype": "text/x-python",
   "name": "python",
   "nbconvert_exporter": "python",
   "pygments_lexer": "ipython3",
   "version": "3.12.7"
  }
 },
 "nbformat": 4,
 "nbformat_minor": 4
}
