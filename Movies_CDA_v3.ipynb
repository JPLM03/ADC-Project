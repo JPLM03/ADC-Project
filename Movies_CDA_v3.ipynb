{
 "cells": [
  {
   "cell_type": "markdown",
   "metadata": {},
   "source": [
    "# Project CDA - Web data: Amazon movie reviews\n",
    "\n",
    "We started by creating the subset using the dataset available (https://snap.stanford.edu/data/web-Movies.html). We converted the .txt file in a .parquet file to have a better performance treating the data making the analysis faster."
   ]
  },
  {
   "cell_type": "code",
   "execution_count": 34,
   "metadata": {},
   "outputs": [],
   "source": [
    "# Dependecies\n",
    "\n",
    "import pandas as pd\n",
    "from datetime import datetime\n",
    "import networkx as nx\n",
    "import matplotlib.pyplot as plt\n",
    "import pyarrow.parquet as pq"
   ]
  },
  {
   "cell_type": "code",
   "execution_count": null,
   "metadata": {},
   "outputs": [],
   "source": [
    "product_id = []\n",
    "user_id = []\n",
    "rev_score = []\n",
    "rev_time = []\n",
    "\n",
    "with open(\"movies.txt\", encoding=\"utf-8\", errors=\"ignore\") as file:\n",
    "    \n",
    "    block = []\n",
    "    for line in file:\n",
    "        if line.strip() == \"\":\n",
    "            if block:\n",
    "                for item in block:\n",
    "                    if item.startswith(\"product/productId:\"):\n",
    "                        product_id.append(item.split(\": \")[1].strip())\n",
    "                    elif item.startswith(\"review/userId:\"):\n",
    "                        user_id.append(item.split(\": \")[1].strip())\n",
    "                    elif item.startswith(\"review/score:\"):\n",
    "                        rev_score.append(float(item.split(\": \")[1].strip()))\n",
    "                    elif item.startswith(\"review/time:\"):\n",
    "                        rev_time.append(int(item.split(\": \")[1].strip()))\n",
    "                block = []\n",
    "        else:\n",
    "            block.append(line.strip())\n",
    "\n",
    "    # Process the last block if the file does not end with a blank line\n",
    "    if block:\n",
    "        for item in block:\n",
    "            if item.startswith(\"product/productId:\"):\n",
    "                product_id.append(item.split(\": \")[1].strip())\n",
    "            elif item.startswith(\"review/userId:\"):\n",
    "                user_id.append(item.split(\": \")[1].strip())\n",
    "            elif item.startswith(\"review/score:\"):\n",
    "                rev_score.append(float(item.split(\": \")[1].strip()))\n",
    "            elif item.startswith(\"review/time:\"):\n",
    "                rev_time.append(int(item.split(\": \")[1].strip()))\n",
    "    \n",
    "# make dataframe\n",
    "df = pd.DataFrame(\n",
    "    {\n",
    "        \"prod_id\": product_id,\n",
    "        \"user_id\": user_id,\n",
    "        \"rev_score\": rev_score,\n",
    "        \"rev_time\": rev_time\n",
    "    }\n",
    ")\n",
    "\n",
    "# make parquet file\n",
    "df.to_parquet(\"movies.parquet\")"
   ]
  },
  {
   "cell_type": "code",
   "execution_count": 35,
   "metadata": {},
   "outputs": [],
   "source": [
    "movies_pq = pd.read_parquet(\"movies.parquet\")"
   ]
  },
  {
   "cell_type": "code",
   "execution_count": 36,
   "metadata": {},
   "outputs": [
    {
     "name": "stdout",
     "output_type": "stream",
     "text": [
      "Number of rows:  7911684\n"
     ]
    }
   ],
   "source": [
    "#print do n de rows (esperado 7911684)\n",
    "print(\"Number of rows: \", movies_pq.shape[0])"
   ]
  },
  {
   "cell_type": "code",
   "execution_count": 37,
   "metadata": {},
   "outputs": [
    {
     "data": {
      "text/html": [
       "<div>\n",
       "<style scoped>\n",
       "    .dataframe tbody tr th:only-of-type {\n",
       "        vertical-align: middle;\n",
       "    }\n",
       "\n",
       "    .dataframe tbody tr th {\n",
       "        vertical-align: top;\n",
       "    }\n",
       "\n",
       "    .dataframe thead th {\n",
       "        text-align: right;\n",
       "    }\n",
       "</style>\n",
       "<table border=\"1\" class=\"dataframe\">\n",
       "  <thead>\n",
       "    <tr style=\"text-align: right;\">\n",
       "      <th></th>\n",
       "      <th>prod_id</th>\n",
       "      <th>user_id</th>\n",
       "      <th>rev_score</th>\n",
       "      <th>rev_time</th>\n",
       "    </tr>\n",
       "  </thead>\n",
       "  <tbody>\n",
       "    <tr>\n",
       "      <th>0</th>\n",
       "      <td>B003AI2VGA</td>\n",
       "      <td>A141HP4LYPWMSR</td>\n",
       "      <td>3.0</td>\n",
       "      <td>1182729600</td>\n",
       "    </tr>\n",
       "    <tr>\n",
       "      <th>1</th>\n",
       "      <td>B003AI2VGA</td>\n",
       "      <td>A328S9RN3U5M68</td>\n",
       "      <td>3.0</td>\n",
       "      <td>1181952000</td>\n",
       "    </tr>\n",
       "    <tr>\n",
       "      <th>2</th>\n",
       "      <td>B003AI2VGA</td>\n",
       "      <td>A1I7QGUDP043DG</td>\n",
       "      <td>5.0</td>\n",
       "      <td>1164844800</td>\n",
       "    </tr>\n",
       "    <tr>\n",
       "      <th>3</th>\n",
       "      <td>B003AI2VGA</td>\n",
       "      <td>A1M5405JH9THP9</td>\n",
       "      <td>3.0</td>\n",
       "      <td>1197158400</td>\n",
       "    </tr>\n",
       "    <tr>\n",
       "      <th>4</th>\n",
       "      <td>B003AI2VGA</td>\n",
       "      <td>ATXL536YX71TR</td>\n",
       "      <td>3.0</td>\n",
       "      <td>1188345600</td>\n",
       "    </tr>\n",
       "  </tbody>\n",
       "</table>\n",
       "</div>"
      ],
      "text/plain": [
       "      prod_id         user_id  rev_score    rev_time\n",
       "0  B003AI2VGA  A141HP4LYPWMSR        3.0  1182729600\n",
       "1  B003AI2VGA  A328S9RN3U5M68        3.0  1181952000\n",
       "2  B003AI2VGA  A1I7QGUDP043DG        5.0  1164844800\n",
       "3  B003AI2VGA  A1M5405JH9THP9        3.0  1197158400\n",
       "4  B003AI2VGA   ATXL536YX71TR        3.0  1188345600"
      ]
     },
     "execution_count": 37,
     "metadata": {},
     "output_type": "execute_result"
    }
   ],
   "source": [
    "movies_pq.head()"
   ]
  },
  {
   "cell_type": "code",
   "execution_count": 38,
   "metadata": {},
   "outputs": [
    {
     "data": {
      "text/plain": [
       "prod_id       object\n",
       "user_id       object\n",
       "rev_score    float64\n",
       "rev_time       int64\n",
       "dtype: object"
      ]
     },
     "execution_count": 38,
     "metadata": {},
     "output_type": "execute_result"
    }
   ],
   "source": [
    "movies_pq.dtypes"
   ]
  },
  {
   "cell_type": "code",
   "execution_count": 39,
   "metadata": {},
   "outputs": [
    {
     "name": "stdout",
     "output_type": "stream",
     "text": [
      "      prod_id         user_id  rev_score   rev_time\n",
      "0  B003AI2VGA  A141HP4LYPWMSR        3.0 2007-06-25\n",
      "1  B003AI2VGA  A328S9RN3U5M68        3.0 2007-06-16\n",
      "2  B003AI2VGA  A1I7QGUDP043DG        5.0 2006-11-30\n",
      "3  B003AI2VGA  A1M5405JH9THP9        3.0 2007-12-09\n",
      "4  B003AI2VGA   ATXL536YX71TR        3.0 2007-08-29\n"
     ]
    }
   ],
   "source": [
    "\n",
    "movies_pq['rev_time'] = pd.to_datetime(movies_pq['rev_time'], unit='s')\n",
    "\n",
    "print(movies_pq.head())\n"
   ]
  },
  {
   "cell_type": "code",
   "execution_count": 40,
   "metadata": {},
   "outputs": [
    {
     "name": "stdout",
     "output_type": "stream",
     "text": [
      "count    7.911684e+06\n",
      "mean     4.099872e+00\n",
      "std      1.260914e+00\n",
      "min      1.000000e+00\n",
      "25%      4.000000e+00\n",
      "50%      5.000000e+00\n",
      "75%      5.000000e+00\n",
      "max      5.000000e+00\n",
      "Name: rev_score, dtype: float64\n"
     ]
    }
   ],
   "source": [
    "print(movies_pq['rev_score'].describe())\n"
   ]
  },
  {
   "cell_type": "code",
   "execution_count": 41,
   "metadata": {},
   "outputs": [
    {
     "name": "stdout",
     "output_type": "stream",
     "text": [
      "            prod_id         user_id  rev_score   rev_time\n",
      "5        B003AI2VGA  A3QYDL5CDNYN66        2.0 2008-12-12\n",
      "6        B003AI2VGA   AQJVNDW6YZFQS        1.0 2006-11-22\n",
      "43       B00004CQT3  A2VDM3D712BGLE        1.0 2010-01-01\n",
      "230      B000063W1R  A3FX9KYW53MRBD        1.0 2002-11-28\n",
      "233      B000063W1R  A30LQLFU8JFDPM        2.0 2004-03-22\n",
      "...             ...             ...        ...        ...\n",
      "7911656  B003S1UNZU  A2X6DJ7AB1CT9U        2.0 2011-12-18\n",
      "7911657  B000GRUN4A  A3CXC8SO2JO7OQ        1.0 2012-06-22\n",
      "7911660  B000GRUN4A  A3BT5ZLAZ87H1Q        1.0 2006-09-18\n",
      "7911661  B000GRUN4A   AKA4GLZPLLFRV        1.0 2008-04-02\n",
      "7911681  6304952198   AT0A56QQS6PKO        2.0 2007-06-03\n",
      "\n",
      "[1084731 rows x 4 columns]\n"
     ]
    }
   ],
   "source": [
    "#reviews with scores less than 3\n",
    "low_score_reviews = movies_pq[movies_pq['rev_score'] < 3]\n",
    "print(low_score_reviews)\n"
   ]
  },
  {
   "cell_type": "code",
   "execution_count": 42,
   "metadata": {},
   "outputs": [
    {
     "name": "stdout",
     "output_type": "stream",
     "text": [
      "Product with the most reviews: B002QZ1RS6 (957 reviews)\n"
     ]
    }
   ],
   "source": [
    "\n",
    "#just a dummy score distribution\n",
    "\n",
    "product_review_counts = movies_pq.groupby('prod_id').size().reset_index(name='review_count')\n",
    "\n",
    "most_reviewed_product = product_review_counts.loc[product_review_counts['review_count'].idxmax()]\n",
    "print(f\"Product with the most reviews: {most_reviewed_product['prod_id']} ({most_reviewed_product['review_count']} reviews)\")\n",
    "\n"
   ]
  },
  {
   "cell_type": "code",
   "execution_count": 43,
   "metadata": {},
   "outputs": [],
   "source": [
    "movies_pq = movies_pq.drop_duplicates(subset=['user_id', 'prod_id'])\n"
   ]
  },
  {
   "cell_type": "code",
   "execution_count": 44,
   "metadata": {},
   "outputs": [
    {
     "name": "stdout",
     "output_type": "stream",
     "text": [
      "prod_id      0\n",
      "user_id      0\n",
      "rev_score    0\n",
      "rev_time     0\n",
      "dtype: int64\n"
     ]
    }
   ],
   "source": [
    "print(movies_pq.isna().sum())\n"
   ]
  },
  {
   "cell_type": "code",
   "execution_count": 45,
   "metadata": {},
   "outputs": [
    {
     "data": {
      "text/html": [
       "<div>\n",
       "<style scoped>\n",
       "    .dataframe tbody tr th:only-of-type {\n",
       "        vertical-align: middle;\n",
       "    }\n",
       "\n",
       "    .dataframe tbody tr th {\n",
       "        vertical-align: top;\n",
       "    }\n",
       "\n",
       "    .dataframe thead th {\n",
       "        text-align: right;\n",
       "    }\n",
       "</style>\n",
       "<table border=\"1\" class=\"dataframe\">\n",
       "  <thead>\n",
       "    <tr style=\"text-align: right;\">\n",
       "      <th></th>\n",
       "      <th>prod_id</th>\n",
       "      <th>user_id</th>\n",
       "      <th>rev_score</th>\n",
       "      <th>rev_time</th>\n",
       "    </tr>\n",
       "  </thead>\n",
       "  <tbody>\n",
       "    <tr>\n",
       "      <th>0</th>\n",
       "      <td>B003AI2VGA</td>\n",
       "      <td>A141HP4LYPWMSR</td>\n",
       "      <td>3.0</td>\n",
       "      <td>2007-06-25</td>\n",
       "    </tr>\n",
       "    <tr>\n",
       "      <th>1</th>\n",
       "      <td>B003AI2VGA</td>\n",
       "      <td>A328S9RN3U5M68</td>\n",
       "      <td>3.0</td>\n",
       "      <td>2007-06-16</td>\n",
       "    </tr>\n",
       "    <tr>\n",
       "      <th>2</th>\n",
       "      <td>B003AI2VGA</td>\n",
       "      <td>A1I7QGUDP043DG</td>\n",
       "      <td>5.0</td>\n",
       "      <td>2006-11-30</td>\n",
       "    </tr>\n",
       "    <tr>\n",
       "      <th>3</th>\n",
       "      <td>B003AI2VGA</td>\n",
       "      <td>A1M5405JH9THP9</td>\n",
       "      <td>3.0</td>\n",
       "      <td>2007-12-09</td>\n",
       "    </tr>\n",
       "    <tr>\n",
       "      <th>4</th>\n",
       "      <td>B003AI2VGA</td>\n",
       "      <td>ATXL536YX71TR</td>\n",
       "      <td>3.0</td>\n",
       "      <td>2007-08-29</td>\n",
       "    </tr>\n",
       "    <tr>\n",
       "      <th>...</th>\n",
       "      <td>...</td>\n",
       "      <td>...</td>\n",
       "      <td>...</td>\n",
       "      <td>...</td>\n",
       "    </tr>\n",
       "    <tr>\n",
       "      <th>7911679</th>\n",
       "      <td>B003A3PGF8</td>\n",
       "      <td>A11H5P3Z6WGN8G</td>\n",
       "      <td>3.0</td>\n",
       "      <td>2010-01-09</td>\n",
       "    </tr>\n",
       "    <tr>\n",
       "      <th>7911680</th>\n",
       "      <td>B003A3PGF8</td>\n",
       "      <td>A7QMQBGJ2TCQG</td>\n",
       "      <td>5.0</td>\n",
       "      <td>2009-05-03</td>\n",
       "    </tr>\n",
       "    <tr>\n",
       "      <th>7911681</th>\n",
       "      <td>6304952198</td>\n",
       "      <td>AT0A56QQS6PKO</td>\n",
       "      <td>2.0</td>\n",
       "      <td>2007-06-03</td>\n",
       "    </tr>\n",
       "    <tr>\n",
       "      <th>7911682</th>\n",
       "      <td>6304952198</td>\n",
       "      <td>A23KKLV2CD39U8</td>\n",
       "      <td>4.0</td>\n",
       "      <td>2010-03-11</td>\n",
       "    </tr>\n",
       "    <tr>\n",
       "      <th>7911683</th>\n",
       "      <td>6304952198</td>\n",
       "      <td>AIW7RUV8P2FK1</td>\n",
       "      <td>5.0</td>\n",
       "      <td>2006-03-08</td>\n",
       "    </tr>\n",
       "  </tbody>\n",
       "</table>\n",
       "<p>7831442 rows × 4 columns</p>\n",
       "</div>"
      ],
      "text/plain": [
       "            prod_id         user_id  rev_score   rev_time\n",
       "0        B003AI2VGA  A141HP4LYPWMSR        3.0 2007-06-25\n",
       "1        B003AI2VGA  A328S9RN3U5M68        3.0 2007-06-16\n",
       "2        B003AI2VGA  A1I7QGUDP043DG        5.0 2006-11-30\n",
       "3        B003AI2VGA  A1M5405JH9THP9        3.0 2007-12-09\n",
       "4        B003AI2VGA   ATXL536YX71TR        3.0 2007-08-29\n",
       "...             ...             ...        ...        ...\n",
       "7911679  B003A3PGF8  A11H5P3Z6WGN8G        3.0 2010-01-09\n",
       "7911680  B003A3PGF8   A7QMQBGJ2TCQG        5.0 2009-05-03\n",
       "7911681  6304952198   AT0A56QQS6PKO        2.0 2007-06-03\n",
       "7911682  6304952198  A23KKLV2CD39U8        4.0 2010-03-11\n",
       "7911683  6304952198   AIW7RUV8P2FK1        5.0 2006-03-08\n",
       "\n",
       "[7831442 rows x 4 columns]"
      ]
     },
     "execution_count": 45,
     "metadata": {},
     "output_type": "execute_result"
    }
   ],
   "source": [
    "movies_pq"
   ]
  },
  {
   "cell_type": "code",
   "execution_count": 46,
   "metadata": {},
   "outputs": [
    {
     "name": "stdout",
     "output_type": "stream",
     "text": [
      "            prod_id         user_id  rev_score   rev_time\n",
      "6409926  B00008V6YR  A37I5QIHD9UMPD        5.0 1997-08-20\n",
      "3947906  B00004CILW  A37I5QIHD9UMPD        5.0 1997-08-20\n",
      "7180046  6302763770  A37I5QIHD9UMPD        5.0 1997-08-20\n",
      "2381343  6302967538  A37I5QIHD9UMPD        5.0 1997-08-20\n",
      "3785429  B004J1A6WS  A2XBTS97FERY2Q        5.0 1997-08-23\n"
     ]
    }
   ],
   "source": [
    "# Sort ascending order rev_time\n",
    "movies_pq = movies_pq.sort_values(by='rev_time', ascending=True)\n",
    "print(movies_pq.head())"
   ]
  },
  {
   "cell_type": "code",
   "execution_count": 47,
   "metadata": {},
   "outputs": [
    {
     "data": {
      "text/html": [
       "<div>\n",
       "<style scoped>\n",
       "    .dataframe tbody tr th:only-of-type {\n",
       "        vertical-align: middle;\n",
       "    }\n",
       "\n",
       "    .dataframe tbody tr th {\n",
       "        vertical-align: top;\n",
       "    }\n",
       "\n",
       "    .dataframe thead th {\n",
       "        text-align: right;\n",
       "    }\n",
       "</style>\n",
       "<table border=\"1\" class=\"dataframe\">\n",
       "  <thead>\n",
       "    <tr style=\"text-align: right;\">\n",
       "      <th></th>\n",
       "      <th>prod_id</th>\n",
       "      <th>user_id</th>\n",
       "      <th>rev_score</th>\n",
       "      <th>rev_time</th>\n",
       "    </tr>\n",
       "  </thead>\n",
       "  <tbody>\n",
       "    <tr>\n",
       "      <th>6409926</th>\n",
       "      <td>B00008V6YR</td>\n",
       "      <td>A37I5QIHD9UMPD</td>\n",
       "      <td>5.0</td>\n",
       "      <td>1997-08-20</td>\n",
       "    </tr>\n",
       "    <tr>\n",
       "      <th>3947906</th>\n",
       "      <td>B00004CILW</td>\n",
       "      <td>A37I5QIHD9UMPD</td>\n",
       "      <td>5.0</td>\n",
       "      <td>1997-08-20</td>\n",
       "    </tr>\n",
       "    <tr>\n",
       "      <th>7180046</th>\n",
       "      <td>6302763770</td>\n",
       "      <td>A37I5QIHD9UMPD</td>\n",
       "      <td>5.0</td>\n",
       "      <td>1997-08-20</td>\n",
       "    </tr>\n",
       "    <tr>\n",
       "      <th>2381343</th>\n",
       "      <td>6302967538</td>\n",
       "      <td>A37I5QIHD9UMPD</td>\n",
       "      <td>5.0</td>\n",
       "      <td>1997-08-20</td>\n",
       "    </tr>\n",
       "    <tr>\n",
       "      <th>3785429</th>\n",
       "      <td>B004J1A6WS</td>\n",
       "      <td>A2XBTS97FERY2Q</td>\n",
       "      <td>5.0</td>\n",
       "      <td>1997-08-23</td>\n",
       "    </tr>\n",
       "    <tr>\n",
       "      <th>...</th>\n",
       "      <td>...</td>\n",
       "      <td>...</td>\n",
       "      <td>...</td>\n",
       "      <td>...</td>\n",
       "    </tr>\n",
       "    <tr>\n",
       "      <th>7774209</th>\n",
       "      <td>B008NNY8XQ</td>\n",
       "      <td>ANL1LDXUTATCS</td>\n",
       "      <td>5.0</td>\n",
       "      <td>2012-10-25</td>\n",
       "    </tr>\n",
       "    <tr>\n",
       "      <th>6360695</th>\n",
       "      <td>B001IBIHQ4</td>\n",
       "      <td>A12HLBHR51Q7LJ</td>\n",
       "      <td>2.0</td>\n",
       "      <td>2012-10-25</td>\n",
       "    </tr>\n",
       "    <tr>\n",
       "      <th>7653074</th>\n",
       "      <td>B0000521G4</td>\n",
       "      <td>A15TOSPFI8Q4G6</td>\n",
       "      <td>5.0</td>\n",
       "      <td>2012-10-25</td>\n",
       "    </tr>\n",
       "    <tr>\n",
       "      <th>3206946</th>\n",
       "      <td>B009CPRYG2</td>\n",
       "      <td>A393MAT867TE4Z</td>\n",
       "      <td>1.0</td>\n",
       "      <td>2012-10-25</td>\n",
       "    </tr>\n",
       "    <tr>\n",
       "      <th>6059075</th>\n",
       "      <td>B0060D3BWK</td>\n",
       "      <td>A21BNLCFJKMOX9</td>\n",
       "      <td>5.0</td>\n",
       "      <td>2012-10-25</td>\n",
       "    </tr>\n",
       "  </tbody>\n",
       "</table>\n",
       "<p>7831442 rows × 4 columns</p>\n",
       "</div>"
      ],
      "text/plain": [
       "            prod_id         user_id  rev_score   rev_time\n",
       "6409926  B00008V6YR  A37I5QIHD9UMPD        5.0 1997-08-20\n",
       "3947906  B00004CILW  A37I5QIHD9UMPD        5.0 1997-08-20\n",
       "7180046  6302763770  A37I5QIHD9UMPD        5.0 1997-08-20\n",
       "2381343  6302967538  A37I5QIHD9UMPD        5.0 1997-08-20\n",
       "3785429  B004J1A6WS  A2XBTS97FERY2Q        5.0 1997-08-23\n",
       "...             ...             ...        ...        ...\n",
       "7774209  B008NNY8XQ   ANL1LDXUTATCS        5.0 2012-10-25\n",
       "6360695  B001IBIHQ4  A12HLBHR51Q7LJ        2.0 2012-10-25\n",
       "7653074  B0000521G4  A15TOSPFI8Q4G6        5.0 2012-10-25\n",
       "3206946  B009CPRYG2  A393MAT867TE4Z        1.0 2012-10-25\n",
       "6059075  B0060D3BWK  A21BNLCFJKMOX9        5.0 2012-10-25\n",
       "\n",
       "[7831442 rows x 4 columns]"
      ]
     },
     "execution_count": 47,
     "metadata": {},
     "output_type": "execute_result"
    }
   ],
   "source": [
    "movies_pq"
   ]
  },
  {
   "cell_type": "markdown",
   "metadata": {},
   "source": [
    "## Network Analysis"
   ]
  },
  {
   "cell_type": "code",
   "execution_count": 48,
   "metadata": {},
   "outputs": [],
   "source": [
    "# Define the time range\n",
    "start_date = '2012-01-01'\n",
    "end_date = '2012-12-31'\n",
    "\n",
    "# Filter rows by the time range\n",
    "filtered_df = movies_pq[(movies_pq['rev_time'] >= start_date) & (movies_pq['rev_time'] <= end_date)]\n"
   ]
  },
  {
   "cell_type": "code",
   "execution_count": 49,
   "metadata": {},
   "outputs": [
    {
     "data": {
      "text/html": [
       "<div>\n",
       "<style scoped>\n",
       "    .dataframe tbody tr th:only-of-type {\n",
       "        vertical-align: middle;\n",
       "    }\n",
       "\n",
       "    .dataframe tbody tr th {\n",
       "        vertical-align: top;\n",
       "    }\n",
       "\n",
       "    .dataframe thead th {\n",
       "        text-align: right;\n",
       "    }\n",
       "</style>\n",
       "<table border=\"1\" class=\"dataframe\">\n",
       "  <thead>\n",
       "    <tr style=\"text-align: right;\">\n",
       "      <th></th>\n",
       "      <th>prod_id</th>\n",
       "      <th>user_id</th>\n",
       "      <th>rev_score</th>\n",
       "      <th>rev_time</th>\n",
       "    </tr>\n",
       "  </thead>\n",
       "  <tbody>\n",
       "    <tr>\n",
       "      <th>4248823</th>\n",
       "      <td>B00028G7FM</td>\n",
       "      <td>AL0DY435SR81O</td>\n",
       "      <td>4.0</td>\n",
       "      <td>2012-01-01</td>\n",
       "    </tr>\n",
       "    <tr>\n",
       "      <th>2557138</th>\n",
       "      <td>B0016YBFZ8</td>\n",
       "      <td>A1GYCBNK2GJO0G</td>\n",
       "      <td>5.0</td>\n",
       "      <td>2012-01-01</td>\n",
       "    </tr>\n",
       "    <tr>\n",
       "      <th>6288101</th>\n",
       "      <td>B004S801ZE</td>\n",
       "      <td>A1IDDAE9L2R73Z</td>\n",
       "      <td>5.0</td>\n",
       "      <td>2012-01-01</td>\n",
       "    </tr>\n",
       "    <tr>\n",
       "      <th>4248822</th>\n",
       "      <td>B00028G7FM</td>\n",
       "      <td>AAO0R79SEP4L8</td>\n",
       "      <td>5.0</td>\n",
       "      <td>2012-01-01</td>\n",
       "    </tr>\n",
       "    <tr>\n",
       "      <th>4050635</th>\n",
       "      <td>B007QYH5VA</td>\n",
       "      <td>A328S9RN3U5M68</td>\n",
       "      <td>4.0</td>\n",
       "      <td>2012-01-01</td>\n",
       "    </tr>\n",
       "    <tr>\n",
       "      <th>...</th>\n",
       "      <td>...</td>\n",
       "      <td>...</td>\n",
       "      <td>...</td>\n",
       "      <td>...</td>\n",
       "    </tr>\n",
       "    <tr>\n",
       "      <th>7774209</th>\n",
       "      <td>B008NNY8XQ</td>\n",
       "      <td>ANL1LDXUTATCS</td>\n",
       "      <td>5.0</td>\n",
       "      <td>2012-10-25</td>\n",
       "    </tr>\n",
       "    <tr>\n",
       "      <th>6360695</th>\n",
       "      <td>B001IBIHQ4</td>\n",
       "      <td>A12HLBHR51Q7LJ</td>\n",
       "      <td>2.0</td>\n",
       "      <td>2012-10-25</td>\n",
       "    </tr>\n",
       "    <tr>\n",
       "      <th>7653074</th>\n",
       "      <td>B0000521G4</td>\n",
       "      <td>A15TOSPFI8Q4G6</td>\n",
       "      <td>5.0</td>\n",
       "      <td>2012-10-25</td>\n",
       "    </tr>\n",
       "    <tr>\n",
       "      <th>3206946</th>\n",
       "      <td>B009CPRYG2</td>\n",
       "      <td>A393MAT867TE4Z</td>\n",
       "      <td>1.0</td>\n",
       "      <td>2012-10-25</td>\n",
       "    </tr>\n",
       "    <tr>\n",
       "      <th>6059075</th>\n",
       "      <td>B0060D3BWK</td>\n",
       "      <td>A21BNLCFJKMOX9</td>\n",
       "      <td>5.0</td>\n",
       "      <td>2012-10-25</td>\n",
       "    </tr>\n",
       "  </tbody>\n",
       "</table>\n",
       "<p>835102 rows × 4 columns</p>\n",
       "</div>"
      ],
      "text/plain": [
       "            prod_id         user_id  rev_score   rev_time\n",
       "4248823  B00028G7FM   AL0DY435SR81O        4.0 2012-01-01\n",
       "2557138  B0016YBFZ8  A1GYCBNK2GJO0G        5.0 2012-01-01\n",
       "6288101  B004S801ZE  A1IDDAE9L2R73Z        5.0 2012-01-01\n",
       "4248822  B00028G7FM   AAO0R79SEP4L8        5.0 2012-01-01\n",
       "4050635  B007QYH5VA  A328S9RN3U5M68        4.0 2012-01-01\n",
       "...             ...             ...        ...        ...\n",
       "7774209  B008NNY8XQ   ANL1LDXUTATCS        5.0 2012-10-25\n",
       "6360695  B001IBIHQ4  A12HLBHR51Q7LJ        2.0 2012-10-25\n",
       "7653074  B0000521G4  A15TOSPFI8Q4G6        5.0 2012-10-25\n",
       "3206946  B009CPRYG2  A393MAT867TE4Z        1.0 2012-10-25\n",
       "6059075  B0060D3BWK  A21BNLCFJKMOX9        5.0 2012-10-25\n",
       "\n",
       "[835102 rows x 4 columns]"
      ]
     },
     "execution_count": 49,
     "metadata": {},
     "output_type": "execute_result"
    }
   ],
   "source": [
    "filtered_df"
   ]
  },
  {
   "cell_type": "code",
   "execution_count": 50,
   "metadata": {},
   "outputs": [
    {
     "name": "stdout",
     "output_type": "stream",
     "text": [
      "Number of nodes: 279173\n",
      "Number of edges: 835102\n",
      "Sample nodes: [('AL0DY435SR81O', {'bipartite': 0}), ('A1GYCBNK2GJO0G', {'bipartite': 0}), ('A1IDDAE9L2R73Z', {'bipartite': 0}), ('AAO0R79SEP4L8', {'bipartite': 0}), ('A328S9RN3U5M68', {'bipartite': 0})]\n",
      "Sample edges: [('AL0DY435SR81O', 'B00028G7FM', {'score': np.float64(4.0), 'time': np.datetime64('2012-01-01T00:00:00.000000000')}), ('AL0DY435SR81O', '6305728437', {'score': np.float64(4.0), 'time': np.datetime64('2012-01-01T00:00:00.000000000')}), ('AL0DY435SR81O', '7883708015', {'score': np.float64(4.0), 'time': np.datetime64('2012-01-01T00:00:00.000000000')}), ('AL0DY435SR81O', 'B00008G1PX', {'score': np.float64(4.0), 'time': np.datetime64('2012-01-01T00:00:00.000000000')}), ('AL0DY435SR81O', 'B003ZHVJGO', {'score': np.float64(4.0), 'time': np.datetime64('2012-01-01T00:00:00.000000000')})]\n"
     ]
    }
   ],
   "source": [
    "import networkx as nx\n",
    "\n",
    "# Initialize a graph\n",
    "G = nx.Graph()\n",
    "\n",
    "# Add nodes for users and products\n",
    "G.add_nodes_from(filtered_df['user_id'], bipartite=0)  # Add users as one set\n",
    "G.add_nodes_from(filtered_df['prod_id'], bipartite=1)  # Add products as the other set\n",
    "\n",
    "# Add edges with attributes\n",
    "edges = filtered_df[['user_id', 'prod_id', 'rev_score', 'rev_time']].to_records(index=False)\n",
    "G.add_edges_from([\n",
    "    (row.user_id, row.prod_id, {'score': row.rev_score, 'time': row.rev_time})\n",
    "    for row in edges\n",
    "])\n",
    "\n",
    "# Total nodes and edges\n",
    "print(f\"Number of nodes: {G.number_of_nodes()}\")\n",
    "print(f\"Number of edges: {G.number_of_edges()}\")\n",
    "\n",
    "# Check node and edge data\n",
    "print(f\"Sample nodes: {list(G.nodes(data=True))[:5]}\")\n",
    "print(f\"Sample edges: {list(G.edges(data=True))[:5]}\")\n",
    "\n"
   ]
  },
  {
   "cell_type": "code",
   "execution_count": 51,
   "metadata": {},
   "outputs": [
    {
     "name": "stdout",
     "output_type": "stream",
     "text": [
      "Top users by degree: [('ANGH6401L9Y0T', 4090), ('A2B3Z2QHW3V35S', 2225), ('AV6QDP8Q0ONK4', 1806), ('A3QLAOOTFEHCJI', 1267), ('A1X1CEGHTHMBL1', 1243), ('AY12DBB0U420B', 1209), ('A1G0VFQ9198IUF', 1151), ('ANCOMAI0I7LVG', 1056), ('A1TJIJKKN15KR9', 1023), ('A27H9DOUGY9FOS', 894)]\n",
      "Top products by degree: [('B009AJD5E0', 814), ('B009NQKPUW', 812), ('B008M4HANQ', 811), ('B008Y1RTUG', 806), ('B0098VYCCE', 806), ('B005LAIHSG', 806), ('B005LAIHSQ', 806), ('B005LAIHXQ', 787), ('B005LAIHY0', 786), ('B0085Z8F4A', 784)]\n"
     ]
    }
   ],
   "source": [
    "# Top users by degree\n",
    "user_degrees = [(n, d) for n, d in G.degree() if G.nodes[n]['bipartite'] == 0]\n",
    "top_users = sorted(user_degrees, key=lambda x: x[1], reverse=True)[:10]\n",
    "print(\"Top users by degree:\", top_users)\n",
    "\n",
    "# Top products by degree\n",
    "product_degrees = [(n, d) for n, d in G.degree() if G.nodes[n]['bipartite'] == 1]\n",
    "top_products = sorted(product_degrees, key=lambda x: x[1], reverse=True)[:10]\n",
    "print(\"Top products by degree:\", top_products)\n"
   ]
  },
  {
   "cell_type": "code",
   "execution_count": 52,
   "metadata": {},
   "outputs": [
    {
     "name": "stdout",
     "output_type": "stream",
     "text": [
      "Top related products by shared users: [('B009NQKPUW', 'B009AJD5E0', {'weight': 812}), ('B008Y1RTUG', 'B005LAIHSQ', {'weight': 806}), ('B008Y1RTUG', 'B005LAIHSG', {'weight': 806}), ('B008Y1RTUG', 'B008M4HANQ', {'weight': 806}), ('B008Y1RTUG', 'B0098VYCCE', {'weight': 806}), ('B0098VYCCE', 'B005LAIHSQ', {'weight': 806}), ('B0098VYCCE', 'B005LAIHSG', {'weight': 806}), ('B0098VYCCE', 'B008M4HANQ', {'weight': 806}), ('B008M4HANQ', 'B005LAIHSQ', {'weight': 806}), ('B008M4HANQ', 'B005LAIHSG', {'weight': 806})]\n"
     ]
    }
   ],
   "source": [
    "from networkx.algorithms import bipartite\n",
    "\n",
    "# Extract product nodes\n",
    "product_nodes = [n for n, d in G.nodes(data=True) if d['bipartite'] == 1]\n",
    "\n",
    "# Create the product-product graph\n",
    "product_graph = bipartite.weighted_projected_graph(G, product_nodes)\n",
    "\n",
    "# Top related products by shared users\n",
    "top_pairs = sorted(product_graph.edges(data=True), key=lambda x: x[2]['weight'], reverse=True)[:10]\n",
    "print(\"Top related products by shared users:\", top_pairs)\n"
   ]
  },
  {
   "cell_type": "code",
   "execution_count": 54,
   "metadata": {},
   "outputs": [
    {
     "name": "stdout",
     "output_type": "stream",
     "text": [
      "The graph is not connected.\n"
     ]
    }
   ],
   "source": [
    "# Check if the bipartite graph is connected\n",
    "if nx.is_connected(G):\n",
    "    print(\"The graph is connected.\")\n",
    "\n",
    "    # Find connected components and visualize the largest connected component\n",
    "    connected_components = list(nx.connected_components(G))\n",
    "    largest_component = max(connected_components, key=len)\n",
    "    largest_subgraph = G.subgraph(largest_component)\n",
    "\n",
    "    # Visualize the largest connected component (using spring layout)\n",
    "    import matplotlib.pyplot as plt\n",
    "    plt.figure(figsize=(10, 10))\n",
    "    pos = nx.spring_layout(largest_subgraph, seed=42)\n",
    "    nx.draw(largest_subgraph, pos, with_labels=False, node_size=50, alpha=0.6, edge_color='gray')\n",
    "    plt.title(\"Largest Connected Component of the Graph\")\n",
    "    plt.show()\n",
    "else:\n",
    "    print(\"The graph is not connected.\")\n",
    "    \n"
   ]
  },
  {
   "cell_type": "code",
   "execution_count": 57,
   "metadata": {},
   "outputs": [
    {
     "name": "stdout",
     "output_type": "stream",
     "text": [
      "Top users/products in connected component 1: [('ANGH6401L9Y0T', 4090), ('A2B3Z2QHW3V35S', 2225), ('AV6QDP8Q0ONK4', 1806), ('A3QLAOOTFEHCJI', 1267), ('A1X1CEGHTHMBL1', 1243), ('AY12DBB0U420B', 1209), ('A1G0VFQ9198IUF', 1151), ('ANCOMAI0I7LVG', 1056), ('A1TJIJKKN15KR9', 1023), ('A27H9DOUGY9FOS', 894)]\n",
      "Top users/products in connected component 2: [('A33FAH3K20SX5G', 4), ('B00005EAXH', 1), ('B00004ZBX8', 1), ('B000053V4P', 1), ('B00004U104', 1)]\n",
      "Top users/products in connected component 3: [('B000MGBLGY', 10), ('A3VTW30NQQ9Q86', 8), ('AK9NE4POU3OBM', 7), ('B0000CBY1B', 2), ('B00005JK45', 2), ('6305112878', 2), ('B000BMY2LU', 2), ('B00004CJSB', 2), ('6300147436', 2), ('B0000399WR', 2)]\n",
      "Top users/products in connected component 4: [('A1HA3NL7L8V7AH', 8), ('A1Q7YZHN76FO38', 5), ('B001O0TWYA', 2), ('B001O0TWZ4', 2), ('B002LTC1GE', 2), ('B002IX73DE', 2), ('B001O0TWYK', 2), ('B00009Y3NC', 1), ('B001LQZQME', 1), ('B001LQWQ2W', 1)]\n",
      "Top users/products in connected component 5: [('A34I6JWT6FF7U8', 3), ('A2YL7OIW5S9VIS', 3), ('B0068790NM', 2), ('B0068795YQ', 2), ('B0060C9A6W', 2)]\n",
      "Top users/products in connected component 6: [('A20H2NXGJNAAOQ', 2), ('6303036953', 2), ('A3SI82HRZ53XIZ', 2), ('B0009X75XI', 2)]\n",
      "Top users/products in connected component 7: [('A2C13KJYH0VNRS', 7), ('A3MKUCM3O1UFAG', 4), ('A2FI3Y0KNJWI5N', 4), ('B006UJDC2I', 3), ('B0058OR3RG', 3), ('B006UJDEL2', 3), ('B0058OR3SA', 3), ('B00005QFGU', 1), ('B00005QBYL', 1), ('B00004R9J4', 1)]\n",
      "Top users/products in connected component 8: [('A77NNDNCKX55Q', 2), ('B00094AS5Y', 1), ('6302843812', 1)]\n",
      "Top users/products in connected component 9: [('A3CDMKYJRL68FT', 3), ('B000T2PRC0', 2), ('B007OWV0NI', 1), ('B0049MTT9I', 1), ('A1EPVFB1YQKEUR', 1)]\n",
      "Top users/products in connected component 10: [('A3I3TF26EZ2V2J', 5), ('B00005R2E6', 1), ('B00004YS79', 1), ('B00004YS7A', 1), ('6303382452', 1), ('B00005QAQ8', 1)]\n",
      "Top users/products in connected component 11: [('A1YNUE0TLKMYAY', 1), ('B00009ZK6L', 1)]\n",
      "Top users/products in connected component 12: [('B004P7CNJK', 4), ('A2X0L5TFMOP33H', 1), ('A3EOTRLLKRX043', 1), ('A2CQ9STCEVKZXI', 1), ('A2ESAU0JB78QHL', 1)]\n",
      "Top users/products in connected component 13: [('A132ON51OV414E', 2), ('B000ASKK2K', 1), ('B000RZGHQY', 1)]\n",
      "Top users/products in connected component 14: [('A1DPBLGO3O7RGT', 1), ('B0001KNHS6', 1)]\n",
      "Top users/products in connected component 15: [('B001BNFR6W', 13), ('A2T66X5WY4BWYW', 1), ('A178JQVAEJWJ9H', 1), ('A32W4YGN7KN1BU', 1), ('A2ALHSH672JX97', 1), ('AVG75BOFAPLZF', 1), ('A13C1G3X7SJEOL', 1), ('A1XJOUZVOEYEMY', 1), ('A1JIGTO4859XDW', 1), ('A1LY59D2L8E49P', 1)]\n",
      "Top users/products in connected component 16: [('A1NQRPK9CQGF0C', 5), ('B00009AV83', 1), ('B0001EYSDU', 1), ('B00009MGPZ', 1), ('1589713273', 1), ('B00009AV85', 1)]\n",
      "Top users/products in connected component 17: [('A18UGPGX1GQD1', 10), ('A8TC6PDQA202T', 10), ('A3N96FSBGEAMZQ', 10), ('B0000844I3', 3), ('B0004Z32N8', 3), ('B0000844I4', 3), ('B0004Z32NI', 3), ('B00006JY5T', 3), ('B00008VXX3', 3), ('B002GCFUC8', 3)]\n",
      "Top users/products in connected component 18: [('B0000065O1', 3), ('B0000X61UU', 3), ('A160CISHSSJ96G', 2), ('A205R67ZID7Q75', 2), ('A2QH8581SX73L6', 2)]\n",
      "Top users/products in connected component 19: [('B000KGH03E', 1), ('A3JNKUGYP72VOJ', 1)]\n",
      "Top users/products in connected component 20: [('A3GK8JFJDCAK51', 3), ('A1Q1KJRFHT7N2T', 3), ('B001QAXGTK', 2), ('B00009XN9I', 2), ('B001QAZHB0', 2)]\n",
      "Top users/products in connected component 21: [('B000IU37NE', 3), ('A1Z7WKWD8P3EC1', 1), ('A37X9ZEPDULJFT', 1), ('A1RZB5LE7UX16Y', 1)]\n",
      "Top users/products in connected component 22: [('A3NSD5S76N2F8I', 12), ('6304277385', 1), ('6304923104', 1), ('B000787YOA', 1), ('B001KP1K8U', 1), ('B001LXO38K', 1), ('B0001GH79U', 1), ('B0009O9GHA', 1), ('B000WC3A0I', 1), ('B0000897C9', 1)]\n",
      "Top users/products in connected component 23: [('B005R2S3VE', 2), ('A37SJVYSQKWQ7M', 1), ('AAFAANTE4JC0Y', 1)]\n",
      "Top users/products in connected component 24: [('B001FWRZ0U', 8), ('B00486HAN2', 8), ('B003A3X24A', 8), ('B000XUNNVK', 8), ('A1EZGE03GU9UNY', 4), ('A3PMDJ2BLIN2NK', 4), ('A1JFYUXTXJ10H8', 4), ('A170STACCEZOOU', 4), ('A3HH4ATTJPCGQX', 4), ('A3IKHP7MW3149T', 4)]\n",
      "Top users/products in connected component 25: [('A15OTQN2942EPK', 2), ('1573622869', 1), ('1573623164', 1)]\n",
      "Top users/products in connected component 26: [('A20IKYQSABQDL1', 2), ('B005N10I30', 1), ('B002WIIOMO', 1)]\n",
      "Top users/products in connected component 27: [('B000WP09OK', 3), ('A25GQBOZ9LDMN7', 1), ('A30JAGVBF3USGN', 1), ('A23JQ26A0RMMG4', 1)]\n",
      "Top users/products in connected component 28: [('B006HNRSFE', 4), ('A7SLN3HL19ZH7', 2), ('A2WS2JZG2XOQ9F', 1), ('B003WEA8NU', 1), ('A1T7LLSBAHAMUJ', 1), ('A3D9V6DBXETFLW', 1)]\n",
      "Top users/products in connected component 29: [('A393ILLXJYIEHN', 9), ('B000PH40HC', 1), ('B00907SVCS', 1), ('B0010NXUTE', 1), ('B000CQQI9O', 1), ('B000CQ98G4', 1), ('B000CQ98FU', 1), ('B000H5TH2A', 1), ('B0028O9VBU', 1), ('B003F1NI6E', 1)]\n",
      "Top users/products in connected component 30: [('A3R14IBG0UY0ML', 1), ('B000DZ95RG', 1)]\n",
      "Top users/products in connected component 31: [('A1JUNRNHX00JUY', 1), ('6302786843', 1)]\n",
      "Top users/products in connected component 32: [('B00003L3IJ', 14), ('B0000048V8', 14), ('B00004U9LT', 14), ('B000HIVIOW', 14), ('B00061RZXI', 14), ('A1FOG47S7OBF7A', 6), ('A2PS6AK6BGROH8', 5), ('A27FR64U31BB2J', 5), ('A30QR5DZTSK65Y', 5), ('A1IFQX0MD972BF', 5)]\n",
      "Top users/products in connected component 33: [('A3F2K509AP1OKT', 2), ('B006P4IGIS', 1), ('B006P4GVUI', 1)]\n",
      "Top users/products in connected component 34: [('AILW2SUPSMZ2A', 3), ('B000PU59NI', 1), ('B000PU35GQ', 1), ('B000H5U5HQ', 1)]\n",
      "Top users/products in connected component 35: [('B000CIF3U2', 6), ('ATBB1507UDI61', 1), ('A1W6H0ELR1CA66', 1), ('AG7RGV0DSIL3M', 1), ('A2VQ6WSJY7NVJ3', 1), ('ASVNALA042PTJ', 1), ('A2NUNF1UEOOKSN', 1)]\n",
      "Top users/products in connected component 36: [('A2IG4HFH51QZT8', 1), ('B00000641U', 1)]\n",
      "Top users/products in connected component 37: [('B00004CRMS', 12), ('A2NQ50QG8IPA3V', 1), ('A2C40M22RK6FS0', 1), ('A1OF28TKBC3RVU', 1), ('AR36PAOWB4N1C', 1), ('A3JL9FTV9NOPQO', 1), ('A3A38CV04P4VC7', 1), ('A12R2OPDSDJL15', 1), ('ADU17SU4SYV37', 1), ('A1L653NQM1UZL6', 1)]\n",
      "Top users/products in connected component 38: [('A2JNFJ13U4KR2K', 5), ('A2X7A9AOYT9RRQ', 5), ('A2RL6VKA2DZZT3', 5), ('6304170424', 3), ('6304170416', 3), ('6304170432', 3), ('B00006FXQO', 3), ('6304170408', 3)]\n",
      "Top users/products in connected component 39: [('B006HVJTYO', 2), ('A2KSW1Z43F1ZYR', 2), ('B006HVJTRQ', 2), ('A6T5X2V9HJC3', 2)]\n",
      "Top users/products in connected component 40: [('AQOCZZM28Z5DZ', 1), ('B001H5O8QY', 1)]\n",
      "Top users/products in connected component 41: [('A1PP3VGMONR8ZE', 2), ('AFCX1NB5P61S0', 2), ('B004X4RIXG', 2), ('B004L51CZM', 2)]\n",
      "Top users/products in connected component 42: [('A3HJ8NF46J1CMI', 3), ('B004G8UTZS', 1), ('B004G8SW9I', 1), ('B0000AM6I0', 1)]\n",
      "Top users/products in connected component 43: [('AYCLWW0QLXA2I', 2), ('B006R0AKXE', 2), ('A26SEDBXSGXOX0', 2), ('B006R0AGLA', 2)]\n",
      "Top users/products in connected component 44: [('A17MZO6SR8STHL', 1), ('B002KFSTUQ', 1)]\n",
      "Top users/products in connected component 45: [('B004YTKRBA', 4), ('A1S0U1PBDMHIB5', 1), ('A3TFZESCU8BFML', 1), ('AHYA5UPBNW0RO', 1), ('AJCXIHGT2CCF8', 1)]\n",
      "Top users/products in connected component 46: [('B0009W5IMO', 5), ('B0093I6EFA', 5), ('B000V9KEEW', 5), ('A1JOMQOH7MXS7M', 3), ('A21LD1T5VQB777', 3), ('A387L26A4MZCST', 3), ('A27XXAJVGAAWBL', 3), ('A1IL6W1NK05UW9', 3)]\n",
      "Top users/products in connected component 47: [('A30RJAKA8EZI62', 2), ('B000MK6ADY', 1), ('B0017MO10K', 1)]\n",
      "Top users/products in connected component 48: [('A16SRWOMWSQ0E', 2), ('B000WOYSDO', 1), ('B000YKYT4O', 1)]\n",
      "Top users/products in connected component 49: [('B000KEG988', 2), ('A2ONF9SOA52CM7', 1), ('A37BM76R6I2UUN', 1)]\n",
      "Top users/products in connected component 50: [('061529118X', 4), ('A20S2A1A16IIP7', 1), ('A3CRKDZJF6WXG8', 1), ('A14PMSGUCFV8ZI', 1), ('A1AGRS4CTWYRWY', 1)]\n",
      "Top users/products in connected component 51: [('A2KO2C9TS09S8V', 2), ('A3O9KUONL721H4', 2), ('B006BFYKDG', 2), ('B005SDUVEE', 2)]\n",
      "Top users/products in connected component 52: [('A1GD0DM238YK96', 1), ('B004IC02TA', 1)]\n",
      "Top users/products in connected component 53: [('A2CNI4ONLITPGA', 1), ('078062498X', 1)]\n",
      "Top users/products in connected component 54: [('A3TJ3NIT0VPBNE', 2), ('B003G5UR9K', 1), ('B003G5QN9I', 1)]\n",
      "Top users/products in connected component 55: [('B004PWCPPW', 2), ('AUSGZ2RCVES4L', 1), ('A12N73B3DKRZ1X', 1)]\n",
      "Top users/products in connected component 56: [('1574926403', 2), ('APP3OLQ44PDC5', 1), ('A3D728MIQI56LK', 1)]\n",
      "Top users/products in connected component 57: [('A2LV32HVXFSC6S', 3), ('A12GCWSA1X6WTZ', 3), ('B00005BCN1', 2), ('B00005BJO4', 2), ('B00005BCN2', 2)]\n",
      "Top users/products in connected component 58: [('A2EVJCL2P30GOU', 2), ('B000VJ5PU0', 1), ('B000T4T954', 1)]\n",
      "Top users/products in connected component 59: [('B0042KCXCM', 2), ('A2A1Y3OAAWFXPN', 1), ('A12UX7STO0RUF7', 1)]\n",
      "Top users/products in connected component 60: [('B000GCG9N4', 2), ('A27EX9R9YOME5A', 1), ('A2GFY3ZIGFHLXC', 1)]\n",
      "Top users/products in connected component 61: [('AJX4QMJYZL8E1', 3), ('B0002RQOTM', 2), ('A31CUASJJ9EJUY', 1), ('B0002RQOU6', 1), ('B0002RQOTW', 1)]\n",
      "Top users/products in connected component 62: [('B001B8MLLG', 3), ('A2WFQ9E6MN6I9I', 1), ('A2ZX5CVNSM9T6K', 1), ('A35J677FLHNBQP', 1)]\n",
      "Top users/products in connected component 63: [('B005CRDG8E', 7), ('B005CRIDT6', 7), ('AH7A5BVI1BT5Q', 2), ('AP6UU9J0IEU2I', 2), ('AK9V2JWR3T4PI', 2), ('A3CBU9QHBLPSZC', 2), ('A2K24F0XR5L2K1', 2), ('A2CSCZJFPIH3Y0', 2), ('A1VD06NSDTCMV1', 2)]\n",
      "Top users/products in connected component 64: [('B004TP55UM', 1), ('A37RZTOUNU0XZG', 1)]\n",
      "Top users/products in connected component 65: [('A2M9GKAVECJ4A', 7), ('AX1TTLITQRRKQ', 7), ('B00004RJGE', 2), ('B0000068Z8', 2), ('B000056HEH', 2), ('B000IZZRSC', 2), ('B000IZ8V9O', 2), ('6304429150', 2), ('B00028HCE2', 2)]\n",
      "Top users/products in connected component 66: [('A2BNV7ZOAFR4EV', 1), ('B0009IW98E', 1)]\n",
      "Top users/products in connected component 67: [('B004HHX9H8', 19), ('A17RNNQTHEPR4M', 2), ('ABLO0X30OBP1I', 1), ('A1WBWFT3HZS7PD', 1), ('A291ZB2Z5RJPBM', 1), ('A3TOAOWG9KDSFG', 1), ('A1WWV42U03QYWS', 1), ('A3QT3X0OP0A6UW', 1), ('A3H58N0S8KXKET', 1), ('A19CBCLWFX1FYV', 1)]\n",
      "Top users/products in connected component 68: [('B004ZQJ31W', 4), ('A2U6O6E1FUNZXV', 1), ('A17GQ2QU2TLGTC', 1), ('A3H3EW3ZVW2RRT', 1), ('A23GN4IMEQORC', 1)]\n",
      "Top users/products in connected component 69: [('B0009QYGLE', 2), ('A2TTAMA0EH69HX', 1), ('A3016LJXT78WCI', 1)]\n",
      "Top users/products in connected component 70: [('B006F7VG0K', 1), ('A709ESPO7KADD', 1)]\n",
      "Top users/products in connected component 71: [('A1D9U4U84IKS1W', 2), ('B0045VGYMS', 1), ('B003ENHAO4', 1)]\n",
      "Top users/products in connected component 72: [('A1MVOWNEKKBLF6', 1), ('B0002WZTJI', 1)]\n",
      "Top users/products in connected component 73: [('B000FOPPCE', 3), ('A2V7STOCB8CWM8', 1), ('A1I0YM06JP7SKS', 1), ('A2OKICFZ1WBFUE', 1)]\n",
      "Top users/products in connected component 74: [('AZCKKR8Z7CSPK', 9), ('B000PGJ6CW', 1), ('B000A7Q25K', 1), ('B000096R12', 1), ('6304584539', 1), ('6303170676', 1), ('B001O0TMU4', 1), ('6304467834', 1), ('B004AMGW9M', 1), ('B004ASSTD8', 1)]\n",
      "Top users/products in connected component 75: [('B0007ZEOPK', 2), ('630024718X', 2), ('A2HWYZ9E65NZK4', 2), ('AY30ECGNJEHDP', 2)]\n",
      "Top users/products in connected component 76: [('B000FTCLRQ', 3), ('A2U2VBNO6KW9UN', 1), ('A27KIXWFIIRSNC', 1), ('A25I14QA1G52B8', 1)]\n",
      "Top users/products in connected component 77: [('B006HGXGYS', 1), ('AGOWCBG05XRG8', 1)]\n",
      "Top users/products in connected component 78: [('A103CKP5L6FPHG', 2), ('B0000649L0', 1), ('B00007JGEE', 1)]\n",
      "Top users/products in connected component 79: [('A1TA3HQRVF9UQS', 2), ('B0006IIO36', 2), ('A2SODLZMM5AUWX', 2), ('B0006IIO3Q', 2)]\n",
      "Top users/products in connected component 80: [('B003W4MQ08', 2), ('A3Q6OTW9EIESFK', 1), ('A3HON67T38XCB5', 1)]\n",
      "Top users/products in connected component 81: [('B001BSBBO4', 3), ('B00005B1WX', 2), ('A1EPE5US742JU4', 2), ('AXRIHRA7F7UHQ', 1), ('A38CPA9H14OU9K', 1), ('A8NOM7WO18F1W', 1)]\n",
      "Top users/products in connected component 82: [('AXM4ZB2KA1O0Y', 8), ('B000XJD398', 2), ('6304438176', 1), ('B00004RYKK', 1), ('A1QCL13I25EJ6O', 1), ('B00004RUHN', 1), ('B000JF4EEO', 1), ('6305268827', 1), ('B004SUDPXM', 1), ('B00006JI3T', 1)]\n",
      "Top users/products in connected component 83: [('A8BIPDXXHTH6C', 3), ('B000AMJGBW', 1), ('B00001IVFC', 1), ('6302957591', 1)]\n",
      "Top users/products in connected component 84: [('A2M5B1O5K24WM6', 2), ('B002SATC2C', 2), ('B002BX0LU8', 1), ('A1EZ10JV38IMJN', 1)]\n",
      "Top users/products in connected component 85: [('B005I6JFJ8', 1), ('A1QEMUJMZV5NYD', 1)]\n",
      "Top users/products in connected component 86: [('1935045121', 1), ('A1EPMSTO3WQJEU', 1)]\n",
      "Top users/products in connected component 87: [('B0034KVTNU', 1), ('A10ZQO5JJQ65MX', 1)]\n",
      "Top users/products in connected component 88: [('B004MZ492E', 8), ('A2ZKVVUWI2UGD3', 1), ('AQ9FRBBY6RP94', 1), ('A1DP4USTR0AJS4', 1), ('A1HLDNRWO8V0F8', 1), ('A3LKSMU9EBQRZ2', 1), ('AI2HQ7JRRO2QI', 1), ('A2CC2CRU24E44X', 1), ('A12244LR8X5BAJ', 1)]\n",
      "Top users/products in connected component 89: [('B0000AUHQ9', 1), ('A3ROKM4GUG3JY7', 1)]\n",
      "Top users/products in connected component 90: [('B001U7NW0M', 3), ('A3ALROCFT2FRSM', 1), ('AG041F3J8CSK2', 1), ('AOP30ZMS5KBG2', 1)]\n",
      "Top users/products in connected component 91: [('A39GBSDDVGAD2D', 1), ('B0036HMNPY', 1)]\n",
      "Top users/products in connected component 92: [('B00362K324', 2), ('A1S2YFALYDA2Q7', 1), ('A2ENH5GF4UK38V', 1)]\n",
      "Top users/products in connected component 93: [('B003HC9JDC', 4), ('B005HF4X60', 4), ('A3OZRBTXCVZ7CN', 3), ('A36W5RHN5HD89E', 2), ('A4DAXERNDWB6I', 2), ('B003HC9JC8', 1), ('A1BUQX1B0X20JF', 1), ('B003HC9JCS', 1), ('A3NWK7INEBV8T6', 1), ('AHF3AS62VSSFM', 1)]\n",
      "Top users/products in connected component 94: [('B000P28RXU', 4), ('B000Q35RZY', 2), ('AJEX6EBT0CMBQ', 2), ('A1MIWYVBHVXI7U', 2), ('A18U4F3R13IQ64', 1), ('A18NSKBXTSLNAP', 1), ('A1OFL1GVCNB4PY', 1), ('B000P2XNBQ', 1)]\n",
      "Top users/products in connected component 95: [('B0009WIE3E', 7), ('B000GTLQXK', 7), ('ARB2JEMZGPNHN', 5), ('B0009WIE4I', 3), ('B000GTLQXA', 3), ('A3GB6T666D5CU5', 2), ('A1UC22DR4H5HUI', 2), ('B0009WIE3O', 2), ('A2SGMW1JLALLX4', 2), ('ASCXE6XX0MPXB', 2)]\n",
      "Top users/products in connected component 96: [('B000G6BJGM', 5), ('B005TEZV74', 4), ('A1Y6RTMK10TWWF', 2), ('A2QZWHBEIO3Y8S', 1), ('A1Y64XU0U15P8N', 1), ('A2B51Q876JJCWF', 1), ('A3O7BUVKQ3MSW4', 1), ('AE8AJ68JOVRNG', 1), ('A4YRMDWC8YOA', 1), ('A2XHKHNWP2T99H', 1)]\n",
      "Top users/products in connected component 97: [('B000641Z90', 8), ('A3W43ERLDOJUQQ', 1), ('A2F1CKY4SCFFLV', 1), ('A2CKD6QP7GI8IB', 1), ('A1OX9EH17TJZFX', 1), ('AUGL5J8X90HCX', 1), ('A14UG7LIWOHIAL', 1), ('A2CRB7HZIKOOK4', 1), ('A3TFFFON5F7R1V', 1)]\n",
      "Top users/products in connected component 98: [('B0085TUFQ2', 2), ('A3AZ3G47S0LLJ6', 2), ('B004SAURJM', 1), ('AQSAMKO7M3P75', 1)]\n",
      "Top users/products in connected component 99: [('B0030IYGAY', 1), ('A2N11XERDV89RF', 1)]\n",
      "Top users/products in connected component 100: [('B005OAEWTQ', 1), ('A33O9UQQ8XZBQ9', 1)]\n"
     ]
    }
   ],
   "source": [
    "# Analyze degree centrality in each connected component\n",
    "for i, component in enumerate(connected_components[:100]):  # Limit to first 3 components for example\n",
    "    subgraph = G.subgraph(component)\n",
    "    degree_analysis = sorted(subgraph.degree(), key=lambda x: x[1], reverse=True)\n",
    "    print(f\"Top users/products in connected component {i + 1}:\", degree_analysis[:10])\n"
   ]
  },
  {
   "cell_type": "code",
   "execution_count": 58,
   "metadata": {},
   "outputs": [
    {
     "ename": "KeyboardInterrupt",
     "evalue": "",
     "output_type": "error",
     "traceback": [
      "\u001b[0;31m---------------------------------------------------------------------------\u001b[0m",
      "\u001b[0;31mKeyboardInterrupt\u001b[0m                         Traceback (most recent call last)",
      "Cell \u001b[0;32mIn[58], line 10\u001b[0m\n\u001b[1;32m      8\u001b[0m \u001b[38;5;66;03m# Generate a layout and draw the graph\u001b[39;00m\n\u001b[1;32m      9\u001b[0m plt\u001b[38;5;241m.\u001b[39mfigure(figsize\u001b[38;5;241m=\u001b[39m(\u001b[38;5;241m10\u001b[39m, \u001b[38;5;241m10\u001b[39m))\n\u001b[0;32m---> 10\u001b[0m pos \u001b[38;5;241m=\u001b[39m \u001b[43mnx\u001b[49m\u001b[38;5;241;43m.\u001b[39;49m\u001b[43mspring_layout\u001b[49m\u001b[43m(\u001b[49m\u001b[43msubgraph\u001b[49m\u001b[43m,\u001b[49m\u001b[43m \u001b[49m\u001b[43mseed\u001b[49m\u001b[38;5;241;43m=\u001b[39;49m\u001b[38;5;241;43m42\u001b[39;49m\u001b[43m)\u001b[49m\n\u001b[1;32m     11\u001b[0m nx\u001b[38;5;241m.\u001b[39mdraw(subgraph, pos, with_labels\u001b[38;5;241m=\u001b[39m\u001b[38;5;28;01mFalse\u001b[39;00m, node_size\u001b[38;5;241m=\u001b[39m\u001b[38;5;241m50\u001b[39m, alpha\u001b[38;5;241m=\u001b[39m\u001b[38;5;241m0.6\u001b[39m, edge_color\u001b[38;5;241m=\u001b[39m\u001b[38;5;124m'\u001b[39m\u001b[38;5;124mgray\u001b[39m\u001b[38;5;124m'\u001b[39m)\n\u001b[1;32m     12\u001b[0m plt\u001b[38;5;241m.\u001b[39mtitle(\u001b[38;5;124mf\u001b[39m\u001b[38;5;124m\"\u001b[39m\u001b[38;5;124mConnected Component \u001b[39m\u001b[38;5;132;01m{\u001b[39;00mi\u001b[38;5;250m \u001b[39m\u001b[38;5;241m+\u001b[39m\u001b[38;5;250m \u001b[39m\u001b[38;5;241m1\u001b[39m\u001b[38;5;132;01m}\u001b[39;00m\u001b[38;5;124m\"\u001b[39m)\n",
      "File \u001b[0;32m<class 'networkx.utils.decorators.argmap'> compilation 13:4\u001b[0m, in \u001b[0;36margmap_spring_layout_10\u001b[0;34m(G, k, pos, fixed, iterations, threshold, weight, scale, center, dim, seed)\u001b[0m\n\u001b[1;32m      2\u001b[0m \u001b[38;5;28;01mimport\u001b[39;00m \u001b[38;5;21;01mcollections\u001b[39;00m\n\u001b[1;32m      3\u001b[0m \u001b[38;5;28;01mimport\u001b[39;00m \u001b[38;5;21;01mgzip\u001b[39;00m\n\u001b[0;32m----> 4\u001b[0m \u001b[38;5;28;01mimport\u001b[39;00m \u001b[38;5;21;01minspect\u001b[39;00m\n\u001b[1;32m      5\u001b[0m \u001b[38;5;28;01mimport\u001b[39;00m \u001b[38;5;21;01mitertools\u001b[39;00m\n\u001b[1;32m      6\u001b[0m \u001b[38;5;28;01mimport\u001b[39;00m \u001b[38;5;21;01mre\u001b[39;00m\n",
      "File \u001b[0;32m~/Documents/ADC-Project/env/lib/python3.12/site-packages/networkx/drawing/layout.py:486\u001b[0m, in \u001b[0;36mspring_layout\u001b[0;34m(G, k, pos, fixed, iterations, threshold, weight, scale, center, dim, seed)\u001b[0m\n\u001b[1;32m    484\u001b[0m         nnodes, _ \u001b[38;5;241m=\u001b[39m A\u001b[38;5;241m.\u001b[39mshape\n\u001b[1;32m    485\u001b[0m         k \u001b[38;5;241m=\u001b[39m dom_size \u001b[38;5;241m/\u001b[39m np\u001b[38;5;241m.\u001b[39msqrt(nnodes)\n\u001b[0;32m--> 486\u001b[0m     pos \u001b[38;5;241m=\u001b[39m \u001b[43m_sparse_fruchterman_reingold\u001b[49m\u001b[43m(\u001b[49m\n\u001b[1;32m    487\u001b[0m \u001b[43m        \u001b[49m\u001b[43mA\u001b[49m\u001b[43m,\u001b[49m\u001b[43m \u001b[49m\u001b[43mk\u001b[49m\u001b[43m,\u001b[49m\u001b[43m \u001b[49m\u001b[43mpos_arr\u001b[49m\u001b[43m,\u001b[49m\u001b[43m \u001b[49m\u001b[43mfixed\u001b[49m\u001b[43m,\u001b[49m\u001b[43m \u001b[49m\u001b[43miterations\u001b[49m\u001b[43m,\u001b[49m\u001b[43m \u001b[49m\u001b[43mthreshold\u001b[49m\u001b[43m,\u001b[49m\u001b[43m \u001b[49m\u001b[43mdim\u001b[49m\u001b[43m,\u001b[49m\u001b[43m \u001b[49m\u001b[43mseed\u001b[49m\n\u001b[1;32m    488\u001b[0m \u001b[43m    \u001b[49m\u001b[43m)\u001b[49m\n\u001b[1;32m    489\u001b[0m \u001b[38;5;28;01mexcept\u001b[39;00m \u001b[38;5;167;01mValueError\u001b[39;00m:\n\u001b[1;32m    490\u001b[0m     A \u001b[38;5;241m=\u001b[39m nx\u001b[38;5;241m.\u001b[39mto_numpy_array(G, weight\u001b[38;5;241m=\u001b[39mweight)\n",
      "File \u001b[0;32m<class 'networkx.utils.decorators.argmap'> compilation 21:4\u001b[0m, in \u001b[0;36margmap__sparse_fruchterman_reingold_18\u001b[0;34m(A, k, pos, fixed, iterations, threshold, dim, seed)\u001b[0m\n\u001b[1;32m      2\u001b[0m \u001b[38;5;28;01mimport\u001b[39;00m \u001b[38;5;21;01mcollections\u001b[39;00m\n\u001b[1;32m      3\u001b[0m \u001b[38;5;28;01mimport\u001b[39;00m \u001b[38;5;21;01mgzip\u001b[39;00m\n\u001b[0;32m----> 4\u001b[0m \u001b[38;5;28;01mimport\u001b[39;00m \u001b[38;5;21;01minspect\u001b[39;00m\n\u001b[1;32m      5\u001b[0m \u001b[38;5;28;01mimport\u001b[39;00m \u001b[38;5;21;01mitertools\u001b[39;00m\n\u001b[1;32m      6\u001b[0m \u001b[38;5;28;01mimport\u001b[39;00m \u001b[38;5;21;01mre\u001b[39;00m\n",
      "File \u001b[0;32m~/Documents/ADC-Project/env/lib/python3.12/site-packages/networkx/drawing/layout.py:629\u001b[0m, in \u001b[0;36m_sparse_fruchterman_reingold\u001b[0;34m(A, k, pos, fixed, iterations, threshold, dim, seed)\u001b[0m\n\u001b[1;32m    625\u001b[0m     Ai \u001b[38;5;241m=\u001b[39m A\u001b[38;5;241m.\u001b[39mgetrowview(i)\u001b[38;5;241m.\u001b[39mtoarray()  \u001b[38;5;66;03m# TODO: revisit w/ sparse 1D container\u001b[39;00m\n\u001b[1;32m    626\u001b[0m     \u001b[38;5;66;03m# displacement \"force\"\u001b[39;00m\n\u001b[1;32m    627\u001b[0m     displacement[:, i] \u001b[38;5;241m+\u001b[39m\u001b[38;5;241m=\u001b[39m \u001b[43m(\u001b[49m\n\u001b[1;32m    628\u001b[0m \u001b[43m        \u001b[49m\u001b[43mdelta\u001b[49m\u001b[43m \u001b[49m\u001b[38;5;241;43m*\u001b[39;49m\u001b[43m \u001b[49m\u001b[43m(\u001b[49m\u001b[43mk\u001b[49m\u001b[43m \u001b[49m\u001b[38;5;241;43m*\u001b[39;49m\u001b[43m \u001b[49m\u001b[43mk\u001b[49m\u001b[43m \u001b[49m\u001b[38;5;241;43m/\u001b[39;49m\u001b[43m \u001b[49m\u001b[43mdistance\u001b[49m\u001b[38;5;241;43m*\u001b[39;49m\u001b[38;5;241;43m*\u001b[39;49m\u001b[38;5;241;43m2\u001b[39;49m\u001b[43m \u001b[49m\u001b[38;5;241;43m-\u001b[39;49m\u001b[43m \u001b[49m\u001b[43mAi\u001b[49m\u001b[43m \u001b[49m\u001b[38;5;241;43m*\u001b[39;49m\u001b[43m \u001b[49m\u001b[43mdistance\u001b[49m\u001b[43m \u001b[49m\u001b[38;5;241;43m/\u001b[39;49m\u001b[43m \u001b[49m\u001b[43mk\u001b[49m\u001b[43m)\u001b[49m\n\u001b[0;32m--> 629\u001b[0m \u001b[43m    \u001b[49m\u001b[43m)\u001b[49m\u001b[38;5;241;43m.\u001b[39;49m\u001b[43msum\u001b[49m\u001b[43m(\u001b[49m\u001b[43maxis\u001b[49m\u001b[38;5;241;43m=\u001b[39;49m\u001b[38;5;241;43m1\u001b[39;49m\u001b[43m)\u001b[49m\n\u001b[1;32m    630\u001b[0m \u001b[38;5;66;03m# update positions\u001b[39;00m\n\u001b[1;32m    631\u001b[0m length \u001b[38;5;241m=\u001b[39m np\u001b[38;5;241m.\u001b[39msqrt((displacement\u001b[38;5;241m*\u001b[39m\u001b[38;5;241m*\u001b[39m\u001b[38;5;241m2\u001b[39m)\u001b[38;5;241m.\u001b[39msum(axis\u001b[38;5;241m=\u001b[39m\u001b[38;5;241m0\u001b[39m))\n",
      "File \u001b[0;32m~/Documents/ADC-Project/env/lib/python3.12/site-packages/numpy/_core/_methods.py:50\u001b[0m, in \u001b[0;36m_sum\u001b[0;34m(a, axis, dtype, out, keepdims, initial, where)\u001b[0m\n\u001b[1;32m     46\u001b[0m \u001b[38;5;28;01mdef\u001b[39;00m \u001b[38;5;21m_amin\u001b[39m(a, axis\u001b[38;5;241m=\u001b[39m\u001b[38;5;28;01mNone\u001b[39;00m, out\u001b[38;5;241m=\u001b[39m\u001b[38;5;28;01mNone\u001b[39;00m, keepdims\u001b[38;5;241m=\u001b[39m\u001b[38;5;28;01mFalse\u001b[39;00m,\n\u001b[1;32m     47\u001b[0m           initial\u001b[38;5;241m=\u001b[39m_NoValue, where\u001b[38;5;241m=\u001b[39m\u001b[38;5;28;01mTrue\u001b[39;00m):\n\u001b[1;32m     48\u001b[0m     \u001b[38;5;28;01mreturn\u001b[39;00m umr_minimum(a, axis, \u001b[38;5;28;01mNone\u001b[39;00m, out, keepdims, initial, where)\n\u001b[0;32m---> 50\u001b[0m \u001b[38;5;28;01mdef\u001b[39;00m \u001b[38;5;21m_sum\u001b[39m(a, axis\u001b[38;5;241m=\u001b[39m\u001b[38;5;28;01mNone\u001b[39;00m, dtype\u001b[38;5;241m=\u001b[39m\u001b[38;5;28;01mNone\u001b[39;00m, out\u001b[38;5;241m=\u001b[39m\u001b[38;5;28;01mNone\u001b[39;00m, keepdims\u001b[38;5;241m=\u001b[39m\u001b[38;5;28;01mFalse\u001b[39;00m,\n\u001b[1;32m     51\u001b[0m          initial\u001b[38;5;241m=\u001b[39m_NoValue, where\u001b[38;5;241m=\u001b[39m\u001b[38;5;28;01mTrue\u001b[39;00m):\n\u001b[1;32m     52\u001b[0m     \u001b[38;5;28;01mreturn\u001b[39;00m umr_sum(a, axis, dtype, out, keepdims, initial, where)\n\u001b[1;32m     54\u001b[0m \u001b[38;5;28;01mdef\u001b[39;00m \u001b[38;5;21m_prod\u001b[39m(a, axis\u001b[38;5;241m=\u001b[39m\u001b[38;5;28;01mNone\u001b[39;00m, dtype\u001b[38;5;241m=\u001b[39m\u001b[38;5;28;01mNone\u001b[39;00m, out\u001b[38;5;241m=\u001b[39m\u001b[38;5;28;01mNone\u001b[39;00m, keepdims\u001b[38;5;241m=\u001b[39m\u001b[38;5;28;01mFalse\u001b[39;00m,\n\u001b[1;32m     55\u001b[0m           initial\u001b[38;5;241m=\u001b[39m_NoValue, where\u001b[38;5;241m=\u001b[39m\u001b[38;5;28;01mTrue\u001b[39;00m):\n",
      "\u001b[0;31mKeyboardInterrupt\u001b[0m: "
     ]
    },
    {
     "data": {
      "text/plain": [
       "<Figure size 1000x1000 with 0 Axes>"
      ]
     },
     "metadata": {},
     "output_type": "display_data"
    }
   ],
   "source": [
    "import matplotlib.pyplot as plt\n",
    "import networkx as nx\n",
    "\n",
    "# Visualize the first few connected components\n",
    "for i, component in enumerate(connected_components[:3]):  # Limit to first 3 components\n",
    "    subgraph = G.subgraph(component)\n",
    "    \n",
    "    # Generate a layout and draw the graph\n",
    "    plt.figure(figsize=(10, 10))\n",
    "    pos = nx.spring_layout(subgraph, seed=42)\n",
    "    nx.draw(subgraph, pos, with_labels=False, node_size=50, alpha=0.6, edge_color='gray')\n",
    "    plt.title(f\"Connected Component {i + 1}\")\n",
    "    plt.show()\n"
   ]
  }
 ],
 "metadata": {
  "kernelspec": {
   "display_name": "env",
   "language": "python",
   "name": "python3"
  },
  "language_info": {
   "codemirror_mode": {
    "name": "ipython",
    "version": 3
   },
   "file_extension": ".py",
   "mimetype": "text/x-python",
   "name": "python",
   "nbconvert_exporter": "python",
   "pygments_lexer": "ipython3",
   "version": "3.12.7"
  }
 },
 "nbformat": 4,
 "nbformat_minor": 4
}
