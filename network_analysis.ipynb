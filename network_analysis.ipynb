{
 "cells": [
  {
   "cell_type": "markdown",
   "metadata": {},
   "source": [
    "# Project CDA - Web data: Amazon movie reviews\n",
    "\n",
    "We started by creating the subset using the dataset available (https://snap.stanford.edu/data/web-Movies.html). We converted the .txt file in a .parquet file to have a better performance treating the data making the analysis faster."
   ]
  },
  {
   "cell_type": "markdown",
   "metadata": {},
   "source": [
    "Network Analyses"
   ]
  },
  {
   "cell_type": "code",
   "execution_count": 1,
   "metadata": {},
   "outputs": [],
   "source": [
    "import pandas as pd\n",
    "from datetime import datetime\n",
    "import networkx as nx\n",
    "import matplotlib.pyplot as plt"
   ]
  },
  {
   "cell_type": "code",
   "execution_count": 2,
   "metadata": {},
   "outputs": [],
   "source": [
    "movies_pq = pd.read_parquet(\"movies.parquet\")"
   ]
  },
  {
   "cell_type": "code",
   "execution_count": 3,
   "metadata": {},
   "outputs": [
    {
     "name": "stdout",
     "output_type": "stream",
     "text": [
      "Number of rows:  7911684\n"
     ]
    }
   ],
   "source": [
    "#print do n de rows (esperado 7911684)\n",
    "print(\"Number of rows: \", movies_pq.shape[0])"
   ]
  },
  {
   "cell_type": "code",
   "execution_count": 4,
   "metadata": {},
   "outputs": [
    {
     "data": {
      "text/html": [
       "<div>\n",
       "<style scoped>\n",
       "    .dataframe tbody tr th:only-of-type {\n",
       "        vertical-align: middle;\n",
       "    }\n",
       "\n",
       "    .dataframe tbody tr th {\n",
       "        vertical-align: top;\n",
       "    }\n",
       "\n",
       "    .dataframe thead th {\n",
       "        text-align: right;\n",
       "    }\n",
       "</style>\n",
       "<table border=\"1\" class=\"dataframe\">\n",
       "  <thead>\n",
       "    <tr style=\"text-align: right;\">\n",
       "      <th></th>\n",
       "      <th>prod_id</th>\n",
       "      <th>user_id</th>\n",
       "      <th>rev_score</th>\n",
       "      <th>rev_time</th>\n",
       "    </tr>\n",
       "  </thead>\n",
       "  <tbody>\n",
       "    <tr>\n",
       "      <th>0</th>\n",
       "      <td>B003AI2VGA</td>\n",
       "      <td>A141HP4LYPWMSR</td>\n",
       "      <td>3.0</td>\n",
       "      <td>1182729600</td>\n",
       "    </tr>\n",
       "    <tr>\n",
       "      <th>1</th>\n",
       "      <td>B003AI2VGA</td>\n",
       "      <td>A328S9RN3U5M68</td>\n",
       "      <td>3.0</td>\n",
       "      <td>1181952000</td>\n",
       "    </tr>\n",
       "    <tr>\n",
       "      <th>2</th>\n",
       "      <td>B003AI2VGA</td>\n",
       "      <td>A1I7QGUDP043DG</td>\n",
       "      <td>5.0</td>\n",
       "      <td>1164844800</td>\n",
       "    </tr>\n",
       "    <tr>\n",
       "      <th>3</th>\n",
       "      <td>B003AI2VGA</td>\n",
       "      <td>A1M5405JH9THP9</td>\n",
       "      <td>3.0</td>\n",
       "      <td>1197158400</td>\n",
       "    </tr>\n",
       "    <tr>\n",
       "      <th>4</th>\n",
       "      <td>B003AI2VGA</td>\n",
       "      <td>ATXL536YX71TR</td>\n",
       "      <td>3.0</td>\n",
       "      <td>1188345600</td>\n",
       "    </tr>\n",
       "  </tbody>\n",
       "</table>\n",
       "</div>"
      ],
      "text/plain": [
       "      prod_id         user_id  rev_score    rev_time\n",
       "0  B003AI2VGA  A141HP4LYPWMSR        3.0  1182729600\n",
       "1  B003AI2VGA  A328S9RN3U5M68        3.0  1181952000\n",
       "2  B003AI2VGA  A1I7QGUDP043DG        5.0  1164844800\n",
       "3  B003AI2VGA  A1M5405JH9THP9        3.0  1197158400\n",
       "4  B003AI2VGA   ATXL536YX71TR        3.0  1188345600"
      ]
     },
     "execution_count": 4,
     "metadata": {},
     "output_type": "execute_result"
    }
   ],
   "source": [
    "movies_pq.head()"
   ]
  },
  {
   "cell_type": "code",
   "execution_count": 5,
   "metadata": {},
   "outputs": [
    {
     "name": "stdout",
     "output_type": "stream",
     "text": [
      "      prod_id         user_id  rev_score   rev_time\n",
      "0  B003AI2VGA  A141HP4LYPWMSR        3.0 2007-06-25\n",
      "1  B003AI2VGA  A328S9RN3U5M68        3.0 2007-06-16\n",
      "2  B003AI2VGA  A1I7QGUDP043DG        5.0 2006-11-30\n",
      "3  B003AI2VGA  A1M5405JH9THP9        3.0 2007-12-09\n",
      "4  B003AI2VGA   ATXL536YX71TR        3.0 2007-08-29\n"
     ]
    }
   ],
   "source": [
    "\n",
    "movies_pq['rev_time'] = pd.to_datetime(movies_pq['rev_time'], unit='s')\n",
    "\n",
    "print(movies_pq.head())\n"
   ]
  },
  {
   "cell_type": "code",
   "execution_count": 6,
   "metadata": {},
   "outputs": [
    {
     "name": "stdout",
     "output_type": "stream",
     "text": [
      "count    7.911684e+06\n",
      "mean     4.099872e+00\n",
      "std      1.260914e+00\n",
      "min      1.000000e+00\n",
      "25%      4.000000e+00\n",
      "50%      5.000000e+00\n",
      "75%      5.000000e+00\n",
      "max      5.000000e+00\n",
      "Name: rev_score, dtype: float64\n"
     ]
    }
   ],
   "source": [
    "print(movies_pq['rev_score'].describe())\n"
   ]
  },
  {
   "cell_type": "code",
   "execution_count": 7,
   "metadata": {},
   "outputs": [
    {
     "data": {
      "text/html": [
       "<div>\n",
       "<style scoped>\n",
       "    .dataframe tbody tr th:only-of-type {\n",
       "        vertical-align: middle;\n",
       "    }\n",
       "\n",
       "    .dataframe tbody tr th {\n",
       "        vertical-align: top;\n",
       "    }\n",
       "\n",
       "    .dataframe thead th {\n",
       "        text-align: right;\n",
       "    }\n",
       "</style>\n",
       "<table border=\"1\" class=\"dataframe\">\n",
       "  <thead>\n",
       "    <tr style=\"text-align: right;\">\n",
       "      <th></th>\n",
       "      <th>prod_id</th>\n",
       "      <th>user_id</th>\n",
       "      <th>rev_score</th>\n",
       "      <th>rev_time</th>\n",
       "    </tr>\n",
       "  </thead>\n",
       "  <tbody>\n",
       "    <tr>\n",
       "      <th>0</th>\n",
       "      <td>B003AI2VGA</td>\n",
       "      <td>A141HP4LYPWMSR</td>\n",
       "      <td>3.0</td>\n",
       "      <td>2007-06-25</td>\n",
       "    </tr>\n",
       "    <tr>\n",
       "      <th>1</th>\n",
       "      <td>B003AI2VGA</td>\n",
       "      <td>A328S9RN3U5M68</td>\n",
       "      <td>3.0</td>\n",
       "      <td>2007-06-16</td>\n",
       "    </tr>\n",
       "    <tr>\n",
       "      <th>2</th>\n",
       "      <td>B003AI2VGA</td>\n",
       "      <td>A1I7QGUDP043DG</td>\n",
       "      <td>5.0</td>\n",
       "      <td>2006-11-30</td>\n",
       "    </tr>\n",
       "    <tr>\n",
       "      <th>3</th>\n",
       "      <td>B003AI2VGA</td>\n",
       "      <td>A1M5405JH9THP9</td>\n",
       "      <td>3.0</td>\n",
       "      <td>2007-12-09</td>\n",
       "    </tr>\n",
       "    <tr>\n",
       "      <th>4</th>\n",
       "      <td>B003AI2VGA</td>\n",
       "      <td>ATXL536YX71TR</td>\n",
       "      <td>3.0</td>\n",
       "      <td>2007-08-29</td>\n",
       "    </tr>\n",
       "    <tr>\n",
       "      <th>...</th>\n",
       "      <td>...</td>\n",
       "      <td>...</td>\n",
       "      <td>...</td>\n",
       "      <td>...</td>\n",
       "    </tr>\n",
       "    <tr>\n",
       "      <th>7911679</th>\n",
       "      <td>B003A3PGF8</td>\n",
       "      <td>A11H5P3Z6WGN8G</td>\n",
       "      <td>3.0</td>\n",
       "      <td>2010-01-09</td>\n",
       "    </tr>\n",
       "    <tr>\n",
       "      <th>7911680</th>\n",
       "      <td>B003A3PGF8</td>\n",
       "      <td>A7QMQBGJ2TCQG</td>\n",
       "      <td>5.0</td>\n",
       "      <td>2009-05-03</td>\n",
       "    </tr>\n",
       "    <tr>\n",
       "      <th>7911681</th>\n",
       "      <td>6304952198</td>\n",
       "      <td>AT0A56QQS6PKO</td>\n",
       "      <td>2.0</td>\n",
       "      <td>2007-06-03</td>\n",
       "    </tr>\n",
       "    <tr>\n",
       "      <th>7911682</th>\n",
       "      <td>6304952198</td>\n",
       "      <td>A23KKLV2CD39U8</td>\n",
       "      <td>4.0</td>\n",
       "      <td>2010-03-11</td>\n",
       "    </tr>\n",
       "    <tr>\n",
       "      <th>7911683</th>\n",
       "      <td>6304952198</td>\n",
       "      <td>AIW7RUV8P2FK1</td>\n",
       "      <td>5.0</td>\n",
       "      <td>2006-03-08</td>\n",
       "    </tr>\n",
       "  </tbody>\n",
       "</table>\n",
       "<p>7831442 rows × 4 columns</p>\n",
       "</div>"
      ],
      "text/plain": [
       "            prod_id         user_id  rev_score   rev_time\n",
       "0        B003AI2VGA  A141HP4LYPWMSR        3.0 2007-06-25\n",
       "1        B003AI2VGA  A328S9RN3U5M68        3.0 2007-06-16\n",
       "2        B003AI2VGA  A1I7QGUDP043DG        5.0 2006-11-30\n",
       "3        B003AI2VGA  A1M5405JH9THP9        3.0 2007-12-09\n",
       "4        B003AI2VGA   ATXL536YX71TR        3.0 2007-08-29\n",
       "...             ...             ...        ...        ...\n",
       "7911679  B003A3PGF8  A11H5P3Z6WGN8G        3.0 2010-01-09\n",
       "7911680  B003A3PGF8   A7QMQBGJ2TCQG        5.0 2009-05-03\n",
       "7911681  6304952198   AT0A56QQS6PKO        2.0 2007-06-03\n",
       "7911682  6304952198  A23KKLV2CD39U8        4.0 2010-03-11\n",
       "7911683  6304952198   AIW7RUV8P2FK1        5.0 2006-03-08\n",
       "\n",
       "[7831442 rows x 4 columns]"
      ]
     },
     "execution_count": 7,
     "metadata": {},
     "output_type": "execute_result"
    }
   ],
   "source": [
    "movies_pq = movies_pq.drop_duplicates(subset=['user_id', 'prod_id'])\n",
    "movies_pq"
   ]
  },
  {
   "cell_type": "code",
   "execution_count": 8,
   "metadata": {},
   "outputs": [
    {
     "name": "stdout",
     "output_type": "stream",
     "text": [
      "            prod_id         user_id  rev_score   rev_time\n",
      "6409926  B00008V6YR  A37I5QIHD9UMPD        5.0 1997-08-20\n",
      "3947906  B00004CILW  A37I5QIHD9UMPD        5.0 1997-08-20\n",
      "7180046  6302763770  A37I5QIHD9UMPD        5.0 1997-08-20\n",
      "2381343  6302967538  A37I5QIHD9UMPD        5.0 1997-08-20\n",
      "3785429  B004J1A6WS  A2XBTS97FERY2Q        5.0 1997-08-23\n"
     ]
    }
   ],
   "source": [
    "# Sort ascending order rev_time\n",
    "movies_pq = movies_pq.sort_values(by='rev_time', ascending=True)\n",
    "print(movies_pq.head())"
   ]
  },
  {
   "cell_type": "code",
   "execution_count": 24,
   "metadata": {},
   "outputs": [
    {
     "name": "stdout",
     "output_type": "stream",
     "text": [
      "Number of rows:  3937\n"
     ]
    }
   ],
   "source": [
    "# Define the time range 1 month\n",
    "start_date = '2012-01-01'\n",
    "end_date = '2012-01-01'\n",
    "\n",
    "# Filter rows by the time range\n",
    "subset = movies_pq[(movies_pq['rev_time'] >= start_date) & (movies_pq['rev_time'] <= end_date)]\n",
    "subset\n",
    "\n",
    "#print do n de rows\n",
    "print(\"Number of rows: \", subset.shape[0])"
   ]
  },
  {
   "cell_type": "code",
   "execution_count": 25,
   "metadata": {},
   "outputs": [
    {
     "name": "stdout",
     "output_type": "stream",
     "text": [
      "Nodes: 257\n",
      "Edges: 392\n",
      "Degree Centrality: {'A24P25QGBDP494': 0.00390625, 'A1GYCBNK2GJO0G': 0.00390625, 'A2FWMUMM6QDPS0': 0.00390625, 'A26ZEN2STJEE9Y': 0.00390625, 'A36048X01CXDAE': 0.0078125, 'A4WRJD0K7GL8D': 0.0078125, 'A1YYA7TDET32WC': 0.01171875, 'A10CV2IJ2F3IGT': 0.00390625, 'A2C8VF4OTXYQTO': 0.00390625, 'A22SA84V5CJ5V7': 0.00390625, 'AST6J8O85X3F5': 0.00390625, 'AAO0R79SEP4L8': 0.00390625, 'AL0DY435SR81O': 0.00390625, 'A28BNBO4HFYATP': 0.0078125, 'A3APW42N5MRVWT': 0.0234375, 'A1I5O6LSW96XTB': 0.01171875, 'AJGY01QYN4Y3V': 0.00390625, 'A218LAH1EZCETI': 0.00390625, 'A39MOPT4PZ16D8': 0.0078125, 'A2FKAAGY0K5I0G': 0.0078125, 'A7YE26TJKEP19': 0.0078125, 'A1ZER2TM1BNWAX': 0.00390625, 'A2CVU71KN9ABB3': 0.00390625, 'A2HIPPKXFG9OD5': 0.00390625, 'AIVTUX8U23304': 0.00390625, 'A3OUGRFOWRVEVR': 0.00390625, 'A2FOUQJ3DZG3WI': 0.00390625, 'AWUBTCIVQLZRV': 0.00390625, 'ACJ4EI4K1AR3': 0.00390625, 'A1UE8ALJ9S8891': 0.0078125, 'A1TF1VZ2YC4BTW': 0.0078125, 'A2KRDC1YXWMR4J': 0.0078125, 'A24OTZI2S3UQDI': 0.0078125, 'A3TDZX1KZTJN1Y': 0.0078125, 'AVWA1FBJP0870': 0.0078125, 'A30J2VR1XIIYTL': 0.00390625, 'A2I246QQNO8Z1I': 0.00390625, 'A1OAJZU16R0MJL': 0.00390625, 'AWLEQLR6H8M6Z': 0.00390625, 'A13JMK3HSPXZ8P': 0.01953125, 'AARJLW29JSF31': 0.01953125, 'A2V8CGNQV7QOU5': 0.01953125, 'A1RJXO99BU5ZU5': 0.01953125, 'A1UECUMTG3VWOL': 0.01953125, 'A3M45FOMNEP1P8': 0.01953125, 'A3UQE5ROTL9FA0': 0.00390625, 'A3PPJIGJLQZ82P': 0.00390625, 'AWVN3013EOBFO': 0.00390625, 'A39542CI03XQG4': 0.00390625, 'AIRX01ZGOBWYZ': 0.00390625, 'A1DT6W6YSMZG93': 0.00390625, 'ADZEFRWULAA9Q': 0.00390625, 'A25LRFZLD4FU37': 0.00390625, 'A352ATP7X1RB67': 0.0078125, 'A1RUV9Q8LSKFL2': 0.0078125, 'A1GCY4S2MDRS9X': 0.0078125, 'A3DHEA5GEA1WGU': 0.00390625, 'A1B0CDQBHBW93I': 0.00390625, 'A13EU14NDZ5VDN': 0.00390625, 'A2WOU88PRD94O8': 0.00390625, 'A26TM919JRQZQB': 0.00390625, 'ABGXKK0BQ3S85': 0.00390625, 'A17GB562H2VYV8': 0.015625, 'ANKCFVJZLMLAC': 0.01953125, 'A31Q3N1JQ9K6TA': 0.02734375, 'A2T30WCD9SQ3L7': 0.015625, 'A3AH2TRFHOEV7H': 0.015625, 'A12Y211FLZBU62': 0.01171875, 'A20HU6AL5L82C2': 0.01171875, 'A17E0MSA6IV5XY': 0.01171875, 'A2S6T2IRCTD18A': 0.00390625, 'A18N21Z8E0VFY6': 0.00390625, 'A3EF68SA2PHJ3C': 0.00390625, 'A1K0427Q8OKOWD': 0.00390625, 'A3NCIN6TNL0MGA': 0.00390625, 'A3V9XE2C902ZE': 0.00390625, 'A2PU0IZ7WUT574': 0.00390625, 'A3QKCNS0RYMKYO': 0.00390625, 'A2TBVM16Q9SJ6U': 0.00390625, 'A19ZXK9HHVRV1X': 0.00390625, 'A2N43N4G71UMWJ': 0.00390625, 'AHVXWPGD40S59': 0.00390625, 'AGIR4MLM5NFRZ': 0.015625, 'A8HTEI8QHP852': 0.0078125, 'A1TGQFF43QF0PR': 0.0078125, 'A31JPLZRF35757': 0.0078125, 'A1W1IRZ0U8ZHAT': 0.0078125, 'A3LNOHEQD7L7UM': 0.0078125, 'A2P8SZP38OPSLM': 0.00390625, 'A2M687HYOW9JFW': 0.00390625, 'A34D06JL7LC6MU': 0.015625, 'A2X3RXFYGWOLCN': 0.015625, 'ANEUPVXP9GKJQ': 0.015625, 'A1K4I9TKWXCQ3': 0.015625, 'A2XT2PHY24FRUP': 0.015625, 'A1D0RYZI60AFIB': 0.00390625, 'A3O505ATSSDCZO': 0.01171875, 'A3OZC98SZ42L7U': 0.01171875, 'A2Y2A6N34V5QQX': 0.01171875, 'A1YWQC6G4F9OWK': 0.01171875, 'A1B7NEXR88WJOC': 0.00390625, 'AXTNPIGUCN1GZ': 0.00390625, 'A37JYTNVNEDTO5': 0.00390625, 'A2FQDN7MLYVMRP': 0.00390625, 'A10G0IO6GT9YKY': 0.00390625, 'AGUR7UOCTDRS': 0.0078125, 'A3BKYQ61PZRSFX': 0.0078125, 'ADY68NOGVXJ9D': 0.0078125, 'A1QZ0VTH2WZTIZ': 0.00390625, 'A6J7GN6ZOR085': 0.00390625, 'A10QHNEGOIDK9V': 0.0078125, 'AI5LWV8PCCWCZ': 0.0234375, 'A2X753UQK85GF9': 0.00390625, 'A2SZ4179HNWVGG': 0.00390625, 'A4LB338UB3GRN': 0.015625, 'A14QC0VV8E3O9M': 0.015625, 'ATL0PWRII3CO': 0.015625, 'A1Z9JJN43A5T3W': 0.015625, 'A2FJHQEWCTW9M9': 0.0078125, 'A1C7PYX0TUX4YZ': 0.0078125, 'A3NLOK41BEJPC6': 0.0078125, 'A10ZEOXLINIOEP': 0.02734375, 'A2RUP1MJW7X1EB': 0.02734375, 'A1FVJZQ8Z8D2ND': 0.02734375, 'ASHQ1JCA241D6': 0.02734375, 'A20TROD003QZJI': 0.02734375, 'A1X1CEGHTHMBL1': 0.02734375, 'A2A26046IUOQI2': 0.02734375, 'A126YVPLL2821G': 0.02734375, 'AMBQD7357O9NJ': 0.00390625, 'A1N7YFF5MZEIJV': 0.00390625, 'A25EZBC0D0J2XN': 0.00390625, 'A3IG8ARPHLAUT8': 0.02734375, 'AUSB3KWILAFIO': 0.02734375, 'A91Z2PHJB50DK': 0.02734375, 'A1UTRRCH6JFIBO': 0.02734375, 'A2SI4W8T85D34R': 0.02734375, 'A34BUK6Q132V75': 0.02734375, 'AC5GNBC8R5R9R': 0.02734375, 'A3OKFL8AT0KWL0': 0.02734375, 'A140XH16IKR4B0': 0.01171875, 'A1DJMQJ3NY7TV5': 0.01171875, 'A2Y2CUMX2MUCU7': 0.01171875, 'ABO2ZI2Y5DQ9T': 0.01171875, 'A2GMS7AZNQQH88': 0.0234375, 'A2IML6MR1QPIJF': 0.0234375, 'A39IQFQ69FNL9': 0.0234375, 'AV59T7O044ZAW': 0.0234375, 'A3ET5RGCBA7VQB': 0.0234375, 'A12LKEM543ILBK': 0.0234375, 'A8T9I24EXZTRL': 0.0234375, 'AA410MSCYH02L': 0.0078125, 'A23AYWFJSXTN1R': 0.0078125, 'A21519P9B7ACHJ': 0.0078125, 'AHKVFMSQ980B1': 0.00390625, 'A1KX8ZJ5MW2ULM': 0.00390625, 'A14NIUC2QHWYC': 0.015625, 'A2KIU9UIY5XTB2': 0.015625, 'A7467QGRVD9GN': 0.015625, 'A1ZWTNM9AFLYG5': 0.015625, 'A3TDGTZN2U2BX4': 0.015625, 'A29C2DP6TIFE55': 0.00390625, 'A3KQ2Q0NQNUR8G': 0.00390625, 'A17M4A5NUXXBSD': 0.00390625, 'A85GBVUFF6OQL': 0.00390625, 'A21N2ASRU5HKUR': 0.0078125, 'A3IRBCCB3I5PPD': 0.0078125, 'A2AKPDNDCQPUNN': 0.0078125, 'A1Z1NQJUJQ5CRO': 0.0078125, 'A12X2J7AVZ04IQ': 0.0078125, 'A3B1KG9E62CQBI': 0.0234375, 'A11P9M19R0A24G': 0.01953125, 'A21U95OI8W3EAA': 0.01953125, 'A1D4OWGUSWO2JA': 0.01953125, 'A95IJXHOECIL6': 0.01953125, 'AQZH7YTWQPOBE': 0.01953125, 'A24SYC8917NGKV': 0.00390625, 'A367AT068YA8XG': 0.00390625, 'AMBE0E3WLMFFV': 0.00390625, 'A18GP1PWVTKXQQ': 0.00390625, 'A1KHWLUBS5IK4Q': 0.00390625, 'AVWWFK3FZDEL2': 0.00390625, 'A1WF0D5MIOY7CK': 0.00390625, 'A2QGCIDU7OEPRL': 0.00390625, 'ARQ4R52RGCKAI': 0.00390625, 'AWRK51F1SBR2U': 0.00390625, 'A3GFWSB3VUEG20': 0.00390625, 'A1U2YG0R74OC3Y': 0.00390625, 'A2R8IZOGKT1PSC': 0.00390625, 'A2IDWE4ZAJ85JM': 0.00390625, 'A1N26NSW6ND26E': 0.00390625, 'A1AMKRM2MXO6M': 0.00390625, 'A24IBFWB7QA67O': 0.00390625, 'AE777ULGUGMRL': 0.00390625, 'A18G1D4Z2UEBOM': 0.00390625, 'A3R528J34VOO0A': 0.015625, 'A2QV4GF06YBTPO': 0.015625, 'A1QN2OMQ60SBQ7': 0.015625, 'AJKWF4W7QD4NS': 0.015625, 'A3Q5KW5PABI47B': 0.015625, 'A3VTTAZWX5CVGX': 0.015625, 'A1NM9D9SLOGVSZ': 0.015625, 'A1O7POOV4Q3SQ8': 0.015625, 'A1AXZLAERTB59D': 0.015625, 'A2YUU8P5BZQ0GQ': 0.015625, 'A13LMHZS94C3DY': 0.00390625, 'A31XW1RTQ4ZG9W': 0.00390625, 'A3I1PNUWP3FRYZ': 0.00390625, 'A3PQQTKKVFWNG9': 0.00390625, 'A1Q0CMYPPLX9KW': 0.03125, 'AM9NJY2YZGXC4': 0.03125, 'A3817JXMGVQUNM': 0.03125, 'A3MMG64X4NYISH': 0.03125, 'A1HCU8WAGUY5EY': 0.03125, 'AK7C1AJ9VLT32': 0.03125, 'A1AUURLUZXBZNW': 0.03125, 'A29YYQA9H58WAP': 0.03125, 'A3HWTIINBR8K86': 0.03125, 'A3W582Q9P2JJBV': 0.01171875, 'A2AV1ETFXLPDK8': 0.01171875, 'A134UTSJLNSSFQ': 0.01171875, 'AEA6L0YV191RO': 0.01171875, 'ASNKIFCM9CHJC': 0.00390625, 'A3QH1S0TZSBZAQ': 0.00390625, 'A35V8VMTHAFUF8': 0.015625, 'A3NZQ0KTNYMVGL': 0.015625, 'A3PTJNWKR0PCE4': 0.015625, 'A1QSI1B9DLEN4M': 0.015625, 'A31IODKRNAMLWX': 0.015625, 'ALNX7HH3D8NLP': 0.01171875, 'A13CG3QY6I97BK': 0.01171875, 'A11EC91KQDFQWC': 0.01171875, 'A2HB3VWM4D25PW': 0.01171875, 'A2GENEGG5KV4HK': 0.00390625, 'A165UK7MK8DT1N': 0.00390625, 'A28JYOGQFGDYQK': 0.00390625, 'AQJK9G5BJDKHE': 0.00390625, 'A1W05VRSPESNCP': 0.00390625, 'A3956O40ZZYFMY': 0.00390625, 'A2G7XZO6YJZPE2': 0.01171875, 'AJJ40FZ0P7023': 0.01171875, 'AOOPW0UV4R9OF': 0.01171875, 'A1AB0UJ734WHF3': 0.01171875, 'A3GW6MGO6TT4LI': 0.03515625, 'A3J1VMG4XJVNQ': 0.03515625, 'A2EBL3UPWA1GG': 0.03515625, 'A2COSGSHWH6RPB': 0.03515625, 'A39RMTD780WVJF': 0.03515625, 'A1HJ78V7AUFEBB': 0.03515625, 'A2JLRGR8A3CGUK': 0.03515625, 'A12MQ9I4S6RDBE': 0.03515625, 'A2PLT671B6SW8D': 0.03515625, 'AW484C888BDQE': 0.03515625, 'A3EG1NUVTDDWFE': 0.00390625, 'A225UGQXAUED': 0.00390625, 'A3KZLNCUDDY7J': 0.00390625, 'AOYIQ6220HZRK': 0.00390625}\n"
     ]
    }
   ],
   "source": [
    "# Assuming you have a monopartite user-user graph\n",
    "G = nx.Graph()\n",
    "\n",
    "# Add edges (e.g., users reviewing the same product)\n",
    "for product, group in subset.groupby('prod_id'):\n",
    "    users = group['user_id'].tolist()\n",
    "    for i in range(len(users)):\n",
    "        for j in range(i + 1, len(users)):\n",
    "            G.add_edge(users[i], users[j])\n",
    "\n",
    "# Analyze the graph\n",
    "print(\"Nodes:\", G.number_of_nodes())\n",
    "print(\"Edges:\", G.number_of_edges())\n",
    "\n",
    "# Centrality measures\n",
    "degree_centrality = nx.degree_centrality(G)\n",
    "print(\"Degree Centrality:\", degree_centrality)\n"
   ]
  },
  {
   "cell_type": "code",
   "execution_count": 26,
   "metadata": {},
   "outputs": [],
   "source": [
    "view = nx.write_graphml(G, \"user_user_graph.graphml\")\n"
   ]
  },
  {
   "cell_type": "code",
   "execution_count": 27,
   "metadata": {},
   "outputs": [
    {
     "name": "stdout",
     "output_type": "stream",
     "text": [
      "Warning: When  cdn_resources is 'local' jupyter notebook has issues displaying graphics on chrome/safari. Use cdn_resources='in_line' or cdn_resources='remote' if you have issues viewing graphics in a notebook.\n",
      "user_user_graph.html\n"
     ]
    },
    {
     "data": {
      "text/html": [
       "\n",
       "        <iframe\n",
       "            width=\"100%\"\n",
       "            height=\"750px\"\n",
       "            src=\"user_user_graph.html\"\n",
       "            frameborder=\"0\"\n",
       "            allowfullscreen\n",
       "            \n",
       "        ></iframe>\n",
       "        "
      ],
      "text/plain": [
       "<IPython.lib.display.IFrame at 0x326e49be0>"
      ]
     },
     "execution_count": 27,
     "metadata": {},
     "output_type": "execute_result"
    }
   ],
   "source": [
    "from pyvis.network import Network\n",
    "\n",
    "# Load your saved GraphML file\n",
    "G = nx.read_graphml(\"user_user_graph.graphml\")\n",
    "\n",
    "# Create a Pyvis Network\n",
    "net = Network(notebook=True, height=\"750px\", width=\"100%\")\n",
    "net.from_nx(G)  # Import NetworkX graph\n",
    "net.show(\"user_user_graph.html\")  # View in a browser\n"
   ]
  },
  {
   "cell_type": "code",
   "execution_count": 42,
   "metadata": {},
   "outputs": [
    {
     "name": "stdout",
     "output_type": "stream",
     "text": [
      "Is Bipartite: True\n"
     ]
    }
   ],
   "source": [
    "import networkx as nx\n",
    "from pyvis.network import Network\n",
    "\n",
    "# Create a bipartite graph\n",
    "B = nx.Graph()\n",
    "\n",
    "# Add edges from the dataset\n",
    "for _, row in subset.iterrows():\n",
    "    B.add_edge(row['user_id'], row['prod_id'], score=row['rev_score'], time=row['rev_time'])\n",
    "\n",
    "# Check if the graph is bipartite\n",
    "from networkx.algorithms import bipartite\n",
    "print(\"Is Bipartite:\", bipartite.is_bipartite(B))\n"
   ]
  },
  {
   "cell_type": "code",
   "execution_count": 43,
   "metadata": {},
   "outputs": [
    {
     "name": "stdout",
     "output_type": "stream",
     "text": [
      "Warning: When  cdn_resources is 'local' jupyter notebook has issues displaying graphics on chrome/safari. Use cdn_resources='in_line' or cdn_resources='remote' if you have issues viewing graphics in a notebook.\n",
      "user_product_bipartite_graph.html\n"
     ]
    },
    {
     "data": {
      "text/html": [
       "\n",
       "        <iframe\n",
       "            width=\"100%\"\n",
       "            height=\"750px\"\n",
       "            src=\"user_product_bipartite_graph.html\"\n",
       "            frameborder=\"0\"\n",
       "            allowfullscreen\n",
       "            \n",
       "        ></iframe>\n",
       "        "
      ],
      "text/plain": [
       "<IPython.lib.display.IFrame at 0x326e4ab70>"
      ]
     },
     "execution_count": 43,
     "metadata": {},
     "output_type": "execute_result"
    }
   ],
   "source": [
    "# Create a Pyvis Network\n",
    "net = Network(notebook=True, height=\"750px\", width=\"100%\")\n",
    "\n",
    "# Add nodes and edges with types\n",
    "for node in B.nodes():\n",
    "    if node in subset['user_id'].values:  # User node\n",
    "        net.add_node(node, label=node, color='skyblue')\n",
    "    else:  # Product node\n",
    "        net.add_node(node, label=node, color='orange')\n",
    "\n",
    "for edge in B.edges(data=True):\n",
    "    net.add_edge(edge[0], edge[1], title=f\"Score: {edge[2]['score']}\")\n",
    "\n",
    "# Show the graph\n",
    "net.show(\"user_product_bipartite_graph.html\")\n"
   ]
  },
  {
   "cell_type": "code",
   "execution_count": 44,
   "metadata": {},
   "outputs": [
    {
     "name": "stdout",
     "output_type": "stream",
     "text": [
      "Nodes: 4069\n",
      "Edges: 3937\n",
      "Top nodes by degree centrality: [('A3APW42N5MRVWT', 0.024582104228121928), ('A5V1EF2BNERO9', 0.02384464110127827), ('A24P25QGBDP494', 0.0140117994100295), ('A2QIL01QIF8TT2', 0.012291052114060964), ('A1YYA7TDET32WC', 0.011553588987217306)]\n",
      "Top nodes by eigenvector centrality: [('A1YYA7TDET32WC', 0.4123719800354653), ('A4WRJD0K7GL8D', 0.40620260068465514), ('A36048X01CXDAE', 0.40620260068465514), ('6305076146', 0.10512703598373678), ('B00005MFO8', 0.10512703598373678)]\n",
      "Graph Density: 0.0004756930171841535\n",
      "Average Clustering Coefficient: 0.0\n",
      "Average Degree: 1.9351191939051364, Max Degree: 100, Min Degree: 1\n",
      "Graph is not connected. Diameter and average path length cannot be calculated.\n",
      "Number of Communities: 751\n",
      "Largest community size: 125\n"
     ]
    }
   ],
   "source": [
    "import networkx as nx\n",
    "import numpy as np\n",
    "\n",
    "# Basic Statistics\n",
    "print(f\"Nodes: {B.number_of_nodes()}\")\n",
    "print(f\"Edges: {B.number_of_edges()}\")\n",
    "\n",
    "# Degree Centrality\n",
    "degree_centrality = nx.degree_centrality(B)\n",
    "top_nodes = sorted(degree_centrality.items(), key=lambda x: x[1], reverse=True)[:5]\n",
    "print(\"Top nodes by degree centrality:\", top_nodes)\n",
    "\n",
    "# Eigenvector Centrality\n",
    "eigenvector_centrality = nx.eigenvector_centrality(B, max_iter=1000)\n",
    "top_eigenvector_nodes = sorted(eigenvector_centrality.items(), key=lambda x: x[1], reverse=True)[:5]\n",
    "print(\"Top nodes by eigenvector centrality:\", top_eigenvector_nodes)\n",
    "\n",
    "# Graph Density\n",
    "density = nx.density(B)\n",
    "print(f\"Graph Density: {density}\")\n",
    "\n",
    "# Average Clustering Coefficient\n",
    "clustering_coefficient = nx.average_clustering(B)\n",
    "print(f\"Average Clustering Coefficient: {clustering_coefficient}\")\n",
    "\n",
    "# Degree Distribution\n",
    "degrees = [deg for _, deg in B.degree()]\n",
    "print(f\"Average Degree: {np.mean(degrees)}, Max Degree: {np.max(degrees)}, Min Degree: {np.min(degrees)}\")\n",
    "\n",
    "# Check if the graph is connected\n",
    "if nx.is_connected(B):\n",
    "    # Diameter and Average Path Length\n",
    "    diameter = nx.diameter(B)\n",
    "    avg_path_length = nx.average_shortest_path_length(B)\n",
    "    print(f\"Diameter: {diameter}\")\n",
    "    print(f\"Average Path Length: {avg_path_length}\")\n",
    "else:\n",
    "    print(\"Graph is not connected. Diameter and average path length cannot be calculated.\")\n",
    "\n",
    "# Community Detection\n",
    "from networkx.algorithms.community import greedy_modularity_communities\n",
    "communities = list(greedy_modularity_communities(B))\n",
    "print(f\"Number of Communities: {len(communities)}\")\n",
    "largest_community = max(communities, key=len)\n",
    "print(f\"Largest community size: {len(largest_community)}\")\n"
   ]
  },
  {
   "cell_type": "code",
   "execution_count": 45,
   "metadata": {},
   "outputs": [
    {
     "name": "stdout",
     "output_type": "stream",
     "text": [
      "Warning: When  cdn_resources is 'local' jupyter notebook has issues displaying graphics on chrome/safari. Use cdn_resources='in_line' or cdn_resources='remote' if you have issues viewing graphics in a notebook.\n",
      "subgraph.html\n"
     ]
    },
    {
     "data": {
      "text/html": [
       "\n",
       "        <iframe\n",
       "            width=\"100%\"\n",
       "            height=\"750px\"\n",
       "            src=\"subgraph.html\"\n",
       "            frameborder=\"0\"\n",
       "            allowfullscreen\n",
       "            \n",
       "        ></iframe>\n",
       "        "
      ],
      "text/plain": [
       "<IPython.lib.display.IFrame at 0x324eb4bc0>"
      ]
     },
     "execution_count": 45,
     "metadata": {},
     "output_type": "execute_result"
    }
   ],
   "source": [
    "largest_cc = max(nx.connected_components(B), key=len)\n",
    "subgraph = B.subgraph(largest_cc)\n",
    "net = Network(notebook=True, height=\"750px\", width=\"100%\")\n",
    "for node in subgraph.nodes():\n",
    "    net.add_node(node, label=node, color='skyblue' if node in subset['user_id'].values else 'orange')\n",
    "for edge in subgraph.edges(data=True):\n",
    "    net.add_edge(edge[0], edge[1], title=f\"Score: {edge[2]['score']}\")\n",
    "net.show(\"subgraph.html\")\n"
   ]
  },
  {
   "cell_type": "code",
   "execution_count": 46,
   "metadata": {},
   "outputs": [
    {
     "name": "stdout",
     "output_type": "stream",
     "text": [
      "LCC Nodes: 125\n",
      "LCC Edges: 166\n",
      "Top nodes in LCC by degree centrality: [('A3APW42N5MRVWT', 0.8064516129032258), ('A1I5O6LSW96XTB', 0.0967741935483871), ('AI5LWV8PCCWCZ', 0.08870967741935484), ('A28BNBO4HFYATP', 0.056451612903225805), ('A4LB338UB3GRN', 0.04032258064516129)]\n",
      "Top nodes in LCC by eigenvector centrality: [('A3APW42N5MRVWT', 0.7004338956503309), ('B005XBKWCW', 0.08090532848993387), ('B005WV5G2O', 0.08090532848993387), ('7799129883', 0.08090532848993387), ('B0053Y7T1G', 0.08090532848993387)]\n",
      "LCC Graph Density: 0.021419354838709676\n",
      "LCC Average Clustering Coefficient: 0.0\n",
      "LCC Average Degree: 2.656, Max Degree: 100, Min Degree: 1\n",
      "LCC Diameter: 8\n",
      "LCC Average Path Length: 2.6443870967741936\n",
      "LCC Number of Communities: 5\n",
      "LCC Largest Community Size: 83\n"
     ]
    }
   ],
   "source": [
    "# Extract the Largest Connected Component (LCC)\n",
    "largest_cc = max(nx.connected_components(B), key=len)\n",
    "lcc_subgraph = B.subgraph(largest_cc).copy()\n",
    "\n",
    "# Basic Statistics for LCC\n",
    "print(f\"LCC Nodes: {lcc_subgraph.number_of_nodes()}\")\n",
    "print(f\"LCC Edges: {lcc_subgraph.number_of_edges()}\")\n",
    "\n",
    "# Degree Centrality\n",
    "lcc_degree_centrality = nx.degree_centrality(lcc_subgraph)\n",
    "top_lcc_nodes = sorted(lcc_degree_centrality.items(), key=lambda x: x[1], reverse=True)[:5]\n",
    "print(\"Top nodes in LCC by degree centrality:\", top_lcc_nodes)\n",
    "\n",
    "# Eigenvector Centrality\n",
    "lcc_eigenvector_centrality = nx.eigenvector_centrality(lcc_subgraph, max_iter=1000)\n",
    "top_lcc_eigenvector_nodes = sorted(lcc_eigenvector_centrality.items(), key=lambda x: x[1], reverse=True)[:5]\n",
    "print(\"Top nodes in LCC by eigenvector centrality:\", top_lcc_eigenvector_nodes)\n",
    "\n",
    "# Graph Density\n",
    "lcc_density = nx.density(lcc_subgraph)\n",
    "print(f\"LCC Graph Density: {lcc_density}\")\n",
    "\n",
    "# Average Clustering Coefficient\n",
    "lcc_clustering_coefficient = nx.average_clustering(lcc_subgraph)\n",
    "print(f\"LCC Average Clustering Coefficient: {lcc_clustering_coefficient}\")\n",
    "\n",
    "# Degree Distribution in LCC\n",
    "lcc_degrees = [deg for _, deg in lcc_subgraph.degree()]\n",
    "print(f\"LCC Average Degree: {np.mean(lcc_degrees)}, Max Degree: {np.max(lcc_degrees)}, Min Degree: {np.min(lcc_degrees)}\")\n",
    "\n",
    "# Diameter and Average Path Length for LCC\n",
    "if nx.is_connected(lcc_subgraph):\n",
    "    lcc_diameter = nx.diameter(lcc_subgraph)\n",
    "    lcc_avg_path_length = nx.average_shortest_path_length(lcc_subgraph)\n",
    "    print(f\"LCC Diameter: {lcc_diameter}\")\n",
    "    print(f\"LCC Average Path Length: {lcc_avg_path_length}\")\n",
    "else:\n",
    "    print(\"LCC is not connected. Diameter and average path length cannot be calculated.\")\n",
    "\n",
    "# Community Detection in LCC\n",
    "from networkx.algorithms.community import greedy_modularity_communities\n",
    "lcc_communities = list(greedy_modularity_communities(lcc_subgraph))\n",
    "print(f\"LCC Number of Communities: {len(lcc_communities)}\")\n",
    "largest_lcc_community = max(lcc_communities, key=len)\n",
    "print(f\"LCC Largest Community Size: {len(largest_lcc_community)}\")\n"
   ]
  },
  {
   "cell_type": "code",
   "execution_count": 41,
   "metadata": {},
   "outputs": [
    {
     "name": "stdout",
     "output_type": "stream",
     "text": [
      "Warning: When  cdn_resources is 'local' jupyter notebook has issues displaying graphics on chrome/safari. Use cdn_resources='in_line' or cdn_resources='remote' if you have issues viewing graphics in a notebook.\n",
      "user_product_bipartite_graph_with_scores.html\n"
     ]
    },
    {
     "data": {
      "text/html": [
       "\n",
       "        <iframe\n",
       "            width=\"100%\"\n",
       "            height=\"750px\"\n",
       "            src=\"user_product_bipartite_graph_with_scores.html\"\n",
       "            frameborder=\"0\"\n",
       "            allowfullscreen\n",
       "            \n",
       "        ></iframe>\n",
       "        "
      ],
      "text/plain": [
       "<IPython.lib.display.IFrame at 0x153feca40>"
      ]
     },
     "execution_count": 41,
     "metadata": {},
     "output_type": "execute_result"
    }
   ],
   "source": [
    "from pyvis.network import Network\n",
    "\n",
    "# Create a Pyvis Network\n",
    "net = Network(notebook=True, height=\"750px\", width=\"100%\")\n",
    "\n",
    "# Add nodes\n",
    "for node in B.nodes():\n",
    "    if node in subset['user_id'].values:  # User node\n",
    "        net.add_node(node, label=node, color='skyblue')\n",
    "    else:  # Product node\n",
    "        net.add_node(node, label=node, color='orange')\n",
    "\n",
    "# Add edges with weights (e.g., 'score' as edge attribute)\n",
    "for edge in B.edges(data=True):  # `data=True` gives access to edge attributes\n",
    "    # Add edge with title and value based on 'score'\n",
    "    net.add_edge(edge[0], edge[1], title=f\"Score: {edge[2]['score']}\", value=edge[2]['score'])\n",
    "\n",
    "# Optional: Toggle physics off\n",
    "net.toggle_physics(False)\n",
    "\n",
    "# Show the graph\n",
    "net.show(\"user_product_bipartite_graph_with_scores.html\")\n"
   ]
  },
  {
   "cell_type": "code",
   "execution_count": 30,
   "metadata": {},
   "outputs": [
    {
     "name": "stdout",
     "output_type": "stream",
     "text": [
      "Warning: When  cdn_resources is 'local' jupyter notebook has issues displaying graphics on chrome/safari. Use cdn_resources='in_line' or cdn_resources='remote' if you have issues viewing graphics in a notebook.\n",
      "user_product_bipartite_graph_test.html\n"
     ]
    },
    {
     "data": {
      "text/html": [
       "\n",
       "        <iframe\n",
       "            width=\"100%\"\n",
       "            height=\"750px\"\n",
       "            src=\"user_product_bipartite_graph_test.html\"\n",
       "            frameborder=\"0\"\n",
       "            allowfullscreen\n",
       "            \n",
       "        ></iframe>\n",
       "        "
      ],
      "text/plain": [
       "<IPython.lib.display.IFrame at 0x15731bc80>"
      ]
     },
     "execution_count": 30,
     "metadata": {},
     "output_type": "execute_result"
    }
   ],
   "source": [
    "# Create a Pyvis Network\n",
    "net = Network(notebook=True, height=\"750px\", width=\"100%\")\n",
    "\n",
    "# Add nodes and edges with types\n",
    "for node in B.nodes():\n",
    "    if node in subset['user_id'].values:  # User node\n",
    "        net.add_node(node, label=node, color='skyblue')\n",
    "    else:  # Product node\n",
    "        net.add_node(node, label=node, color='orange')\n",
    "\n",
    "for edge in B.edges(data=True):\n",
    "    net.add_edge(edge[0], edge[1], title=f\"Score: {edge[2]['score']}\")\n",
    "\n",
    "net.toggle_physics(False)\n",
    "# Show the graph\n",
    "net.show(\"user_product_bipartite_graph_test.html\")\n"
   ]
  },
  {
   "cell_type": "code",
   "execution_count": 31,
   "metadata": {},
   "outputs": [
    {
     "name": "stdout",
     "output_type": "stream",
     "text": [
      "Warning: When  cdn_resources is 'local' jupyter notebook has issues displaying graphics on chrome/safari. Use cdn_resources='in_line' or cdn_resources='remote' if you have issues viewing graphics in a notebook.\n",
      "high_score_subgraph.html\n"
     ]
    },
    {
     "data": {
      "text/html": [
       "\n",
       "        <iframe\n",
       "            width=\"100%\"\n",
       "            height=\"750px\"\n",
       "            src=\"high_score_subgraph.html\"\n",
       "            frameborder=\"0\"\n",
       "            allowfullscreen\n",
       "            \n",
       "        ></iframe>\n",
       "        "
      ],
      "text/plain": [
       "<IPython.lib.display.IFrame at 0x322282930>"
      ]
     },
     "execution_count": 31,
     "metadata": {},
     "output_type": "execute_result"
    }
   ],
   "source": [
    "# Filter edges by review score, e.g., scores > 3\n",
    "high_score_edges = [(u, v) for u, v, d in B.edges(data=True) if d['score'] > 3]\n",
    "\n",
    "# Create a subgraph using only those high-scoring edges\n",
    "high_score_subgraph = B.edge_subgraph(high_score_edges).copy()\n",
    "\n",
    "# Visualize the high-score subgraph\n",
    "net = Network(notebook=True, height=\"750px\", width=\"100%\")\n",
    "for node in high_score_subgraph.nodes():\n",
    "    if node in subset['user_id'].values:\n",
    "        net.add_node(node, label=node, color='skyblue')\n",
    "    else:\n",
    "        net.add_node(node, label=node, color='orange')\n",
    "\n",
    "for edge in high_score_subgraph.edges(data=True):\n",
    "    net.add_edge(edge[0], edge[1], title=f\"Score: {edge[2]['score']}\")\n",
    "\n",
    "net.show(\"high_score_subgraph.html\")\n"
   ]
  },
  {
   "cell_type": "code",
   "execution_count": 33,
   "metadata": {},
   "outputs": [
    {
     "name": "stdout",
     "output_type": "stream",
     "text": [
      "Warning: When  cdn_resources is 'local' jupyter notebook has issues displaying graphics on chrome/safari. Use cdn_resources='in_line' or cdn_resources='remote' if you have issues viewing graphics in a notebook.\n",
      "user_product_bipartite_graph.html\n"
     ]
    },
    {
     "data": {
      "text/html": [
       "\n",
       "        <iframe\n",
       "            width=\"100%\"\n",
       "            height=\"750px\"\n",
       "            src=\"user_product_bipartite_graph.html\"\n",
       "            frameborder=\"0\"\n",
       "            allowfullscreen\n",
       "            \n",
       "        ></iframe>\n",
       "        "
      ],
      "text/plain": [
       "<IPython.lib.display.IFrame at 0x153feff50>"
      ]
     },
     "execution_count": 33,
     "metadata": {},
     "output_type": "execute_result"
    }
   ],
   "source": [
    "from pyvis.network import Network\n",
    "\n",
    "# Create a Pyvis Network\n",
    "net = Network(notebook=True, height=\"750px\", width=\"100%\")\n",
    "\n",
    "# Add nodes with types\n",
    "for node in B.nodes():\n",
    "    if node in subset['user_id'].values:  # User node\n",
    "        net.add_node(node, label=node, color='skyblue')\n",
    "    else:  # Product node\n",
    "        net.add_node(node, label=node, color='orange')\n",
    "\n",
    "# Add edges with score and time as tooltips\n",
    "for edge in B.edges(data=True):\n",
    "    score = edge[2]['score']\n",
    "    time = edge[2]['time']  # Assume 'time' is Unix timestamp\n",
    "    time_str = pd.to_datetime(time, unit='s').strftime('%Y-%m-%d')  # Convert to readable format\n",
    "    net.add_edge(edge[0], edge[1], title=f\"Score: {score}, Time: {time_str}\")\n",
    "\n",
    "# Show the graph\n",
    "net.show(\"user_product_bipartite_graph.html\")\n"
   ]
  }
 ],
 "metadata": {
  "kernelspec": {
   "display_name": "env",
   "language": "python",
   "name": "python3"
  },
  "language_info": {
   "codemirror_mode": {
    "name": "ipython",
    "version": 3
   },
   "file_extension": ".py",
   "mimetype": "text/x-python",
   "name": "python",
   "nbconvert_exporter": "python",
   "pygments_lexer": "ipython3",
   "version": "3.12.7"
  }
 },
 "nbformat": 4,
 "nbformat_minor": 2
}
