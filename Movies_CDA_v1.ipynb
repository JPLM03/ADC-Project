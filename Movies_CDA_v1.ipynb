{
 "cells": [
  {
   "cell_type": "markdown",
   "id": "b3563b59",
   "metadata": {},
   "source": [
    "# Projeto ADC"
   ]
  },
  {
   "cell_type": "markdown",
   "id": "97f95fec",
   "metadata": {},
   "source": [
    "## Import libraries"
   ]
  },
  {
   "cell_type": "code",
   "execution_count": 1,
   "id": "56828cf4",
   "metadata": {},
   "outputs": [],
   "source": [
    "from datetime import datetime\n",
    "import pandas as pd\n",
    "import networkx as nx\n",
    "import matplotlib.pyplot as plt\n",
    "import pyarrow.parquet as pq"
   ]
  },
  {
   "cell_type": "markdown",
   "id": "acade2f2",
   "metadata": {},
   "source": [
    "## Converter txt para parquet"
   ]
  },
  {
   "cell_type": "code",
   "execution_count": null,
   "id": "9374bbde",
   "metadata": {},
   "outputs": [],
   "source": [
    "\"\"\" product_id = []\n",
    "user_id = []\n",
    "rev_score = []\n",
    "rev_time = []\n",
    "\n",
    "with open(\"movies.txt\", encoding=\"utf-8\", errors=\"ignore\") as file:\n",
    "    \n",
    "    block = []\n",
    "    for line in file:\n",
    "        if line.strip() == \"\":\n",
    "            if block:\n",
    "                for item in block:\n",
    "                    if item.startswith(\"product/productId:\"):\n",
    "                        product_id.append(item.split(\": \")[1].strip())\n",
    "                    elif item.startswith(\"review/userId:\"):\n",
    "                        user_id.append(item.split(\": \")[1].strip())\n",
    "                    elif item.startswith(\"review/score:\"):\n",
    "                        rev_score.append(float(item.split(\": \")[1].strip()))\n",
    "                    elif item.startswith(\"review/time:\"):\n",
    "                        rev_time.append(int(item.split(\": \")[1].strip()))\n",
    "                block = []\n",
    "        else:\n",
    "            block.append(line.strip())\n",
    "\n",
    "    # Process the last block if the file does not end with a blank line\n",
    "    if block:\n",
    "        for item in block:\n",
    "            if item.startswith(\"product/productId:\"):\n",
    "                product_id.append(item.split(\": \")[1].strip())\n",
    "            elif item.startswith(\"review/userId:\"):\n",
    "                user_id.append(item.split(\": \")[1].strip())\n",
    "            elif item.startswith(\"review/score:\"):\n",
    "                rev_score.append(float(item.split(\": \")[1].strip()))\n",
    "            elif item.startswith(\"review/time:\"):\n",
    "                rev_time.append(int(item.split(\": \")[1].strip()))\n",
    "    \n",
    "# make dataframe\n",
    "df = pd.DataFrame(\n",
    "    {\n",
    "        \"prod_id\": product_id,\n",
    "        \"user_id\": user_id,\n",
    "        \"rev_score\": rev_score,\n",
    "        \"rev_time\": rev_time\n",
    "    }\n",
    ")\n",
    "\n",
    "# make parquet file\n",
    "df.to_parquet(\"movies.parquet\") \"\"\""
   ]
  },
  {
   "cell_type": "markdown",
   "id": "9f6c755f",
   "metadata": {},
   "source": [
    "## Pandas dataframe"
   ]
  },
  {
   "cell_type": "code",
   "execution_count": 2,
   "id": "90abd8fe",
   "metadata": {},
   "outputs": [
    {
     "name": "stdout",
     "output_type": "stream",
     "text": [
      "Number of rows:  7911684\n"
     ]
    }
   ],
   "source": [
    "movies_pq = pd.read_parquet(\"movies.parquet\")\n",
    "\n",
    "#print do n de rows (esperado 7911684)\n",
    "print(\"Number of rows: \", movies_pq.shape[0])"
   ]
  },
  {
   "cell_type": "markdown",
   "id": "9b01a604",
   "metadata": {},
   "source": [
    "Dataset exploration"
   ]
  },
  {
   "cell_type": "code",
   "execution_count": null,
   "id": "958ef14e",
   "metadata": {},
   "outputs": [],
   "source": [
    "# Define the time frame for the entire dataset\n",
    "print(\"Building...\")\n",
    "start_month = datetime(1997, 8, 1) # August 1997\n",
    "end_month = datetime(2012, 10, 31) # October 2012\n",
    "\n",
    "# Convert the datetime objects to UNIX timestamps\n",
    "start_timestamp = int(start_month.timestamp())\n",
    "end_timestamp = int(end_month.timestamp())\n",
    "\n",
    "# Create a new graph for the filtered data\n",
    "G = nx.Graph()\n",
    "\n",
    "# Open and process the file\n",
    "for _, review in movies_pq.iterrows():\n",
    "    review_time = review['rev_time']\n",
    "    user_id = review['user_id']\n",
    "    product_id = review['prod_id']\n",
    "    # Check if the review time falls within the dataset's timespan\n",
    "    #if start_timestamp <= review_time <= end_timestamp:\n",
    "        # Convert review time to a month-year string (e.g., \"1997-08\")\n",
    "    review_month = datetime.fromtimestamp(review_time).strftime(\"%Y-%m\")\n",
    "    \n",
    "    # Add graph elements\n",
    "    G.add_node(user_id, type='user')\n",
    "    G.add_node(product_id, type='product')\n",
    "    G.add_edge(user_id, product_id, time=review_time, month=review_month)\n",
    "\n",
    "# Count total users and products\n",
    "users = 0\n",
    "products = 0\n",
    "for _, attr in G.nodes(data=True):\n",
    "    node_type = attr.get('type')\n",
    "    if node_type == 'user':\n",
    "        users += 1\n",
    "    elif node_type == 'product':\n",
    "        products += 1\n",
    "\n",
    "print(f\"Total number of users: {users}\") # 889176 users\n",
    "print(f\"Total number of products: {products}\") # 253059 products\n",
    "print(f\"Total number of edges (reviews): {G.number_of_edges()}\") # 7831442 edges (reviews)"
   ]
  },
  {
   "cell_type": "code",
   "execution_count": 3,
   "metadata": {},
   "outputs": [
    {
     "name": "stdout",
     "output_type": "stream",
     "text": [
      "Building...\n"
     ]
    },
    {
     "ename": "KeyboardInterrupt",
     "evalue": "",
     "output_type": "error",
     "traceback": [
      "\u001b[1;31m---------------------------------------------------------------------------\u001b[0m",
      "\u001b[1;31mKeyboardInterrupt\u001b[0m                         Traceback (most recent call last)",
      "Cell \u001b[1;32mIn[3], line 5\u001b[0m\n\u001b[0;32m      2\u001b[0m G \u001b[38;5;241m=\u001b[39m nx\u001b[38;5;241m.\u001b[39mGraph()\n\u001b[0;32m      4\u001b[0m \u001b[38;5;66;03m# Add user and product nodes\u001b[39;00m\n\u001b[1;32m----> 5\u001b[0m G\u001b[38;5;241m.\u001b[39madd_nodes_from(movies_pq[\u001b[38;5;124m'\u001b[39m\u001b[38;5;124muser_id\u001b[39m\u001b[38;5;124m'\u001b[39m]\u001b[38;5;241m.\u001b[39munique(), \u001b[38;5;28mtype\u001b[39m\u001b[38;5;241m=\u001b[39m\u001b[38;5;124m'\u001b[39m\u001b[38;5;124muser\u001b[39m\u001b[38;5;124m'\u001b[39m)  \u001b[38;5;66;03m# Add all unique users as nodes with attribute type='user'\u001b[39;00m\n\u001b[0;32m      6\u001b[0m G\u001b[38;5;241m.\u001b[39madd_nodes_from(movies_pq[\u001b[38;5;124m'\u001b[39m\u001b[38;5;124mprod_id\u001b[39m\u001b[38;5;124m'\u001b[39m]\u001b[38;5;241m.\u001b[39munique(), \u001b[38;5;28mtype\u001b[39m\u001b[38;5;241m=\u001b[39m\u001b[38;5;124m'\u001b[39m\u001b[38;5;124mproduct\u001b[39m\u001b[38;5;124m'\u001b[39m)  \u001b[38;5;66;03m# Add all unique products as nodes with attribute type='product'\u001b[39;00m\n\u001b[0;32m      8\u001b[0m \u001b[38;5;66;03m# Add edges with attributes\u001b[39;00m\n",
      "File \u001b[1;32mc:\\Users\\tntma\\anaconda3\\Lib\\site-packages\\networkx\\classes\\graph.py:638\u001b[0m, in \u001b[0;36mGraph.add_nodes_from\u001b[1;34m(self, nodes_for_adding, **attr)\u001b[0m\n\u001b[0;32m    636\u001b[0m     \u001b[38;5;28mself\u001b[39m\u001b[38;5;241m.\u001b[39m_adj[n] \u001b[38;5;241m=\u001b[39m \u001b[38;5;28mself\u001b[39m\u001b[38;5;241m.\u001b[39madjlist_inner_dict_factory()\n\u001b[0;32m    637\u001b[0m     \u001b[38;5;28mself\u001b[39m\u001b[38;5;241m.\u001b[39m_node[n] \u001b[38;5;241m=\u001b[39m \u001b[38;5;28mself\u001b[39m\u001b[38;5;241m.\u001b[39mnode_attr_dict_factory()\n\u001b[1;32m--> 638\u001b[0m \u001b[38;5;28mself\u001b[39m\u001b[38;5;241m.\u001b[39m_node[n]\u001b[38;5;241m.\u001b[39mupdate(newdict)\n",
      "\u001b[1;31mKeyboardInterrupt\u001b[0m: "
     ]
    }
   ],
   "source": [
    "print(\"Building...\")\n",
    "G = nx.Graph()\n",
    "\n",
    "# Add user and product nodes\n",
    "G.add_nodes_from(movies_pq['user_id'].unique(), type='user')  # Add all unique users as nodes with attribute type='user'\n",
    "G.add_nodes_from(movies_pq['prod_id'].unique(), type='product')  # Add all unique products as nodes with attribute type='product'\n",
    "\n",
    "# Add edges with attributes\n",
    "edges = movies_pq[['user_id', 'prod_id', 'rev_time']].to_records(index=False)  # Convert to tuple records\n",
    "G.add_edges_from([(row.user_id, row.prod_id, {'time': row.rev_time}) for row in edges])  # Add edges with time\n",
    "\n",
    "# Count total users and products\n",
    "print(\"Counting...\")\n",
    "users = 0\n",
    "products = 0\n",
    "for _, attr in G.nodes(data=True):\n",
    "    node_type = attr.get('type')\n",
    "    if node_type == 'user':\n",
    "        users += 1\n",
    "    elif node_type == 'product':\n",
    "        products += 1\n",
    "\n",
    "print(f\"Total number of users: {users}\") # 889176 users (correct)\n",
    "print(f\"Total number of products: {products}\") # 253059 products (correct)\n",
    "print(f\"Total number of edges (reviews): {G.number_of_edges()}\") # 7831442 edges (reviews) (wrong: real value is 7911684)"
   ]
  },
  {
   "cell_type": "code",
   "execution_count": 4,
   "id": "d56974e0",
   "metadata": {},
   "outputs": [
    {
     "data": {
      "text/plain": [
       "14"
      ]
     },
     "execution_count": 4,
     "metadata": {},
     "output_type": "execute_result"
    }
   ],
   "source": [
    "len(movies_pq.iloc[1]['user_id'])"
   ]
  },
  {
   "cell_type": "code",
   "execution_count": 20,
   "id": "76a55161",
   "metadata": {},
   "outputs": [
    {
     "data": {
      "text/plain": [
       "'A12FLZREV32JOP'"
      ]
     },
     "execution_count": 20,
     "metadata": {},
     "output_type": "execute_result"
    }
   ],
   "source": [
    "review['user_id']"
   ]
  },
  {
   "cell_type": "code",
   "execution_count": 25,
   "id": "370a84e5",
   "metadata": {},
   "outputs": [
    {
     "ename": "AttributeError",
     "evalue": "'DataFrame' object has no attribute 'dtype'",
     "output_type": "error",
     "traceback": [
      "\u001b[1;31m---------------------------------------------------------------------------\u001b[0m",
      "\u001b[1;31mAttributeError\u001b[0m                            Traceback (most recent call last)",
      "Cell \u001b[1;32mIn[25], line 1\u001b[0m\n\u001b[1;32m----> 1\u001b[0m movies_pq\u001b[38;5;241m.\u001b[39mdtype()\n",
      "File \u001b[1;32mc:\\Users\\tntma\\anaconda3\\Lib\\site-packages\\pandas\\core\\generic.py:5902\u001b[0m, in \u001b[0;36mNDFrame.__getattr__\u001b[1;34m(self, name)\u001b[0m\n\u001b[0;32m   5895\u001b[0m \u001b[38;5;28;01mif\u001b[39;00m (\n\u001b[0;32m   5896\u001b[0m     name \u001b[38;5;129;01mnot\u001b[39;00m \u001b[38;5;129;01min\u001b[39;00m \u001b[38;5;28mself\u001b[39m\u001b[38;5;241m.\u001b[39m_internal_names_set\n\u001b[0;32m   5897\u001b[0m     \u001b[38;5;129;01mand\u001b[39;00m name \u001b[38;5;129;01mnot\u001b[39;00m \u001b[38;5;129;01min\u001b[39;00m \u001b[38;5;28mself\u001b[39m\u001b[38;5;241m.\u001b[39m_metadata\n\u001b[0;32m   5898\u001b[0m     \u001b[38;5;129;01mand\u001b[39;00m name \u001b[38;5;129;01mnot\u001b[39;00m \u001b[38;5;129;01min\u001b[39;00m \u001b[38;5;28mself\u001b[39m\u001b[38;5;241m.\u001b[39m_accessors\n\u001b[0;32m   5899\u001b[0m     \u001b[38;5;129;01mand\u001b[39;00m \u001b[38;5;28mself\u001b[39m\u001b[38;5;241m.\u001b[39m_info_axis\u001b[38;5;241m.\u001b[39m_can_hold_identifiers_and_holds_name(name)\n\u001b[0;32m   5900\u001b[0m ):\n\u001b[0;32m   5901\u001b[0m     \u001b[38;5;28;01mreturn\u001b[39;00m \u001b[38;5;28mself\u001b[39m[name]\n\u001b[1;32m-> 5902\u001b[0m \u001b[38;5;28;01mreturn\u001b[39;00m \u001b[38;5;28mobject\u001b[39m\u001b[38;5;241m.\u001b[39m\u001b[38;5;21m__getattribute__\u001b[39m(\u001b[38;5;28mself\u001b[39m, name)\n",
      "\u001b[1;31mAttributeError\u001b[0m: 'DataFrame' object has no attribute 'dtype'"
     ]
    }
   ],
   "source": [
    "movies_pq.dtype()"
   ]
  },
  {
   "cell_type": "code",
   "execution_count": 19,
   "id": "548dcb9c",
   "metadata": {},
   "outputs": [
    {
     "ename": "KeyboardInterrupt",
     "evalue": "",
     "output_type": "error",
     "traceback": [
      "\u001b[1;31m---------------------------------------------------------------------------\u001b[0m",
      "\u001b[1;31mKeyboardInterrupt\u001b[0m                         Traceback (most recent call last)",
      "Cell \u001b[1;32mIn[19], line 1\u001b[0m\n\u001b[1;32m----> 1\u001b[0m \u001b[38;5;28;01mfor\u001b[39;00m _, review \u001b[38;5;129;01min\u001b[39;00m movies_pq\u001b[38;5;241m.\u001b[39miterrows():\n\u001b[0;32m      2\u001b[0m     \u001b[38;5;28;01mif\u001b[39;00m \u001b[38;5;28mlen\u001b[39m(review[\u001b[38;5;124m'\u001b[39m\u001b[38;5;124muser_id\u001b[39m\u001b[38;5;124m'\u001b[39m]) \u001b[38;5;241m<\u001b[39m \u001b[38;5;241m1\u001b[39m \u001b[38;5;129;01mor\u001b[39;00m \u001b[38;5;28mlen\u001b[39m(review[\u001b[38;5;124m'\u001b[39m\u001b[38;5;124mprod_id\u001b[39m\u001b[38;5;124m'\u001b[39m]) \u001b[38;5;241m<\u001b[39m \u001b[38;5;241m1\u001b[39m:\n\u001b[0;32m      3\u001b[0m         \u001b[38;5;28mprint\u001b[39m(\u001b[38;5;124m\"\u001b[39m\u001b[38;5;124merror\u001b[39m\u001b[38;5;124m\"\u001b[39m)\n",
      "File \u001b[1;32mc:\\Users\\tntma\\anaconda3\\Lib\\site-packages\\pandas\\core\\frame.py:1411\u001b[0m, in \u001b[0;36mDataFrame.iterrows\u001b[1;34m(self)\u001b[0m\n\u001b[0;32m   1409\u001b[0m klass \u001b[38;5;241m=\u001b[39m \u001b[38;5;28mself\u001b[39m\u001b[38;5;241m.\u001b[39m_constructor_sliced\n\u001b[0;32m   1410\u001b[0m \u001b[38;5;28;01mfor\u001b[39;00m k, v \u001b[38;5;129;01min\u001b[39;00m \u001b[38;5;28mzip\u001b[39m(\u001b[38;5;28mself\u001b[39m\u001b[38;5;241m.\u001b[39mindex, \u001b[38;5;28mself\u001b[39m\u001b[38;5;241m.\u001b[39mvalues):\n\u001b[1;32m-> 1411\u001b[0m     s \u001b[38;5;241m=\u001b[39m klass(v, index\u001b[38;5;241m=\u001b[39mcolumns, name\u001b[38;5;241m=\u001b[39mk)\u001b[38;5;241m.\u001b[39m__finalize__(\u001b[38;5;28mself\u001b[39m)\n\u001b[0;32m   1412\u001b[0m     \u001b[38;5;28;01myield\u001b[39;00m k, s\n",
      "File \u001b[1;32mc:\\Users\\tntma\\anaconda3\\Lib\\site-packages\\pandas\\core\\series.py:384\u001b[0m, in \u001b[0;36mSeries.__init__\u001b[1;34m(self, data, index, dtype, name, copy, fastpath)\u001b[0m\n\u001b[0;32m    380\u001b[0m         index \u001b[38;5;241m=\u001b[39m data\u001b[38;5;241m.\u001b[39mindex\n\u001b[0;32m    382\u001b[0m \u001b[38;5;28;01melse\u001b[39;00m:\n\u001b[1;32m--> 384\u001b[0m     name \u001b[38;5;241m=\u001b[39m ibase\u001b[38;5;241m.\u001b[39mmaybe_extract_name(name, data, \u001b[38;5;28mtype\u001b[39m(\u001b[38;5;28mself\u001b[39m))\n\u001b[0;32m    386\u001b[0m     \u001b[38;5;28;01mif\u001b[39;00m is_empty_data(data) \u001b[38;5;129;01mand\u001b[39;00m dtype \u001b[38;5;129;01mis\u001b[39;00m \u001b[38;5;28;01mNone\u001b[39;00m:\n\u001b[0;32m    387\u001b[0m         \u001b[38;5;66;03m# gh-17261\u001b[39;00m\n\u001b[0;32m    388\u001b[0m         warnings\u001b[38;5;241m.\u001b[39mwarn(\n\u001b[0;32m    389\u001b[0m             \u001b[38;5;124m\"\u001b[39m\u001b[38;5;124mThe default dtype for empty Series will be \u001b[39m\u001b[38;5;124m'\u001b[39m\u001b[38;5;124mobject\u001b[39m\u001b[38;5;124m'\u001b[39m\u001b[38;5;124m instead \u001b[39m\u001b[38;5;124m\"\u001b[39m\n\u001b[0;32m    390\u001b[0m             \u001b[38;5;124m\"\u001b[39m\u001b[38;5;124mof \u001b[39m\u001b[38;5;124m'\u001b[39m\u001b[38;5;124mfloat64\u001b[39m\u001b[38;5;124m'\u001b[39m\u001b[38;5;124m in a future version. Specify a dtype explicitly \u001b[39m\u001b[38;5;124m\"\u001b[39m\n\u001b[1;32m   (...)\u001b[0m\n\u001b[0;32m    393\u001b[0m             stacklevel\u001b[38;5;241m=\u001b[39mfind_stack_level(),\n\u001b[0;32m    394\u001b[0m         )\n",
      "File \u001b[1;32mc:\\Users\\tntma\\anaconda3\\Lib\\site-packages\\pandas\\core\\indexes\\base.py:7372\u001b[0m, in \u001b[0;36mmaybe_extract_name\u001b[1;34m(name, obj, cls)\u001b[0m\n\u001b[0;32m   7368\u001b[0m     \u001b[38;5;28;01mif\u001b[39;00m method \u001b[38;5;129;01mnot\u001b[39;00m \u001b[38;5;129;01min\u001b[39;00m [\u001b[38;5;124m\"\u001b[39m\u001b[38;5;124mleft\u001b[39m\u001b[38;5;124m\"\u001b[39m, \u001b[38;5;124m\"\u001b[39m\u001b[38;5;124mright\u001b[39m\u001b[38;5;124m\"\u001b[39m, \u001b[38;5;124m\"\u001b[39m\u001b[38;5;124minner\u001b[39m\u001b[38;5;124m\"\u001b[39m, \u001b[38;5;124m\"\u001b[39m\u001b[38;5;124mouter\u001b[39m\u001b[38;5;124m\"\u001b[39m]:\n\u001b[0;32m   7369\u001b[0m         \u001b[38;5;28;01mraise\u001b[39;00m \u001b[38;5;167;01mValueError\u001b[39;00m(\u001b[38;5;124mf\u001b[39m\u001b[38;5;124m\"\u001b[39m\u001b[38;5;124mdo not recognize join method \u001b[39m\u001b[38;5;132;01m{\u001b[39;00mmethod\u001b[38;5;132;01m}\u001b[39;00m\u001b[38;5;124m\"\u001b[39m)\n\u001b[1;32m-> 7372\u001b[0m \u001b[38;5;28;01mdef\u001b[39;00m \u001b[38;5;21mmaybe_extract_name\u001b[39m(name, obj, \u001b[38;5;28mcls\u001b[39m) \u001b[38;5;241m-\u001b[39m\u001b[38;5;241m>\u001b[39m Hashable:\n\u001b[0;32m   7373\u001b[0m \u001b[38;5;250m    \u001b[39m\u001b[38;5;124;03m\"\"\"\u001b[39;00m\n\u001b[0;32m   7374\u001b[0m \u001b[38;5;124;03m    If no name is passed, then extract it from data, validating hashability.\u001b[39;00m\n\u001b[0;32m   7375\u001b[0m \u001b[38;5;124;03m    \"\"\"\u001b[39;00m\n\u001b[0;32m   7376\u001b[0m     \u001b[38;5;28;01mif\u001b[39;00m name \u001b[38;5;129;01mis\u001b[39;00m \u001b[38;5;28;01mNone\u001b[39;00m \u001b[38;5;129;01mand\u001b[39;00m \u001b[38;5;28misinstance\u001b[39m(obj, (Index, ABCSeries)):\n\u001b[0;32m   7377\u001b[0m         \u001b[38;5;66;03m# Note we don't just check for \"name\" attribute since that would\u001b[39;00m\n\u001b[0;32m   7378\u001b[0m         \u001b[38;5;66;03m#  pick up e.g. dtype.name\u001b[39;00m\n",
      "\u001b[1;31mKeyboardInterrupt\u001b[0m: "
     ]
    }
   ],
   "source": [
    "for _, review in movies_pq.iterrows():\n",
    "    if len(review['user_id']) < 1 or len(review['prod_id']) < 1:\n",
    "        print(\"error\")"
   ]
  },
  {
   "cell_type": "markdown",
   "id": "ac70982e",
   "metadata": {},
   "source": [
    "perceber se há dados null"
   ]
  },
  {
   "cell_type": "code",
   "execution_count": null,
   "id": "82ad37fa",
   "metadata": {},
   "outputs": [],
   "source": [
    "target_year = \"1999\" # 1997: 126 nodes; 1998: 5029 nodes; 1999: \n",
    "\n",
    "# Create a subgraph for the year\n",
    "print(f\"Making edges...\")\n",
    "year_edges = [(u, v, d) for u, v, d in G.edges(data=True) if d.get('month').startswith(target_year)]\n",
    "G_year = nx.Graph()\n",
    "\n",
    "print(f\"Adding edges...\")\n",
    "G_year.add_edges_from(year_edges)\n",
    "\n",
    "print(\"Copying node attributes...\")\n",
    "for node in G_year.nodes:\n",
    "    if node in G:\n",
    "        G_year.nodes[node].update(G.nodes[node])\n",
    "\n",
    "print(\"Calculating numbers...\")\n",
    "node_types = nx.get_node_attributes(G, \"type\")\n",
    "filtered_users = set()\n",
    "filtered_products = set()\n",
    "for n in G_year.nodes:\n",
    "    if node_types.get(n) == \"user\":\n",
    "        filtered_users.add(n)\n",
    "    elif node_types.get(n) == \"product\":\n",
    "        filtered_products.add(n)\n",
    "        \n",
    "print(f\"For {target_year}, there are {len(filtered_users)} users, {len(filtered_products)} products and {G_year.number_of_edges()} edges (reviews).\")"
   ]
  },
  {
   "cell_type": "code",
   "execution_count": null,
   "id": "62bc5218",
   "metadata": {},
   "outputs": [],
   "source": [
    "# Plot the graph\n",
    "print(\"Plotting graph...\")\n",
    "plt.figure(figsize=(12, 8))\n",
    "pos = nx.spring_layout(G_year)\n",
    "\n",
    "# Draw user nodes\n",
    "print(\"Drawing user nodes...\")\n",
    "nx.draw_networkx_nodes(G_year, pos, nodelist=filtered_users, node_size=50, node_color=\"blue\", label=\"Users\")\n",
    "\n",
    "# Draw product nodes\n",
    "print(\"Drawing product nodes...\")\n",
    "nx.draw_networkx_nodes(G_year, pos, nodelist=filtered_products, node_size=50, node_color=\"red\", label=\"Products\")\n",
    "\n",
    "# Draw edges\n",
    "print(\"Drawing edges...\")\n",
    "nx.draw_networkx_edges(G_year, pos, alpha=0.5, edge_color=\"gray\")\n",
    "\n",
    "# Add a legend and title\n",
    "plt.title(f\"Users vs. Products for {target_year} ({G_year.number_of_nodes()} nodes)\")\n",
    "plt.legend()\n",
    "plt.axis(\"off\")  # Turn off the axis\n",
    "\n",
    "# save plot\n",
    "print(\"Saving plot...\")\n",
    "output_filename = f\"network_{target_year}.png\"  # Change this as needed\n",
    "plt.savefig(output_filename, format=\"png\", dpi=300, bbox_inches=\"tight\")\n",
    "print(f\"Plot saved as {output_filename}\")\n",
    "\n",
    "print(\"Showing plot\")\n",
    "plt.show()"
   ]
  },
  {
   "cell_type": "code",
   "execution_count": null,
   "id": "dee83364",
   "metadata": {
    "scrolled": true
   },
   "outputs": [],
   "source": [
    "# Debugging: Look-up odd the user/product names and see if they're really that\n",
    "print(\"Node types summary:\")\n",
    "for node, attr in G_year.nodes(data=True):\n",
    "    print(f\"Node: {node}, Type: {attr.get('type')}\")\n",
    "    product_edges = [(u, v) for u, v, attr in G_year.edges(data=True)\n",
    "                 if G_year.nodes[u].get('type') == 'product' and G_year.nodes[v].get('type') == 'product']\n",
    "print(f\"Product-Product Edges: {product_edges}\")\n",
    "for u, v in product_edges:\n",
    "    print(f\"Edge between products: {u} (type: {G_year.nodes[u]['type']}), {v} (type: {G_year.nodes[v]['type']})\")"
   ]
  },
  {
   "cell_type": "code",
   "execution_count": null,
   "id": "aa0df9a5",
   "metadata": {
    "scrolled": true
   },
   "outputs": [],
   "source": [
    "search_id = \"A12TMPWWVE0HRX\"  # Replace with your target ID\n",
    "\n",
    "with open(\"movies.txt\", \"r\", encoding=\"utf-8\", errors=\"ignore\") as f:\n",
    "    for line in f:\n",
    "        if search_id in line:\n",
    "            print(line.strip())  # Print the matching line"
   ]
  },
  {
   "cell_type": "code",
   "execution_count": null,
   "id": "44ed1701",
   "metadata": {},
   "outputs": [],
   "source": [
    "# Step 1: Replace user_ids with integers\n",
    "user_mapping = {}  # Maps user_id to integer\n",
    "user_counter = 1  # Start numbering from 1\n",
    "\n",
    "# Step 2: Create a new graph with updated node labels\n",
    "G_transformed = nx.Graph()\n",
    "\n",
    "for u, v, data in G.edges(data=True):\n",
    "    # Check if the node is a user or product\n",
    "    if not u.startswith(\"B\"):  # Assume product_id nodes start with \"B\"\n",
    "        if u not in user_mapping:\n",
    "            user_mapping[u] = user_counter\n",
    "            user_counter += 1\n",
    "        u_transformed = user_mapping[u]\n",
    "    else:\n",
    "        u_transformed = u\n",
    "\n",
    "    if not v.startswith(\"B\"):\n",
    "        if v not in user_mapping:\n",
    "            user_mapping[v] = user_counter\n",
    "            user_counter += 1\n",
    "        v_transformed = user_mapping[v]\n",
    "    else:\n",
    "        v_transformed = v\n",
    "\n",
    "    # Add the edge with transformed node labels\n",
    "    G_transformed.add_edge(u_transformed, v_transformed, **data)\n",
    "\n",
    "# Step 3: Filter edges for the target year\n",
    "year_edges = [(u, v, d) for u, v, d in G_transformed.edges(data=True) if d.get(\"month\").startswith(target_year)]\n",
    "G_year = nx.Graph()\n",
    "G_year.add_edges_from(year_edges)\n",
    "\n",
    "# Step 4: Separate nodes by type for coloring\n",
    "user_nodes = [n for n in G_year.nodes if isinstance(n, int)]  # User nodes are integers\n",
    "product_nodes = [n for n in G_year.nodes if not isinstance(n, int)]  # Product nodes are strings\n",
    "\n",
    "# Plot the graph\n",
    "plt.figure(figsize=(12, 8))\n",
    "pos = nx.spring_layout(G_year)\n",
    "\n",
    "# Draw user nodes (blue)\n",
    "nx.draw_networkx_nodes(G_year, pos, nodelist=user_nodes, node_size=50, node_color=\"blue\", label=\"Users\")\n",
    "# Draw product nodes (red)\n",
    "nx.draw_networkx_nodes(G_year, pos, nodelist=product_nodes, node_size=50, node_color=\"red\", label=\"Products\")\n",
    "\n",
    "# Draw edges\n",
    "nx.draw_networkx_edges(G_year, pos, alpha=0.5, edge_color=\"gray\")\n",
    "\n",
    "# Add optional labels for product nodes\n",
    "nx.draw_networkx_labels(G_year, pos, labels={n: n for n in product_nodes}, font_size=8, font_color=\"black\")\n",
    "\n",
    "# Add title and legend\n",
    "plt.title(f\"Network Visualization for {target_year}\")\n",
    "plt.legend()\n",
    "plt.axis(\"off\")\n",
    "plt.show()"
   ]
  },
  {
   "cell_type": "code",
   "execution_count": null,
   "id": "d08dcc63",
   "metadata": {},
   "outputs": [],
   "source": []
  }
 ],
 "metadata": {
  "kernelspec": {
   "display_name": "base",
   "language": "python",
   "name": "python3"
  },
  "language_info": {
   "codemirror_mode": {
    "name": "ipython",
    "version": 3
   },
   "file_extension": ".py",
   "mimetype": "text/x-python",
   "name": "python",
   "nbconvert_exporter": "python",
   "pygments_lexer": "ipython3",
   "version": "3.11.4"
  }
 },
 "nbformat": 4,
 "nbformat_minor": 5
}
